{
 "cells": [
  {
   "cell_type": "code",
   "execution_count": 1,
   "metadata": {},
   "outputs": [],
   "source": [
    "import pandas as pd"
   ]
  },
  {
   "cell_type": "code",
   "execution_count": 59,
   "metadata": {},
   "outputs": [],
   "source": [
    "agw0 = pd.read_stata(\"agw2000en_2.0.dta\")\n",
    "agw1 = pd.read_stata(\"agw2001en_2.0.dta\")\n",
    "agw2 = pd.read_stata(\"agw2002en_2.0.dta\")\n",
    "agw3 = pd.read_stata(\"agw2003en_2.0.dta\")\n",
    "agw4 = pd.read_stata(\"agw2004en_3.1.dta\")\n",
    "agw5 = pd.read_stata(\"agw2005en_3.0.dta\")\n",
    "agw6 = pd.read_stata(\"agw2006en_3.1.dta\")\n",
    "agw7 = pd.read_stata(\"agw2007en_3.0.dta\")\n",
    "agw8 = pd.read_stata(\"agw2008en_3.0.dta\")\n",
    "agw9 = pd.read_stata(\"agw2009en_3.0.dta\")\n",
    "agw10 = pd.read_stata(\"agw2010en_2.0.dta\")\n",
    "agw11 = pd.read_stata(\"agw2011en_3.0.dta\")\n",
    "agw11 = pd.read_stata(\"agw2011en_3.0.dta\")\n",
    "agw12 = pd.read_stata(\"agw2012en_3.0.dta\")\n",
    "agw13 = pd.read_stata(\"agw2013en_3.0.dta\")\n",
    "agw14 = pd.read_stata(\"agw2014en_2.0.dta\")\n",
    "agw15 = pd.read_stata(\"agw2015en_1.0.dta\")\n",
    "agw16 = pd.read_stata(\"agw2016en_1.0.dta\")\n",
    "agw17 = pd.read_stata(\"agw2017en_1.0.dta\")\n",
    "agw18 = pd.read_stata(\"agw2018en_1.0.dta\")\n",
    "\n",
    "agwlist = [agw0, agw1, agw2, agw3, agw4, agw5, agw6, agw7, agw8, agw9,\n",
    "          agw10, agw11, agw12, agw13, agw14, agw15, agw16, agw17, agw18]"
   ]
  },
  {
   "cell_type": "code",
   "execution_count": 69,
   "metadata": {},
   "outputs": [],
   "source": [
    "def calcNetWorth(row):\n",
    "    wealth = (row[\"b1b\"] + row[\"b2b\"] + row[\"b3b\"] + row[\"b4b\"] + row[\"b6b\"] + row[\"b7b\"] + row[\"b8b\"] + row[\"b12b\"] \n",
    "              + row[\"b13b\"] + row[\"b14b\"] + row[\"b15b\"] + row[\"b16b\"] + row[\"b17b\"] + row[\"b18b\"] + \n",
    "             row[\"b19ogb\"] + row[\"b19hyb\"] + row[\"b20b\"] + row[\"b21b\"] + row[\"b22b\"] + row[\"b23b\"] +\n",
    "             row[\"b24b\"] + row[\"b25b\"])\n",
    "    debt = (row[\"s1b\"] + row[\"s2b\"] + row[\"s3b\"] + row[\"s4b\"] + row[\"s5b\"] + row[\"s6b\"] + row[\"s7b\"] + row[\"s8b\"])\n",
    "    \n",
    "    # Door te checken of b26ogb > -1 zorg ik dat enkel rows zonder NaN hier worden gebruikt. Ze zijn of volledig Nan of niet\n",
    "    if row[\"b26ogb\"] > -1:\n",
    "        wealth += row[\"b26ogb\"] + row[\"b27ogb\"]\n",
    "        debt += row[\"b26hyb\"] + row[\"b27hyb\"]\n",
    "        if (x.index == \"b26vzb\"):\n",
    "            wealth += row[\"b26vzb\"] + row[\"b27vzb\"]\n",
    "            \n",
    "    if x.index == \"h19vzb\":\n",
    "        wealth += row[\"b19vzb\"]\n",
    "    \n",
    "    if x.index == \"b28b\":\n",
    "         wealth += row[\"b28b\"] + row[\"b29b\"] + row[\"b30b\"]\n",
    "    \n",
    "    if x.index == \"x1b\":\n",
    "        debt += row[\"x1b\"]\n",
    "    netWorth = wealth - debt\n",
    "    \n",
    "    if x.index == \"b11b\":\n",
    "        wealth += row[\"b11b\"]\n",
    "\n",
    "    return netWorth"
   ]
  },
  {
   "cell_type": "code",
   "execution_count": 70,
   "metadata": {},
   "outputs": [
    {
     "name": "stderr",
     "output_type": "stream",
     "text": [
      "/home/niels/anaconda3/lib/python3.6/site-packages/pandas/core/indexes/base.py:3846: FutureWarning: elementwise comparison failed; returning scalar instead, but in the future will perform elementwise comparison\n",
      "  result = op(self.values, np.asarray(other))\n"
     ]
    }
   ],
   "source": [
    "for x in agwlist:\n",
    "    x = x[x.b1b.notnull()]\n",
    "    if x.index == \"b11b\":\n",
    "        x = x[x.b11b.notnull()]\n"
   ]
  },
  {
   "cell_type": "code",
   "execution_count": 71,
   "metadata": {},
   "outputs": [
    {
     "name": "stderr",
     "output_type": "stream",
     "text": [
      "/home/niels/anaconda3/lib/python3.6/site-packages/pandas/core/indexes/base.py:3846: FutureWarning: elementwise comparison failed; returning scalar instead, but in the future will perform elementwise comparison\n",
      "  result = op(self.values, np.asarray(other))\n"
     ]
    }
   ],
   "source": [
    "for x in agwlist:\n",
    "    x[\"netWorth\"] = x.apply(calcNetWorth, axis = 1)"
   ]
  },
  {
   "cell_type": "code",
   "execution_count": 73,
   "metadata": {},
   "outputs": [],
   "source": [
    "def dummyGroup(row):\n",
    "    if row[\"b26oga\"] == 1:\n",
    "        return 1\n",
    "    else:\n",
    "        return 0\n",
    "        "
   ]
  },
  {
   "cell_type": "code",
   "execution_count": 75,
   "metadata": {},
   "outputs": [],
   "source": [
    "for x in agwlist:\n",
    "    x[\"treated\"] = x.apply(dummyGroup, axis = 1)"
   ]
  },
  {
   "cell_type": "code",
   "execution_count": 76,
   "metadata": {},
   "outputs": [],
   "source": [
    "agw0[\"year\"] = 2000\n",
    "agw1[\"year\"] = 2001\n",
    "agw2[\"year\"] = 2002\n",
    "agw3[\"year\"] = 2003\n",
    "agw4[\"year\"] = 2004\n",
    "agw5[\"year\"] = 2005\n",
    "agw6[\"year\"] = 2006\n",
    "agw7[\"year\"] = 2007\n",
    "agw8[\"year\"] = 2008\n",
    "agw9[\"year\"] = 2009\n",
    "agw10[\"year\"] = 2010\n",
    "agw11[\"year\"] = 2011\n",
    "agw12[\"year\"] = 2012\n",
    "agw13[\"year\"] = 2013\n",
    "agw14[\"year\"] = 2014\n",
    "agw15[\"year\"] = 2015\n",
    "agw16[\"year\"] = 2016\n",
    "agw17[\"year\"] = 2017\n",
    "agw18[\"year\"] = 2018"
   ]
  },
  {
   "cell_type": "code",
   "execution_count": 80,
   "metadata": {},
   "outputs": [],
   "source": [
    "agw0.to_stata(\"agw2000.dta\")\n",
    "agw1.to_stata(\"agw2001.dta\")\n",
    "agw2.to_stata(\"agw2002.dta\")\n",
    "agw3.to_stata(\"agw2003.dta\")\n",
    "agw4.to_stata(\"agw2004.dta\")\n",
    "agw5.to_stata(\"agw2005.dta\")\n",
    "agw6.to_stata(\"agw2006.dta\")\n",
    "agw7.to_stata(\"agw2007.dta\")\n",
    "agw8.to_stata(\"agw2008.dta\")\n",
    "agw9.to_stata(\"agw2009.dta\")\n",
    "agw10.to_stata(\"agw2010.dta\")\n",
    "agw11.to_stata(\"agw2011.dta\")\n",
    "agw12.to_stata(\"agw2012.dta\")\n",
    "agw13.to_stata(\"agw2013.dta\")\n",
    "agw14.to_stata(\"agw2014.dta\")\n",
    "agw15.to_stata(\"agw2015.dta\")\n",
    "agw16.to_stata(\"agw2016.dta\")\n",
    "agw17.to_stata(\"agw2017.dta\")\n",
    "agw18.to_stata(\"agw2018.dta\")"
   ]
  },
  {
   "cell_type": "code",
   "execution_count": null,
   "metadata": {},
   "outputs": [],
   "source": []
  }
 ],
 "metadata": {
  "kernelspec": {
   "display_name": "Python 3",
   "language": "python",
   "name": "python3"
  },
  "language_info": {
   "codemirror_mode": {
    "name": "ipython",
    "version": 3
   },
   "file_extension": ".py",
   "mimetype": "text/x-python",
   "name": "python",
   "nbconvert_exporter": "python",
   "pygments_lexer": "ipython3",
   "version": "3.6.4"
  }
 },
 "nbformat": 4,
 "nbformat_minor": 2
}
