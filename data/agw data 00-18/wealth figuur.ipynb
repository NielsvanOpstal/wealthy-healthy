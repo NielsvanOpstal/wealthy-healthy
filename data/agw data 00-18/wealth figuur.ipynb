{
 "cells": [
  {
   "cell_type": "code",
   "execution_count": 2,
   "metadata": {},
   "outputs": [],
   "source": [
    "import pandas as pd"
   ]
  },
  {
   "cell_type": "code",
   "execution_count": 3,
   "metadata": {},
   "outputs": [],
   "source": [
    "agw0 = pd.read_stata(\"agw2000.dta\")\n",
    "agw1 = pd.read_stata(\"agw2001.dta\")\n",
    "agw2 = pd.read_stata(\"agw2002.dta\")\n",
    "agw3 = pd.read_stata(\"agw2003.dta\")\n",
    "agw4 = pd.read_stata(\"agw2004.dta\")\n",
    "agw5 = pd.read_stata(\"agw2005.dta\")\n",
    "agw6 = pd.read_stata(\"agw2006.dta\")\n",
    "agw7 = pd.read_stata(\"agw2007.dta\")\n",
    "agw8 = pd.read_stata(\"agw2008.dta\")\n",
    "agw9 = pd.read_stata(\"agw2009.dta\")\n",
    "agw10 = pd.read_stata(\"agw2010.dta\")\n",
    "agw11 = pd.read_stata(\"agw2011.dta\")\n",
    "agw11 = pd.read_stata(\"agw2011.dta\")\n",
    "agw12 = pd.read_stata(\"agw2012.dta\")\n",
    "agw13 = pd.read_stata(\"agw2013.dta\")\n",
    "agw14 = pd.read_stata(\"agw2014.dta\")\n",
    "agw15 = pd.read_stata(\"agw2015.dta\")\n",
    "agw16 = pd.read_stata(\"agw2016.dta\")\n",
    "agw17 = pd.read_stata(\"agw2017.dta\")\n",
    "agw18 = pd.read_stata(\"agw2018.dta\")\n",
    "\n",
    "agwlist = [agw0, agw1, agw2, agw3, agw4, agw5, agw6, agw7, agw8, agw9,\n",
    "          agw10, agw11, agw12, agw13, agw14, agw15, agw16, agw17, agw18]"
   ]
  },
  {
   "cell_type": "code",
   "execution_count": 69,
   "metadata": {},
   "outputs": [],
   "source": [
    "def calcNetWorth(row):\n",
    "    wealth = (row[\"b1b\"] + row[\"b2b\"] + row[\"b3b\"] + row[\"b4b\"] + row[\"b6b\"] + row[\"b7b\"] + row[\"b8b\"] + row[\"b12b\"] \n",
    "              + row[\"b13b\"] + row[\"b14b\"] + row[\"b15b\"] + row[\"b16b\"] + row[\"b17b\"] + row[\"b18b\"] + \n",
    "             row[\"b19ogb\"] + row[\"b19hyb\"] + row[\"b20b\"] + row[\"b21b\"] + row[\"b22b\"] + row[\"b23b\"] +\n",
    "             row[\"b24b\"] + row[\"b25b\"])\n",
    "    debt = (row[\"s1b\"] + row[\"s2b\"] + row[\"s3b\"] + row[\"s4b\"] + row[\"s5b\"] + row[\"s6b\"] + row[\"s7b\"] + row[\"s8b\"])\n",
    "    \n",
    "    # Door te checken of b26ogb > -1 zorg ik dat enkel rows zonder NaN hier worden gebruikt. Ze zijn of volledig Nan of niet\n",
    "    if row[\"b26ogb\"] > -1:\n",
    "        wealth += row[\"b26ogb\"] + row[\"b27ogb\"]\n",
    "        debt += row[\"b26hyb\"] + row[\"b27hyb\"]\n",
    "        if (x.index == \"b26vzb\"):\n",
    "            wealth += row[\"b26vzb\"] + row[\"b27vzb\"]\n",
    "            \n",
    "    if x.index == \"h19vzb\":\n",
    "        wealth += row[\"b19vzb\"]\n",
    "    \n",
    "    if x.index == \"b28b\":\n",
    "         wealth += row[\"b28b\"] + row[\"b29b\"] + row[\"b30b\"]\n",
    "    \n",
    "    if x.index == \"x1b\":\n",
    "        debt += row[\"x1b\"]\n",
    "    netWorth = wealth - debt\n",
    "    \n",
    "    if x.index == \"b11b\":\n",
    "        wealth += row[\"b11b\"]\n",
    "\n",
    "    return netWorth"
   ]
  },
  {
   "cell_type": "code",
   "execution_count": 70,
   "metadata": {},
   "outputs": [
    {
     "name": "stderr",
     "output_type": "stream",
     "text": [
      "/home/niels/anaconda3/lib/python3.6/site-packages/pandas/core/indexes/base.py:3846: FutureWarning: elementwise comparison failed; returning scalar instead, but in the future will perform elementwise comparison\n",
      "  result = op(self.values, np.asarray(other))\n"
     ]
    }
   ],
   "source": [
    "for x in agwlist:\n",
    "    x = x[x.b1b.notnull()]\n",
    "    if x.index == \"b11b\":\n",
    "        x = x[x.b11b.notnull()]\n"
   ]
  },
  {
   "cell_type": "code",
   "execution_count": 71,
   "metadata": {},
   "outputs": [
    {
     "name": "stderr",
     "output_type": "stream",
     "text": [
      "/home/niels/anaconda3/lib/python3.6/site-packages/pandas/core/indexes/base.py:3846: FutureWarning: elementwise comparison failed; returning scalar instead, but in the future will perform elementwise comparison\n",
      "  result = op(self.values, np.asarray(other))\n"
     ]
    }
   ],
   "source": [
    "for x in agwlist:\n",
    "    x[\"netWorth\"] = x.apply(calcNetWorth, axis = 1)"
   ]
  },
  {
   "cell_type": "code",
   "execution_count": 73,
   "metadata": {},
   "outputs": [],
   "source": [
    "def dummyGroup(row):\n",
    "    if row[\"b26oga\"] == 1:\n",
    "        return 1\n",
    "    else:\n",
    "        return 0\n",
    "        "
   ]
  },
  {
   "cell_type": "code",
   "execution_count": 75,
   "metadata": {},
   "outputs": [],
   "source": [
    "for x in agwlist:\n",
    "    x[\"treated\"] = x.apply(dummyGroup, axis = 1)"
   ]
  },
  {
   "cell_type": "code",
   "execution_count": 76,
   "metadata": {},
   "outputs": [],
   "source": [
    "agw0[\"year\"] = 2000\n",
    "agw1[\"year\"] = 2001\n",
    "agw2[\"year\"] = 2002\n",
    "agw3[\"year\"] = 2003\n",
    "agw4[\"year\"] = 2004\n",
    "agw5[\"year\"] = 2005\n",
    "agw6[\"year\"] = 2006\n",
    "agw7[\"year\"] = 2007\n",
    "agw8[\"year\"] = 2008\n",
    "agw9[\"year\"] = 2009\n",
    "agw10[\"year\"] = 2010\n",
    "agw11[\"year\"] = 2011\n",
    "agw12[\"year\"] = 2012\n",
    "agw13[\"year\"] = 2013\n",
    "agw14[\"year\"] = 2014\n",
    "agw15[\"year\"] = 2015\n",
    "agw16[\"year\"] = 2016\n",
    "agw17[\"year\"] = 2017\n",
    "agw18[\"year\"] = 2018"
   ]
  },
  {
   "cell_type": "code",
   "execution_count": 80,
   "metadata": {},
   "outputs": [],
   "source": [
    "agw0.to_stata(\"agw2000.dta\")\n",
    "agw1.to_stata(\"agw2001.dta\")\n",
    "agw2.to_stata(\"agw2002.dta\")\n",
    "agw3.to_stata(\"agw2003.dta\")\n",
    "agw4.to_stata(\"agw2004.dta\")\n",
    "agw5.to_stata(\"agw2005.dta\")\n",
    "agw6.to_stata(\"agw2006.dta\")\n",
    "agw7.to_stata(\"agw2007.dta\")\n",
    "agw8.to_stata(\"agw2008.dta\")\n",
    "agw9.to_stata(\"agw2009.dta\")\n",
    "agw10.to_stata(\"agw2010.dta\")\n",
    "agw11.to_stata(\"agw2011.dta\")\n",
    "agw12.to_stata(\"agw2012.dta\")\n",
    "agw13.to_stata(\"agw2013.dta\")\n",
    "agw14.to_stata(\"agw2014.dta\")\n",
    "agw15.to_stata(\"agw2015.dta\")\n",
    "agw16.to_stata(\"agw2016.dta\")\n",
    "agw17.to_stata(\"agw2017.dta\")\n",
    "agw18.to_stata(\"agw2018.dta\")"
   ]
  },
  {
   "cell_type": "code",
   "execution_count": 5,
   "metadata": {},
   "outputs": [],
   "source": [
    "agw = pd.concat(agwlist)"
   ]
  },
  {
   "cell_type": "code",
   "execution_count": 6,
   "metadata": {},
   "outputs": [],
   "source": [
    "agw.to_stata(\"agw00-18.dta\")"
   ]
  },
  {
   "cell_type": "code",
   "execution_count": 4,
   "metadata": {},
   "outputs": [
    {
     "data": {
      "text/plain": [
       "0       212750.000000\n",
       "1        23749.999512\n",
       "2         1150.000000\n",
       "3       197972.000000\n",
       "4            0.000000\n",
       "5         4167.999756\n",
       "6        41337.946045\n",
       "7       235859.997803\n",
       "8         3523.000000\n",
       "9         -750.000000\n",
       "10       20716.000000\n",
       "11      483943.015625\n",
       "12      217685.000000\n",
       "13           0.000000\n",
       "14       42327.000000\n",
       "15       80750.000000\n",
       "16        5852.500000\n",
       "17        2274.999878\n",
       "18      219526.983887\n",
       "19        6417.564072\n",
       "20      364480.000000\n",
       "21        4944.000000\n",
       "22      420500.000000\n",
       "23        4810.000244\n",
       "24       64125.001953\n",
       "25           0.000000\n",
       "26       90856.015625\n",
       "27       38200.000028\n",
       "28      -11196.780426\n",
       "29       81750.000000\n",
       "            ...      \n",
       "2186              NaN\n",
       "2187              NaN\n",
       "2188              NaN\n",
       "2189              NaN\n",
       "2190              NaN\n",
       "2191              NaN\n",
       "2192              NaN\n",
       "2193              NaN\n",
       "2194              NaN\n",
       "2195              NaN\n",
       "2196              NaN\n",
       "2197              NaN\n",
       "2198              NaN\n",
       "2199              NaN\n",
       "2200              NaN\n",
       "2201              NaN\n",
       "2202              NaN\n",
       "2203              NaN\n",
       "2204              NaN\n",
       "2205              NaN\n",
       "2206              NaN\n",
       "2207              NaN\n",
       "2208              NaN\n",
       "2209              NaN\n",
       "2210              NaN\n",
       "2211              NaN\n",
       "2212              NaN\n",
       "2213              NaN\n",
       "2214              NaN\n",
       "2215              NaN\n",
       "Name: netWorth, Length: 2216, dtype: float64"
      ]
     },
     "execution_count": 4,
     "metadata": {},
     "output_type": "execute_result"
    }
   ],
   "source": [
    "agw10.netWorth"
   ]
  },
  {
   "cell_type": "code",
   "execution_count": 11,
   "metadata": {},
   "outputs": [],
   "source": [
    "means = agw0.groupby(\"treated\")[\"netWorth\"].mean()"
   ]
  },
  {
   "cell_type": "code",
   "execution_count": 15,
   "metadata": {},
   "outputs": [
    {
     "name": "stdout",
     "output_type": "stream",
     "text": [
      "[1, 2, 3, 4, 5]\n"
     ]
    }
   ],
   "source": [
    "data = {\n",
    "    \"year\" : [1,2,3,4]\n",
    "}\n",
    "data[\"year\"].append(5)\n",
    "print(data[\"year\"])"
   ]
  },
  {
   "cell_type": "code",
   "execution_count": null,
   "metadata": {},
   "outputs": [],
   "source": []
  },
  {
   "cell_type": "code",
   "execution_count": null,
   "metadata": {},
   "outputs": [],
   "source": []
  },
  {
   "cell_type": "code",
   "execution_count": 27,
   "metadata": {},
   "outputs": [],
   "source": [
    "means = agw0.groupby(\"treated\")[\"netWorth\"].mean()"
   ]
  },
  {
   "cell_type": "code",
   "execution_count": 28,
   "metadata": {},
   "outputs": [
    {
     "name": "stdout",
     "output_type": "stream",
     "text": [
      "treated\n",
      "0     49898.036478\n",
      "1    459857.070072\n",
      "Name: netWorth, dtype: float64\n"
     ]
    }
   ],
   "source": [
    "print(means)"
   ]
  },
  {
   "cell_type": "code",
   "execution_count": null,
   "metadata": {},
   "outputs": [],
   "source": []
  },
  {
   "cell_type": "code",
   "execution_count": 29,
   "metadata": {},
   "outputs": [
    {
     "name": "stdout",
     "output_type": "stream",
     "text": [
      "treated\n",
      "0     49898.036478\n",
      "1    459857.070072\n",
      "Name: netWorth, dtype: float64\n",
      "treated\n",
      "0     54270.211033\n",
      "1    516378.642355\n",
      "Name: netWorth, dtype: float64\n",
      "treated\n",
      "0     49262.318206\n",
      "1    508504.372924\n",
      "Name: netWorth, dtype: float64\n",
      "treated\n",
      "0     22177.316263\n",
      "1    221435.619622\n",
      "Name: netWorth, dtype: float64\n",
      "treated\n",
      "0     24347.757056\n",
      "1    228138.888204\n",
      "Name: netWorth, dtype: float64\n",
      "treated\n",
      "0     24027.295059\n",
      "1    238721.270544\n",
      "Name: netWorth, dtype: float64\n",
      "treated\n",
      "0     23951.999188\n",
      "1    251272.912565\n",
      "Name: netWorth, dtype: float64\n",
      "treated\n",
      "0     24413.580111\n",
      "1    264627.753846\n",
      "Name: netWorth, dtype: float64\n",
      "treated\n",
      "0     27907.192232\n",
      "1    272022.148156\n",
      "Name: netWorth, dtype: float64\n",
      "treated\n",
      "0     34243.676014\n",
      "1    269338.766520\n",
      "Name: netWorth, dtype: float64\n",
      "treated\n",
      "0    3.038469e+04\n",
      "1    5.487676e+08\n",
      "Name: netWorth, dtype: float64\n",
      "treated\n",
      "0     33900.677034\n",
      "1    287586.649334\n",
      "Name: netWorth, dtype: float64\n",
      "treated\n",
      "0     38268.861677\n",
      "1    280092.368467\n",
      "Name: netWorth, dtype: float64\n",
      "treated\n",
      "0     27067.070869\n",
      "1    231617.892784\n",
      "Name: netWorth, dtype: float64\n",
      "treated\n",
      "0     30064.745881\n",
      "1    222804.722229\n",
      "Name: netWorth, dtype: float64\n",
      "treated\n",
      "0     30746.016925\n",
      "1    238020.112883\n",
      "Name: netWorth, dtype: float64\n",
      "treated\n",
      "0     30237.137836\n",
      "1    248988.556938\n",
      "Name: netWorth, dtype: float64\n",
      "treated\n",
      "0     28603.262694\n",
      "1    245795.215315\n",
      "Name: netWorth, dtype: float64\n",
      "treated\n",
      "0     25457.813864\n",
      "1    253416.698089\n",
      "Name: netWorth, dtype: float64\n"
     ]
    }
   ],
   "source": [
    "data = {\n",
    "    \"year\" : [],\n",
    "    \"controlGroup\" : [],\n",
    "    \"treatmentGroup\" : []\n",
    "}\n",
    "year = 2000\n",
    "for x in agwlist:\n",
    "    means = x.groupby(\"treated\")[\"netWorth\"].mean()\n",
    "    print(means)\n",
    "    data[\"year\"].append(year)\n",
    "    year += 1\n",
    "    data[\"controlGroup\"].append(means[0])\n",
    "    data[\"treatmentGroup\"].append(means[1])\n",
    "    "
   ]
  },
  {
   "cell_type": "code",
   "execution_count": null,
   "metadata": {},
   "outputs": [],
   "source": []
  },
  {
   "cell_type": "code",
   "execution_count": 30,
   "metadata": {},
   "outputs": [],
   "source": [
    "means = pd.DataFrame(data, columns = [\"year\", \"controlGroup\", \"treatmentGroup\"])"
   ]
  },
  {
   "cell_type": "code",
   "execution_count": null,
   "metadata": {},
   "outputs": [],
   "source": []
  },
  {
   "cell_type": "code",
   "execution_count": 31,
   "metadata": {
    "scrolled": true
   },
   "outputs": [
    {
     "name": "stdout",
     "output_type": "stream",
     "text": [
      "    year  controlGroup  treatmentGroup\n",
      "0   2000  49898.036478    4.598571e+05\n",
      "1   2001  54270.211033    5.163786e+05\n",
      "2   2002  49262.318206    5.085044e+05\n",
      "3   2003  22177.316263    2.214356e+05\n",
      "4   2004  24347.757056    2.281389e+05\n",
      "5   2005  24027.295059    2.387213e+05\n",
      "6   2006  23951.999188    2.512729e+05\n",
      "7   2007  24413.580111    2.646278e+05\n",
      "8   2008  27907.192232    2.720221e+05\n",
      "9   2009  34243.676014    2.693388e+05\n",
      "10  2010  30384.694411    5.487676e+08\n",
      "11  2011  33900.677034    2.875866e+05\n",
      "12  2012  38268.861677    2.800924e+05\n",
      "13  2013  27067.070869    2.316179e+05\n",
      "14  2014  30064.745881    2.228047e+05\n",
      "15  2015  30746.016925    2.380201e+05\n",
      "16  2016  30237.137836    2.489886e+05\n",
      "17  2017  28603.262694    2.457952e+05\n",
      "18  2018  25457.813864    2.534167e+05\n"
     ]
    }
   ],
   "source": [
    "print(means)"
   ]
  },
  {
   "cell_type": "code",
   "execution_count": 32,
   "metadata": {},
   "outputs": [],
   "source": [
    "means.to_stata(\"means.dta\")"
   ]
  },
  {
   "cell_type": "code",
   "execution_count": null,
   "metadata": {},
   "outputs": [],
   "source": []
  },
  {
   "cell_type": "code",
   "execution_count": null,
   "metadata": {},
   "outputs": [],
   "source": []
  },
  {
   "cell_type": "code",
   "execution_count": null,
   "metadata": {},
   "outputs": [],
   "source": []
  },
  {
   "cell_type": "code",
   "execution_count": null,
   "metadata": {},
   "outputs": [],
   "source": []
  },
  {
   "cell_type": "code",
   "execution_count": null,
   "metadata": {},
   "outputs": [],
   "source": []
  },
  {
   "cell_type": "code",
   "execution_count": null,
   "metadata": {},
   "outputs": [],
   "source": []
  },
  {
   "cell_type": "code",
   "execution_count": null,
   "metadata": {},
   "outputs": [],
   "source": []
  },
  {
   "cell_type": "code",
   "execution_count": 10,
   "metadata": {},
   "outputs": [
    {
     "data": {
      "text/plain": [
       "Int64Index([   0,    1,    2,    3,    4,    5,    6,    7,    8,    9,\n",
       "            ...\n",
       "            1979, 1980, 1981, 1982, 1983, 1984, 1985, 1986, 1987, 1988],\n",
       "           dtype='int64', length=1989)"
      ]
     },
     "execution_count": 10,
     "metadata": {},
     "output_type": "execute_result"
    }
   ],
   "source": []
  },
  {
   "cell_type": "code",
   "execution_count": null,
   "metadata": {},
   "outputs": [],
   "source": []
  },
  {
   "cell_type": "code",
   "execution_count": null,
   "metadata": {},
   "outputs": [],
   "source": []
  },
  {
   "cell_type": "code",
   "execution_count": null,
   "metadata": {},
   "outputs": [],
   "source": []
  },
  {
   "cell_type": "code",
   "execution_count": null,
   "metadata": {},
   "outputs": [],
   "source": []
  }
 ],
 "metadata": {
  "kernelspec": {
   "display_name": "Python 3",
   "language": "python",
   "name": "python3"
  },
  "language_info": {
   "codemirror_mode": {
    "name": "ipython",
    "version": 3
   },
   "file_extension": ".py",
   "mimetype": "text/x-python",
   "name": "python",
   "nbconvert_exporter": "python",
   "pygments_lexer": "ipython3",
   "version": "3.6.4"
  }
 },
 "nbformat": 4,
 "nbformat_minor": 2
}
