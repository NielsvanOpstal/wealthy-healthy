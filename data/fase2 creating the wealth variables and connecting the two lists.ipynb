{
 "cells": [
  {
   "cell_type": "code",
   "execution_count": 2,
   "metadata": {},
   "outputs": [],
   "source": [
    "import pandas as pd\n",
    "import numpy as np\n",
    "import matplotlib.pyplot as plt\n",
    "import statsmodels.formula.api as sm\n",
    "from scipy import stats\n",
    "agw2017 = pd.read_stata(\"agw2017\")\n",
    "agw2013 = pd.read_stata(\"agw2013\")\n",
    "agw2007 = pd.read_stata(\"agw2007\")\n",
    "\n",
    "gez2017 = pd.read_stata(\"gez2017\")\n",
    "gez2013 = pd.read_stata(\"gez2013\")\n",
    "gez2007 = pd.read_stata(\"gez2007\")\n",
    "\n",
    "\n"
   ]
  },
  {
   "cell_type": "code",
   "execution_count": null,
   "metadata": {},
   "outputs": [],
   "source": []
  },
  {
   "cell_type": "code",
   "execution_count": 3,
   "metadata": {
    "scrolled": true
   },
   "outputs": [
    {
     "name": "stdout",
     "output_type": "stream",
     "text": [
      "0       225000.000000\n",
      "1       220000.000000\n",
      "2                 NaN\n",
      "3            0.000000\n",
      "4                 NaN\n",
      "5       255000.000000\n",
      "6       150000.000000\n",
      "7                 NaN\n",
      "8       175000.000000\n",
      "9       200000.000000\n",
      "10      260000.015625\n",
      "11      200000.000000\n",
      "12                NaN\n",
      "13           0.000000\n",
      "14           0.000000\n",
      "15                NaN\n",
      "16           0.000000\n",
      "17      400000.000000\n",
      "18                NaN\n",
      "19      545000.000000\n",
      "20           0.000000\n",
      "21           0.000000\n",
      "22      245000.000000\n",
      "23           0.000000\n",
      "24           0.000000\n",
      "25      125000.000000\n",
      "26      175000.000000\n",
      "27      200000.000000\n",
      "28      479999.968750\n",
      "29      400000.000000\n",
      "            ...      \n",
      "2011              NaN\n",
      "2012              NaN\n",
      "2013         0.000000\n",
      "2014         0.000000\n",
      "2015    260000.015625\n",
      "2016              NaN\n",
      "2017              NaN\n",
      "2018    255000.000000\n",
      "2019              NaN\n",
      "2020         0.000000\n",
      "2021              NaN\n",
      "2022         0.000000\n",
      "2023    370000.000000\n",
      "2024              NaN\n",
      "2025         0.000000\n",
      "2026    220000.000000\n",
      "2027         0.000000\n",
      "2028              NaN\n",
      "2029              NaN\n",
      "2030    227350.156250\n",
      "2031    320000.000000\n",
      "2032              NaN\n",
      "2033    380000.000000\n",
      "2034              NaN\n",
      "2035    180000.000000\n",
      "2036              NaN\n",
      "2037         0.000000\n",
      "2038    350000.000000\n",
      "2039    110000.000000\n",
      "2040         0.000000\n",
      "Name: b26ogb, Length: 2041, dtype: float64\n"
     ]
    }
   ],
   "source": [
    "print(agw2013[\"b26ogb\"])"
   ]
  },
  {
   "cell_type": "markdown",
   "metadata": {},
   "source": [
    "Vragenlijst Wonen en Hypotheken\n",
    "B26Og eigenaar van woning (1=ja, 0=nee)\n",
    "B26Hy hypotheken op de woning\n",
    "B26Vz cash value levensverzekering hypotheek woning\n",
    "B27Og eigenaar van tweede woning (1=ja, 0=nee)\n",
    "B27Hy hypotheken op tweede woning\n",
    "B27Vz cash value levensverzekering hypotheek tweede woning"
   ]
  },
  {
   "cell_type": "markdown",
   "metadata": {},
   "source": [
    "### Eerst maak ik de Net-worth variabele\n",
    "\n",
    "Dit doe ik dmv een functie die alle bezittingen (b1b, b2b, ..., b30b) bij elkaar optelt en daar de schulden (s1b, s2b, ..., s8b, x1b) vanaf trekt."
   ]
  },
  {
   "cell_type": "code",
   "execution_count": 4,
   "metadata": {},
   "outputs": [],
   "source": [
    "def calcWealth(row):\n",
    "    wealth = (row[\"b1b\"] + row[\"b2b\"] + row[\"b3b\"] + row[\"b4b\"] + row[\"b6b\"] + row[\"b7b\"] + row[\"b8b\"] + row[\"b11b\"]\n",
    "              + row[\"b12b\"] + row[\"b13b\"] + row[\"b14b\"] + row[\"b15b\"] + row[\"b16b\"] + row[\"b17b\"] + row[\"b18b\"] + \n",
    "             row[\"b19ogb\"] + row[\"b19hyb\"] + row[\"b19vzb\"] + row[\"b20b\"] + row[\"b21b\"] + row[\"b22b\"] + row[\"b23b\"] +\n",
    "             row[\"b24b\"] + row[\"b25b\"] + row[\"b28b\"] + row[\"b29b\"] + row[\"b30b\"])\n",
    "    # Door te checken of b26ogb > -1 zorg ik dat enkel rows zonder NaN hier worden gebruikt. Ze zijn of volledig Nan of niet\n",
    "    if row[\"b26ogb\"] > -1:\n",
    "        wealth += row[\"b26ogb\"] + row[\"b26vzb\"] + row[\"b27ogb\"] + row[\"b27vzb\"]\n",
    "    return wealth"
   ]
  },
  {
   "cell_type": "code",
   "execution_count": 5,
   "metadata": {},
   "outputs": [],
   "source": [
    "def calcDebt(row):\n",
    "    debt = (row[\"s1b\"] + row[\"s2b\"] + row[\"s3b\"] + row[\"s4b\"] + row[\"s5b\"] + row[\"s6b\"] + row[\"s7b\"] + row[\"s8b\"] +\n",
    "           row[\"x1b\"]) \n",
    "    # Door te checken of b26ogb > -1 zorg ik dat enkel rows zonder NaN hier worden gebruikt. Ze zijn of volledig Nan of niet\n",
    "    if row[\"b26ogb\"] > -1:\n",
    "        debt += row[\"b26hyb\"] + row[\"b27hyb\"]\n",
    "    \n",
    "    return debt"
   ]
  },
  {
   "cell_type": "code",
   "execution_count": 6,
   "metadata": {},
   "outputs": [],
   "source": [
    "def calcNetWorth(row):\n",
    "    netWorth = row[\"wealth\"] - row[\"debt\"]\n",
    "    return netWorth"
   ]
  },
  {
   "cell_type": "code",
   "execution_count": 7,
   "metadata": {},
   "outputs": [],
   "source": [
    "agw2017[\"debt\"] = agw2017.apply(calcDebt, axis = 1)\n",
    "agw2013[\"debt\"] = agw2013.apply(calcDebt, axis = 1)\n",
    "agw2007[\"debt\"] = agw2007.apply(calcDebt, axis = 1)\n",
    "\n",
    "\n"
   ]
  },
  {
   "cell_type": "code",
   "execution_count": 8,
   "metadata": {},
   "outputs": [],
   "source": [
    "agw2017[\"wealth\"] = agw2017.apply(calcWealth, axis = 1)\n",
    "agw2013[\"wealth\"] = agw2013.apply(calcWealth, axis = 1)\n",
    "agw2007[\"wealth\"] = agw2007.apply(calcWealth, axis = 1)\n",
    "\n"
   ]
  },
  {
   "cell_type": "code",
   "execution_count": 9,
   "metadata": {},
   "outputs": [],
   "source": [
    "agw2017[\"netWorth\"] = agw2017.apply(calcNetWorth, axis = 1)\n",
    "agw2013[\"netWorth\"] = agw2013.apply(calcNetWorth, axis = 1)\n",
    "agw2007[\"netWorth\"] = agw2007.apply(calcNetWorth, axis = 1)"
   ]
  },
  {
   "cell_type": "code",
   "execution_count": 10,
   "metadata": {},
   "outputs": [
    {
     "name": "stdout",
     "output_type": "stream",
     "text": [
      "aantal positieve networth: 1722 aantal negatieve networth: 219\n",
      "aantal met net worth nul (waarschijnlijk lege entries): 99\n"
     ]
    }
   ],
   "source": [
    "# Counter om aantal positieve en negatieve networths te tellen\n",
    "pos = 0\n",
    "neg = 0\n",
    "zero = 0\n",
    "\n",
    "# Arrays om de negatieven en positieven networths bij te houden\n",
    "negatives = []\n",
    "positives = []\n",
    "\n",
    "# Bepaald voor iedere row of de networth positief of negatief is en zet deze waarde in een array\n",
    "for x in range(0, agw2013.shape[0] - 1):\n",
    "    if agw2013.loc[x,\"netWorth\"] > 0:\n",
    "        positives.append(agw2013.loc[x, \"netWorth\"])\n",
    "        pos += 1\n",
    "    elif agw2013.loc[x, \"netWorth\"] < 0:\n",
    "        negatives.append(agw2013.loc[x, \"netWorth\"])\n",
    "        neg += 1\n",
    "    else:\n",
    "        zero += 1\n",
    "        \n",
    "print(\"aantal positieve networth: \" + str(pos) +  \" aantal negatieve networth: \" + str(neg))\n",
    "print(\"aantal met net worth nul (waarschijnlijk lege entries): \" + str(zero))"
   ]
  },
  {
   "cell_type": "code",
   "execution_count": 11,
   "metadata": {},
   "outputs": [],
   "source": [
    "# negatives.sort()\n",
    "# positives.sort()\n",
    "\n",
    "# plt.hist(positives)\n",
    "# plt.title(\"positive net worths\")\n",
    "# plt.show()\n",
    "\n",
    "# plt.hist(positives, range = (0, 250000))\n",
    "# plt.title(\"positive net worths met max wealth 250k\")\n",
    "# plt.show()\n",
    "\n",
    "# plt.hist(negatives)\n",
    "# plt.title(\"negative net worths\")\n",
    "# plt.show()\n",
    "\n",
    "# plt.hist(negatives, range = (-25000, 0))\n",
    "# plt.title(\"negative net worths with -25k max debt\")\n",
    "# plt.show()"
   ]
  },
  {
   "cell_type": "markdown",
   "metadata": {},
   "source": [
    "# Hier boven:\n",
    "\n",
    "het feit dat bezit tot 10x zo veel gaat als schuld, kan leiden tot ene verschil in effect op  gezondheid (bijvoorbeeld 10x minder sterk oid) Misschien hier nog iets mee doen!"
   ]
  },
  {
   "cell_type": "code",
   "execution_count": 12,
   "metadata": {},
   "outputs": [],
   "source": [
    "merged2017 = pd.merge(gez2017, agw2017, on = \"personid\")\n",
    "merged2013 = pd.merge(gez2013, agw2013, on = \"personid\")\n",
    "merged2007 = pd.merge(gez2007, agw2007, on = \"personid\")\n"
   ]
  },
  {
   "cell_type": "code",
   "execution_count": 13,
   "metadata": {},
   "outputs": [],
   "source": [
    "merged = pd.merge(merged2017, merged2013, on = \"personid\")\n",
    "merged = pd.merge(merged, merged2007, on = \"personid\")\n"
   ]
  },
  {
   "cell_type": "code",
   "execution_count": 14,
   "metadata": {},
   "outputs": [],
   "source": [
    "def selfAssedHealth(row):\n",
    "    healthValues = {\"Excellent\" : 1, \"Good\" : 1, \"Fair\" : 1, \"Not so good\" : 0, \"Poor\" : 0,\n",
    "                    \"excellent\" : 1, \"good\" : 1, \"fair\" : 1, \"not so good\" : 0, \"poor\" : 0} \n",
    "    \n",
    "    return healthValues[row[\"gez3\"]]\n"
   ]
  },
  {
   "cell_type": "markdown",
   "metadata": {},
   "source": [
    "http://www.statsmodels.org/stable/discretemod.html"
   ]
  },
  {
   "cell_type": "code",
   "execution_count": 15,
   "metadata": {},
   "outputs": [],
   "source": [
    "merged2017[\"health\"] = merged2017.apply(selfAssedHealth, axis = 1)\n",
    "merged2013[\"health\"] = merged2013.apply(selfAssedHealth, axis = 1)\n",
    "merged2007[\"health\"] = merged2007.apply(selfAssedHealth, axis = 1)"
   ]
  },
  {
   "cell_type": "code",
   "execution_count": 16,
   "metadata": {},
   "outputs": [],
   "source": [
    "def dummyGroup(row):\n",
    "    if row[\"b26oga\"] == 1:\n",
    "        return 1\n",
    "    else:\n",
    "        return 0\n",
    "        "
   ]
  },
  {
   "cell_type": "code",
   "execution_count": 17,
   "metadata": {},
   "outputs": [],
   "source": [
    "merged2017[\"treated\"] = merged2017.apply(dummyGroup, axis = 1)\n",
    "merged2013[\"treated\"] = merged2013.apply(dummyGroup, axis = 1)\n",
    "merged2007[\"treated\"] = merged2007.apply(dummyGroup, axis = 1)\n"
   ]
  },
  {
   "cell_type": "code",
   "execution_count": 18,
   "metadata": {},
   "outputs": [],
   "source": [
    "merged2017[\"time\"] = 1\n",
    "merged2013[\"time\"] = 1\n",
    "merged2007[\"time\"] = 0"
   ]
  },
  {
   "cell_type": "code",
   "execution_count": 19,
   "metadata": {},
   "outputs": [],
   "source": [
    "def interaction(row):\n",
    "    return (row[\"time\"] * row[\"treated\"])"
   ]
  },
  {
   "cell_type": "code",
   "execution_count": 20,
   "metadata": {},
   "outputs": [],
   "source": [
    "merged2017[\"DID\"] = merged2017.apply(interaction, axis = 1)\n",
    "merged2013[\"DID\"] = merged2013.apply(interaction, axis = 1)\n",
    "merged2007[\"DID\"] = merged2007.apply(interaction, axis = 1)"
   ]
  },
  {
   "cell_type": "code",
   "execution_count": 21,
   "metadata": {},
   "outputs": [],
   "source": [
    "merged2017[\"2013\"] = 0\n",
    "merged2017[\"2017\"] = 1\n",
    "merged2013[\"2013\"] = 1\n",
    "merged2013[\"2017\"] = 0\n",
    "merged2007[\"2013\"] = 0\n",
    "merged2007[\"2017\"] = 0"
   ]
  },
  {
   "cell_type": "code",
   "execution_count": 22,
   "metadata": {},
   "outputs": [],
   "source": [
    "frames0713 = [merged2007, merged2013]\n",
    "frames0717 = [merged2007, merged2017]\n",
    "frames071317 = [merged2007, merged2013, merged2017]\n",
    "list0713 = pd.concat(frames0713)\n",
    "list0717 = pd.concat(frames0717)\n",
    "list071317 = pd.concat(frames071317)\n"
   ]
  },
  {
   "cell_type": "code",
   "execution_count": 23,
   "metadata": {},
   "outputs": [],
   "source": [
    "merged2013[\"time\"] = 0\n",
    "merged2013[\"DID\"] = merged2013.apply(interaction, axis = 1)\n",
    "frames1317 = [merged2013, merged2017]\n",
    "list1317 = pd.concat(frames1317)"
   ]
  },
  {
   "cell_type": "code",
   "execution_count": 24,
   "metadata": {},
   "outputs": [
    {
     "name": "stderr",
     "output_type": "stream",
     "text": [
      "/home/niels/anaconda3/lib/python3.6/site-packages/pandas/io/stata.py:2086: InvalidColumnName: \n",
      "Not all pandas column names were valid Stata variable names.\n",
      "The following replacements have been made:\n",
      "\n",
      "    b'2013'   ->   _2013\n",
      "    b'2017'   ->   _2017\n",
      "\n",
      "If this is not what you expect, please make sure you have Stata-compliant\n",
      "column names in your DataFrame (strings only, max 32 characters, only\n",
      "alphanumerics and underscores, no Stata reserved words)\n",
      "\n",
      "  warnings.warn(ws, InvalidColumnName)\n"
     ]
    }
   ],
   "source": [
    "list0713.to_stata(\"list0713.dta\")\n",
    "list0717.to_stata(\"list0717.dta\")\n",
    "list071317.to_stata(\"list071317.dta\")\n",
    "list1317.to_stata(\"list1317.dta\")"
   ]
  },
  {
   "cell_type": "code",
   "execution_count": 25,
   "metadata": {},
   "outputs": [],
   "source": [
    "def nHealthy(data):\n",
    "    healthy = 0\n",
    "    unhealthy = 0\n",
    "    for x in range(0, data.shape[0] - 1):\n",
    "        if data.loc[x, \"health\"] == 1:\n",
    "            healthy += 1\n",
    "        else:\n",
    "            unhealthy += 1\n",
    "    print(\"aantal healthy: \" + str(healthy) + \" en aantal unhealthy: \" + str(unhealthy))"
   ]
  },
  {
   "cell_type": "code",
   "execution_count": 26,
   "metadata": {},
   "outputs": [
    {
     "name": "stdout",
     "output_type": "stream",
     "text": [
      "aantal healthy: 1574 en aantal unhealthy: 74\n"
     ]
    }
   ],
   "source": [
    "nHealthy(merged2013)"
   ]
  },
  {
   "cell_type": "code",
   "execution_count": 27,
   "metadata": {},
   "outputs": [
    {
     "name": "stdout",
     "output_type": "stream",
     "text": [
      "aantal healthy: 1731 en aantal unhealthy: 77\n"
     ]
    }
   ],
   "source": [
    "nHealthy(merged2007)"
   ]
  },
  {
   "cell_type": "code",
   "execution_count": 28,
   "metadata": {},
   "outputs": [
    {
     "name": "stdout",
     "output_type": "stream",
     "text": [
      "aantal healthy: 2091 en aantal unhealthy: 123\n"
     ]
    }
   ],
   "source": [
    "nHealthy(merged2017)"
   ]
  },
  {
   "cell_type": "code",
   "execution_count": 29,
   "metadata": {},
   "outputs": [],
   "source": [
    "frames = [merged2007, merged2013, merged2017]\n",
    "langeLijst = pd.concat(frames)"
   ]
  },
  {
   "cell_type": "code",
   "execution_count": 30,
   "metadata": {},
   "outputs": [
    {
     "name": "stderr",
     "output_type": "stream",
     "text": [
      "/home/niels/anaconda3/lib/python3.6/site-packages/pandas/io/stata.py:2086: InvalidColumnName: \n",
      "Not all pandas column names were valid Stata variable names.\n",
      "The following replacements have been made:\n",
      "\n",
      "    b'2013'   ->   _2013\n",
      "    b'2017'   ->   _2017\n",
      "\n",
      "If this is not what you expect, please make sure you have Stata-compliant\n",
      "column names in your DataFrame (strings only, max 32 characters, only\n",
      "alphanumerics and underscores, no Stata reserved words)\n",
      "\n",
      "  warnings.warn(ws, InvalidColumnName)\n"
     ]
    }
   ],
   "source": [
    "langeLijst.to_stata(\"langeLijst.dta\")"
   ]
  },
  {
   "cell_type": "code",
   "execution_count": 31,
   "metadata": {},
   "outputs": [],
   "source": [
    "result = sm.ols(formula=\"health ~ time + treated + DID\", data=list1317).fit()\n"
   ]
  },
  {
   "cell_type": "code",
   "execution_count": 32,
   "metadata": {},
   "outputs": [
    {
     "name": "stdout",
     "output_type": "stream",
     "text": [
      "                            OLS Regression Results                            \n",
      "==============================================================================\n",
      "Dep. Variable:                 health   R-squared:                       0.006\n",
      "Model:                            OLS   Adj. R-squared:                  0.005\n",
      "Method:                 Least Squares   F-statistic:                     7.821\n",
      "Date:                Mon, 14 Jan 2019   Prob (F-statistic):           3.34e-05\n",
      "Time:                        11:53:20   Log-Likelihood:                 380.15\n",
      "No. Observations:                3864   AIC:                            -752.3\n",
      "Df Residuals:                    3860   BIC:                            -727.3\n",
      "Df Model:                           3                                         \n",
      "Covariance Type:            nonrobust                                         \n",
      "==============================================================================\n",
      "                 coef    std err          t      P>|t|      [0.025      0.975]\n",
      "------------------------------------------------------------------------------\n",
      "Intercept      0.9513      0.008    125.810      0.000       0.936       0.966\n",
      "time          -0.0291      0.010     -2.870      0.004      -0.049      -0.009\n",
      "treated        0.0078      0.011      0.722      0.470      -0.013       0.029\n",
      "DID            0.0347      0.014      2.428      0.015       0.007       0.063\n",
      "==============================================================================\n",
      "Omnibus:                     3123.202   Durbin-Watson:                   2.002\n",
      "Prob(Omnibus):                  0.000   Jarque-Bera (JB):            44377.232\n",
      "Skew:                          -4.046   Prob(JB):                         0.00\n",
      "Kurtosis:                      17.497   Cond. No.                         7.45\n",
      "==============================================================================\n",
      "\n",
      "Warnings:\n",
      "[1] Standard Errors assume that the covariance matrix of the errors is correctly specified.\n"
     ]
    }
   ],
   "source": [
    "print(result.summary())"
   ]
  },
  {
   "cell_type": "code",
   "execution_count": 33,
   "metadata": {},
   "outputs": [],
   "source": [
    "result = sm.ols(formula=\"health ~ time + treated + DID\", data=list0717).fit()\n"
   ]
  },
  {
   "cell_type": "code",
   "execution_count": 34,
   "metadata": {},
   "outputs": [
    {
     "data": {
      "text/plain": [
       "0       188038.887314\n",
       "1        10777.000000\n",
       "2        61950.015625\n",
       "3         6000.000000\n",
       "4       163442.999512\n",
       "5            0.000000\n",
       "6       191498.640625\n",
       "7            0.000000\n",
       "8       173781.000000\n",
       "9            0.000000\n",
       "10        4025.000000\n",
       "11      221629.999023\n",
       "12         500.000000\n",
       "13        2925.000000\n",
       "14      598782.000000\n",
       "15       21000.000000\n",
       "16        4885.500000\n",
       "17       36333.000000\n",
       "18      529713.000000\n",
       "19      217500.000000\n",
       "20         239.999985\n",
       "21      180726.205078\n",
       "22        2280.000000\n",
       "23           0.000000\n",
       "24           0.000000\n",
       "25           0.000000\n",
       "26        1700.000001\n",
       "27      173925.756104\n",
       "28       -2559.500000\n",
       "29      362769.000000\n",
       "            ...      \n",
       "2185    424500.000000\n",
       "2186     20474.000000\n",
       "2187    318170.031006\n",
       "2188     83258.838501\n",
       "2189    260000.015625\n",
       "2190     15000.000000\n",
       "2191     35851.000000\n",
       "2192         0.000000\n",
       "2193    332354.750000\n",
       "2194    143957.867188\n",
       "2195     13170.661621\n",
       "2196      6000.000000\n",
       "2197     42384.888550\n",
       "2198      6250.000000\n",
       "2199     58584.984375\n",
       "2200    246099.984375\n",
       "2201    232600.000000\n",
       "2202    239763.048508\n",
       "2203     98788.922729\n",
       "2204       968.000000\n",
       "2205    242708.921875\n",
       "2206    438573.000000\n",
       "2207         0.000000\n",
       "2208     40224.998137\n",
       "2209      9511.275391\n",
       "2210    459453.000000\n",
       "2211         0.000000\n",
       "2212      7427.230347\n",
       "2213    -64249.000244\n",
       "2214   -162013.140625\n",
       "Name: netWorth, Length: 4024, dtype: float64"
      ]
     },
     "execution_count": 34,
     "metadata": {},
     "output_type": "execute_result"
    }
   ],
   "source": [
    "list0717[\"netWorth\"]"
   ]
  },
  {
   "cell_type": "code",
   "execution_count": 35,
   "metadata": {},
   "outputs": [
    {
     "name": "stderr",
     "output_type": "stream",
     "text": [
      "/home/niels/anaconda3/lib/python3.6/site-packages/pandas/io/stata.py:2086: InvalidColumnName: \n",
      "Not all pandas column names were valid Stata variable names.\n",
      "The following replacements have been made:\n",
      "\n",
      "    b'2013'   ->   _2013\n",
      "    b'2017'   ->   _2017\n",
      "\n",
      "If this is not what you expect, please make sure you have Stata-compliant\n",
      "column names in your DataFrame (strings only, max 32 characters, only\n",
      "alphanumerics and underscores, no Stata reserved words)\n",
      "\n",
      "  warnings.warn(ws, InvalidColumnName)\n"
     ]
    }
   ],
   "source": [
    "merged2017.to_stata(\"merged_data2017.dta\")\n",
    "merged2013.to_stata(\"merged_data2013.dta\")\n",
    "merged2007.to_stata(\"merged_data2007.dta\")"
   ]
  },
  {
   "cell_type": "code",
   "execution_count": 36,
   "metadata": {},
   "outputs": [],
   "source": [
    "merged.to_stata(\"merged_data.dta\")"
   ]
  },
  {
   "cell_type": "code",
   "execution_count": 37,
   "metadata": {},
   "outputs": [],
   "source": [
    "stats.chisqprob = lambda chisq, df: stats.chi2.sf(chisq, df)\n"
   ]
  },
  {
   "cell_type": "code",
   "execution_count": 80,
   "metadata": {},
   "outputs": [],
   "source": [
    "samelist0713 = list0713[list0713.duplicated([\"personid\"], keep = False)]\n",
    "samelist0717 = list0717[list0717.duplicated([\"personid\"], keep = False)]\n",
    "samelist1317 = list1317[list1317.duplicated([\"personid\"], keep = False)]"
   ]
  },
  {
   "cell_type": "code",
   "execution_count": 79,
   "metadata": {},
   "outputs": [
    {
     "data": {
      "text/plain": [
       "0           601.0\n",
       "0           601.0\n",
       "2          2101.0\n",
       "1          2101.0\n",
       "3          2102.0\n",
       "2          2102.0\n",
       "4          3801.0\n",
       "3          3801.0\n",
       "5          3802.0\n",
       "4          3802.0\n",
       "5         10601.0\n",
       "6         10601.0\n",
       "8         11601.0\n",
       "6         11601.0\n",
       "7         11602.0\n",
       "9         11602.0\n",
       "8         17301.0\n",
       "10        17301.0\n",
       "9         17501.0\n",
       "11        17501.0\n",
       "10        26202.0\n",
       "18        26202.0\n",
       "11        26801.0\n",
       "19        26801.0\n",
       "12        26802.0\n",
       "20        26802.0\n",
       "14        33902.0\n",
       "26        33902.0\n",
       "27        35702.0\n",
       "15        35702.0\n",
       "          ...    \n",
       "1593    8638202.0\n",
       "1778    8638202.0\n",
       "1781    8715502.0\n",
       "1600    8715502.0\n",
       "1603    8736701.0\n",
       "1782    8736701.0\n",
       "1604    8736702.0\n",
       "1783    8736702.0\n",
       "1607    8743701.0\n",
       "1784    8743701.0\n",
       "1609    8758401.0\n",
       "1785    8758401.0\n",
       "1610    8758402.0\n",
       "1786    8758402.0\n",
       "1615    8809201.0\n",
       "1789    8809201.0\n",
       "1630    8877801.0\n",
       "1792    8877801.0\n",
       "1793    8877802.0\n",
       "1631    8877802.0\n",
       "1636    8921301.0\n",
       "1800    8921301.0\n",
       "1637    8922301.0\n",
       "1801    8922301.0\n",
       "1645    8972701.0\n",
       "1802    8972701.0\n",
       "1646    8972702.0\n",
       "1803    8972702.0\n",
       "1808    8995302.0\n",
       "1648    8995302.0\n",
       "Name: personid, Length: 1540, dtype: float64"
      ]
     },
     "execution_count": 79,
     "metadata": {},
     "output_type": "execute_result"
    }
   ],
   "source": [
    "samelist0713.to_stata(\"samelist0713.dta\")\n",
    "samelist0717.to_stata(\"samelist0717.dta)"
   ]
  },
  {
   "cell_type": "code",
   "execution_count": 63,
   "metadata": {},
   "outputs": [
    {
     "data": {
      "text/plain": [
       "(3458, 151)"
      ]
     },
     "execution_count": 63,
     "metadata": {},
     "output_type": "execute_result"
    }
   ],
   "source": []
  },
  {
   "cell_type": "code",
   "execution_count": null,
   "metadata": {},
   "outputs": [],
   "source": [
    "sdfsd"
   ]
  },
  {
   "cell_type": "code",
   "execution_count": null,
   "metadata": {},
   "outputs": [],
   "source": []
  },
  {
   "cell_type": "code",
   "execution_count": null,
   "metadata": {},
   "outputs": [],
   "source": []
  }
 ],
 "metadata": {
  "kernelspec": {
   "display_name": "Python 3",
   "language": "python",
   "name": "python3"
  },
  "language_info": {
   "codemirror_mode": {
    "name": "ipython",
    "version": 3
   },
   "file_extension": ".py",
   "mimetype": "text/x-python",
   "name": "python",
   "nbconvert_exporter": "python",
   "pygments_lexer": "ipython3",
   "version": "3.6.4"
  }
 },
 "nbformat": 4,
 "nbformat_minor": 2
}
