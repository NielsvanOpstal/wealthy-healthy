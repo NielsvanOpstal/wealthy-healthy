{
 "cells": [
  {
   "cell_type": "code",
   "execution_count": 30,
   "metadata": {},
   "outputs": [],
   "source": [
    "import pandas as pd\n",
    "import numpy as np\n",
    "import matplotlib.pyplot as plt\n",
    "import statsmodels.formula.api as sm\n",
    "from scipy import stats\n",
    "agw2017 = pd.read_stata(\"agw2017\")\n",
    "agw2013 = pd.read_stata(\"agw2013\")\n",
    "agw2007 = pd.read_stata(\"agw2007\")\n",
    "\n",
    "gez2017 = pd.read_stata(\"gez2017\")\n",
    "gez2013 = pd.read_stata(\"gez2013\")\n",
    "gez2007 = pd.read_stata(\"gez2007\")\n",
    "\n",
    "\n"
   ]
  },
  {
   "cell_type": "code",
   "execution_count": null,
   "metadata": {},
   "outputs": [],
   "source": []
  },
  {
   "cell_type": "code",
   "execution_count": 31,
   "metadata": {},
   "outputs": [
    {
     "name": "stdout",
     "output_type": "stream",
     "text": [
      "0       225000.000000\n",
      "1       220000.000000\n",
      "2                 NaN\n",
      "3            0.000000\n",
      "4                 NaN\n",
      "5       255000.000000\n",
      "6       150000.000000\n",
      "7                 NaN\n",
      "8       175000.000000\n",
      "9       200000.000000\n",
      "10      260000.015625\n",
      "11      200000.000000\n",
      "12                NaN\n",
      "13           0.000000\n",
      "14           0.000000\n",
      "15                NaN\n",
      "16           0.000000\n",
      "17      400000.000000\n",
      "18                NaN\n",
      "19      545000.000000\n",
      "20           0.000000\n",
      "21           0.000000\n",
      "22      245000.000000\n",
      "23           0.000000\n",
      "24           0.000000\n",
      "25      125000.000000\n",
      "26      175000.000000\n",
      "27      200000.000000\n",
      "28      479999.968750\n",
      "29      400000.000000\n",
      "            ...      \n",
      "2011              NaN\n",
      "2012              NaN\n",
      "2013         0.000000\n",
      "2014         0.000000\n",
      "2015    260000.015625\n",
      "2016              NaN\n",
      "2017              NaN\n",
      "2018    255000.000000\n",
      "2019              NaN\n",
      "2020         0.000000\n",
      "2021              NaN\n",
      "2022         0.000000\n",
      "2023    370000.000000\n",
      "2024              NaN\n",
      "2025         0.000000\n",
      "2026    220000.000000\n",
      "2027         0.000000\n",
      "2028              NaN\n",
      "2029              NaN\n",
      "2030    227350.156250\n",
      "2031    320000.000000\n",
      "2032              NaN\n",
      "2033    380000.000000\n",
      "2034              NaN\n",
      "2035    180000.000000\n",
      "2036              NaN\n",
      "2037         0.000000\n",
      "2038    350000.000000\n",
      "2039    110000.000000\n",
      "2040         0.000000\n",
      "Name: b26ogb, Length: 2041, dtype: float64\n"
     ]
    }
   ],
   "source": [
    "print(agw2013[\"b26ogb\"])"
   ]
  },
  {
   "cell_type": "code",
   "execution_count": null,
   "metadata": {},
   "outputs": [],
   "source": []
  },
  {
   "cell_type": "code",
   "execution_count": null,
   "metadata": {},
   "outputs": [],
   "source": []
  },
  {
   "cell_type": "code",
   "execution_count": null,
   "metadata": {},
   "outputs": [],
   "source": []
  },
  {
   "cell_type": "code",
   "execution_count": null,
   "metadata": {},
   "outputs": [],
   "source": []
  },
  {
   "cell_type": "markdown",
   "metadata": {},
   "source": [
    "Vragenlijst Wonen en Hypotheken\n",
    "B26Og eigenaar van woning (1=ja, 0=nee)\n",
    "B26Hy hypotheken op de woning\n",
    "B26Vz cash value levensverzekering hypotheek woning\n",
    "B27Og eigenaar van tweede woning (1=ja, 0=nee)\n",
    "B27Hy hypotheken op tweede woning\n",
    "B27Vz cash value levensverzekering hypotheek tweede woning"
   ]
  },
  {
   "cell_type": "markdown",
   "metadata": {},
   "source": [
    "### Eerst maak ik de Net-worth variabele\n",
    "\n",
    "Dit doe ik dmv een functie die alle bezittingen (b1b, b2b, ..., b30b) bij elkaar optelt en daar de schulden (s1b, s2b, ..., s8b, x1b) vanaf trekt."
   ]
  },
  {
   "cell_type": "code",
   "execution_count": 32,
   "metadata": {},
   "outputs": [],
   "source": [
    "def calcWealth(row):\n",
    "    wealth = (row[\"b1b\"] + row[\"b2b\"] + row[\"b3b\"] + row[\"b4b\"] + row[\"b6b\"] + row[\"b7b\"] + row[\"b8b\"] + row[\"b11b\"]\n",
    "              + row[\"b12b\"] + row[\"b13b\"] + row[\"b14b\"] + row[\"b15b\"] + row[\"b16b\"] + row[\"b17b\"] + row[\"b18b\"] + \n",
    "             row[\"b19ogb\"] + row[\"b19hyb\"] + row[\"b19vzb\"] + row[\"b20b\"] + row[\"b21b\"] + row[\"b22b\"] + row[\"b23b\"] +\n",
    "             row[\"b24b\"] + row[\"b25b\"] + row[\"b28b\"] + row[\"b29b\"] + row[\"b30b\"])\n",
    "    # Door te checken of b26ogb > -1 zorg ik dat enkel rows zonder NaN hier worden gebruikt. Ze zijn of volledig Nan of niet\n",
    "    if row[\"b26ogb\"] > -1:\n",
    "        wealth += row[\"b26ogb\"] + row[\"b26vzb\"] + row[\"b27ogb\"] + row[\"b27vzb\"]\n",
    "    return wealth"
   ]
  },
  {
   "cell_type": "code",
   "execution_count": 33,
   "metadata": {},
   "outputs": [],
   "source": [
    "def calcDebt(row):\n",
    "    debt = (row[\"s1b\"] + row[\"s2b\"] + row[\"s3b\"] + row[\"s4b\"] + row[\"s5b\"] + row[\"s6b\"] + row[\"s7b\"] + row[\"s8b\"] +\n",
    "           row[\"x1b\"]) \n",
    "    # Door te checken of b26ogb > -1 zorg ik dat enkel rows zonder NaN hier worden gebruikt. Ze zijn of volledig Nan of niet\n",
    "    if row[\"b26ogb\"] > -1:\n",
    "        debt += row[\"b26hyb\"] + row[\"b27hyb\"]\n",
    "    \n",
    "    return debt"
   ]
  },
  {
   "cell_type": "code",
   "execution_count": 34,
   "metadata": {},
   "outputs": [],
   "source": [
    "def calcNetWorth(row):\n",
    "    netWorth = row[\"wealth\"] - row[\"debt\"]\n",
    "    return netWorth"
   ]
  },
  {
   "cell_type": "code",
   "execution_count": 35,
   "metadata": {},
   "outputs": [],
   "source": [
    "agw2017[\"debt\"] = agw2017.apply(calcDebt, axis = 1)\n",
    "agw2013[\"debt\"] = agw2013.apply(calcDebt, axis = 1)\n",
    "agw2007[\"debt\"] = agw2007.apply(calcDebt, axis = 1)\n",
    "\n",
    "\n"
   ]
  },
  {
   "cell_type": "code",
   "execution_count": 36,
   "metadata": {},
   "outputs": [
    {
     "name": "stdout",
     "output_type": "stream",
     "text": [
      "0       111000.000000\n",
      "1       239500.000000\n",
      "2            0.000000\n",
      "3            0.000000\n",
      "4            0.000000\n",
      "5       115000.000000\n",
      "6        22000.000000\n",
      "7            0.000000\n",
      "8        90450.000000\n",
      "9        54000.000000\n",
      "10      135000.000000\n",
      "11           0.000000\n",
      "12           0.000000\n",
      "13           0.000000\n",
      "14         100.000000\n",
      "15           0.000000\n",
      "16        2770.000000\n",
      "17      148770.000000\n",
      "18           0.000000\n",
      "19      224000.000000\n",
      "20           0.000000\n",
      "21           0.000000\n",
      "22      119999.992188\n",
      "23           0.000000\n",
      "24       10750.000326\n",
      "25       83000.000000\n",
      "26      204000.000000\n",
      "27      119999.992188\n",
      "28      225000.000000\n",
      "29           0.000000\n",
      "            ...      \n",
      "2011         0.000000\n",
      "2012         0.000000\n",
      "2013     10000.000000\n",
      "2014         0.000000\n",
      "2015         0.000000\n",
      "2016         0.000000\n",
      "2017         0.000000\n",
      "2018         0.000000\n",
      "2019         0.000000\n",
      "2020         0.000000\n",
      "2021         0.000000\n",
      "2022     20000.000000\n",
      "2023         0.000000\n",
      "2024         0.000000\n",
      "2025     10000.000000\n",
      "2026         0.000000\n",
      "2027     15299.999023\n",
      "2028    189000.000000\n",
      "2029         0.000000\n",
      "2030         0.000000\n",
      "2031    180000.000000\n",
      "2032         0.000000\n",
      "2033     80000.000000\n",
      "2034         0.000000\n",
      "2035     82000.000000\n",
      "2036         0.000000\n",
      "2037         0.000000\n",
      "2038         0.000000\n",
      "2039         0.000000\n",
      "2040         0.000000\n",
      "Name: debt, Length: 2041, dtype: float64\n"
     ]
    }
   ],
   "source": [
    "print(agw2013[\"debt\"])"
   ]
  },
  {
   "cell_type": "code",
   "execution_count": null,
   "metadata": {},
   "outputs": [],
   "source": []
  },
  {
   "cell_type": "code",
   "execution_count": 37,
   "metadata": {},
   "outputs": [],
   "source": [
    "agw2017[\"wealth\"] = agw2017.apply(calcWealth, axis = 1)\n",
    "agw2013[\"wealth\"] = agw2013.apply(calcWealth, axis = 1)\n",
    "agw2007[\"wealth\"] = agw2007.apply(calcWealth, axis = 1)\n",
    "\n"
   ]
  },
  {
   "cell_type": "code",
   "execution_count": 38,
   "metadata": {},
   "outputs": [
    {
     "name": "stdout",
     "output_type": "stream",
     "text": [
      "0       4.127469e+05\n",
      "1       2.374062e+05\n",
      "2       8.000000e+02\n",
      "3       5.031900e+04\n",
      "4       0.000000e+00\n",
      "5       3.584789e+05\n",
      "6       1.620000e+05\n",
      "7       4.096055e+04\n",
      "8       2.882295e+05\n",
      "9       2.428600e+05\n",
      "10      5.690460e+05\n",
      "11      2.143370e+05\n",
      "12      7.340000e+03\n",
      "13      6.313500e+03\n",
      "14      1.500000e+03\n",
      "15      1.464200e+04\n",
      "16      7.681250e+02\n",
      "17      4.160610e+05\n",
      "18      4.042000e+03\n",
      "19      5.745000e+05\n",
      "20      3.852500e+04\n",
      "21      9.158000e+03\n",
      "22      2.491250e+05\n",
      "23      1.300000e+03\n",
      "24      4.700000e+03\n",
      "25      1.636555e+05\n",
      "26      2.274663e+05\n",
      "27      2.463040e+05\n",
      "28      5.004860e+05\n",
      "29      4.315300e+05\n",
      "            ...     \n",
      "2011    0.000000e+00\n",
      "2012    4.532750e+04\n",
      "2013    2.271327e+05\n",
      "2014    1.340000e+03\n",
      "2015    2.662500e+05\n",
      "2016    1.370543e+04\n",
      "2017    1.500000e+02\n",
      "2018    2.855000e+05\n",
      "2019    2.040000e+04\n",
      "2020    3.450000e+04\n",
      "2021    0.000000e+00\n",
      "2022    5.325000e+03\n",
      "2023    4.015000e+05\n",
      "2024    1.109337e+03\n",
      "2025    7.072721e+03\n",
      "2026    2.526000e+05\n",
      "2027    9.073000e+03\n",
      "2028    9.933923e+03\n",
      "2029    3.247000e+03\n",
      "2030    2.273502e+05\n",
      "2031    7.554000e+05\n",
      "2032    0.000000e+00\n",
      "2033    7.201160e+05\n",
      "2034    0.000000e+00\n",
      "2035    1.924333e+05\n",
      "2036    9.499742e+03\n",
      "2037    6.575000e+03\n",
      "2038    1.531400e+06\n",
      "2039    1.309488e+05\n",
      "2040    1.170625e+04\n",
      "Name: wealth, Length: 2041, dtype: float64\n"
     ]
    }
   ],
   "source": [
    "print(agw2013[\"wealth\"])"
   ]
  },
  {
   "cell_type": "code",
   "execution_count": null,
   "metadata": {},
   "outputs": [],
   "source": []
  },
  {
   "cell_type": "code",
   "execution_count": 39,
   "metadata": {},
   "outputs": [],
   "source": [
    "agw2017[\"netWorth\"] = agw2017.apply(calcNetWorth, axis = 1)\n",
    "agw2013[\"netWorth\"] = agw2013.apply(calcNetWorth, axis = 1)\n",
    "agw2007[\"netWorth\"] = agw2007.apply(calcNetWorth, axis = 1)"
   ]
  },
  {
   "cell_type": "code",
   "execution_count": 40,
   "metadata": {},
   "outputs": [
    {
     "name": "stdout",
     "output_type": "stream",
     "text": [
      "0       3.017469e+05\n",
      "1      -2.093750e+03\n",
      "2       8.000000e+02\n",
      "3       5.031900e+04\n",
      "4       0.000000e+00\n",
      "5       2.434789e+05\n",
      "6       1.400000e+05\n",
      "7       4.096055e+04\n",
      "8       1.977795e+05\n",
      "9       1.888600e+05\n",
      "10      4.340460e+05\n",
      "11      2.143370e+05\n",
      "12      7.340000e+03\n",
      "13      6.313500e+03\n",
      "14      1.400000e+03\n",
      "15      1.464200e+04\n",
      "16     -2.001875e+03\n",
      "17      2.672910e+05\n",
      "18      4.042000e+03\n",
      "19      3.505000e+05\n",
      "20      3.852500e+04\n",
      "21      9.158000e+03\n",
      "22      1.291250e+05\n",
      "23      1.300000e+03\n",
      "24     -6.050000e+03\n",
      "25      8.065553e+04\n",
      "26      2.346628e+04\n",
      "27      1.263040e+05\n",
      "28      2.754860e+05\n",
      "29      4.315300e+05\n",
      "            ...     \n",
      "2011    0.000000e+00\n",
      "2012    4.532750e+04\n",
      "2013    2.171327e+05\n",
      "2014    1.340000e+03\n",
      "2015    2.662500e+05\n",
      "2016    1.370543e+04\n",
      "2017    1.500000e+02\n",
      "2018    2.855000e+05\n",
      "2019    2.040000e+04\n",
      "2020    3.450000e+04\n",
      "2021    0.000000e+00\n",
      "2022   -1.467500e+04\n",
      "2023    4.015000e+05\n",
      "2024    1.109337e+03\n",
      "2025   -2.927279e+03\n",
      "2026    2.526000e+05\n",
      "2027   -6.226999e+03\n",
      "2028   -1.790661e+05\n",
      "2029    3.247000e+03\n",
      "2030    2.273502e+05\n",
      "2031    5.754000e+05\n",
      "2032    0.000000e+00\n",
      "2033    6.401160e+05\n",
      "2034    0.000000e+00\n",
      "2035    1.104333e+05\n",
      "2036    9.499742e+03\n",
      "2037    6.575000e+03\n",
      "2038    1.531400e+06\n",
      "2039    1.309488e+05\n",
      "2040    1.170625e+04\n",
      "Name: netWorth, Length: 2041, dtype: float64\n"
     ]
    }
   ],
   "source": [
    "print(agw2013[\"netWorth\"])"
   ]
  },
  {
   "cell_type": "code",
   "execution_count": null,
   "metadata": {},
   "outputs": [],
   "source": []
  },
  {
   "cell_type": "code",
   "execution_count": null,
   "metadata": {},
   "outputs": [],
   "source": []
  },
  {
   "cell_type": "code",
   "execution_count": null,
   "metadata": {},
   "outputs": [],
   "source": []
  },
  {
   "cell_type": "code",
   "execution_count": null,
   "metadata": {},
   "outputs": [],
   "source": []
  },
  {
   "cell_type": "code",
   "execution_count": 41,
   "metadata": {},
   "outputs": [
    {
     "name": "stdout",
     "output_type": "stream",
     "text": [
      "aantal positieve networth: 1722 aantal negatieve networth: 219\n",
      "aantal met net worth nul (waarschijnlijk lege entries): 99\n"
     ]
    }
   ],
   "source": [
    "# Counter om aantal positieve en negatieve networths te tellen\n",
    "pos = 0\n",
    "neg = 0\n",
    "zero = 0\n",
    "\n",
    "# Arrays om de negatieven en positieven networths bij te houden\n",
    "negatives = []\n",
    "positives = []\n",
    "\n",
    "# Bepaald voor iedere row of de networth positief of negatief is en zet deze waarde in een array\n",
    "for x in range(0, agw2013.shape[0] - 1):\n",
    "    if agw2013.loc[x,\"netWorth\"] > 0:\n",
    "        positives.append(agw2013.loc[x, \"netWorth\"])\n",
    "        pos += 1\n",
    "    elif agw2013.loc[x, \"netWorth\"] < 0:\n",
    "        negatives.append(agw2013.loc[x, \"netWorth\"])\n",
    "        neg += 1\n",
    "    else:\n",
    "        zero += 1\n",
    "        \n",
    "print(\"aantal positieve networth: \" + str(pos) +  \" aantal negatieve networth: \" + str(neg))\n",
    "print(\"aantal met net worth nul (waarschijnlijk lege entries): \" + str(zero))"
   ]
  },
  {
   "cell_type": "code",
   "execution_count": 42,
   "metadata": {},
   "outputs": [
    {
     "data": {
      "image/png": "[encoded data removed]",
      "text/plain": [
       "<matplotlib.figure.Figure at 0x7f19162d1b70>"
      ]
     },
     "metadata": {},
     "output_type": "display_data"
    },
    {
     "data": {
      "image/png": "[encoded data removed]",
      "text/plain": [
       "<matplotlib.figure.Figure at 0x7f191ea63518>"
      ]
     },
     "metadata": {},
     "output_type": "display_data"
    },
    {
     "data": {
      "image/png": "[encoded data removed]",
      "text/plain": [
       "<matplotlib.figure.Figure at 0x7f1915d89a90>"
      ]
     },
     "metadata": {},
     "output_type": "display_data"
    },
    {
     "data": {
      "image/png": "[encoded data removed]",
      "text/plain": [
       "<matplotlib.figure.Figure at 0x7f1915e67588>"
      ]
     },
     "metadata": {},
     "output_type": "display_data"
    }
   ],
   "source": [
    "\n",
    "\n",
    "negatives.sort()\n",
    "positives.sort()\n",
    "\n",
    "plt.hist(positives)\n",
    "plt.title(\"positive net worths\")\n",
    "plt.show()\n",
    "\n",
    "plt.hist(positives, range = (0, 250000))\n",
    "plt.title(\"positive net worths met max wealth 250k\")\n",
    "plt.show()\n",
    "\n",
    "plt.hist(negatives)\n",
    "plt.title(\"negative net worths\")\n",
    "plt.show()\n",
    "\n",
    "plt.hist(negatives, range = (-25000, 0))\n",
    "plt.title(\"negative net worths with -25k max debt\")\n",
    "plt.show()\n",
    "\n",
    "\n",
    "\n"
   ]
  },
  {
   "cell_type": "markdown",
   "metadata": {},
   "source": [
    "# Hier boven:\n",
    "\n",
    "het feit dat bezit tot 10x zo veel gaat als schuld, kan leiden tot ene verschil in effect op  gezondheid (bijvoorbeeld 10x minder sterk oid) Misschien hier nog iets mee doen!"
   ]
  },
  {
   "cell_type": "code",
   "execution_count": 43,
   "metadata": {},
   "outputs": [],
   "source": [
    "merged2017 = pd.merge(gez2017, agw2017, on = \"personid\")\n",
    "merged2013 = pd.merge(gez2013, agw2013, on = \"personid\")\n",
    "merged2007 = pd.merge(gez2007, agw2007, on = \"personid\")\n"
   ]
  },
  {
   "cell_type": "code",
   "execution_count": 44,
   "metadata": {},
   "outputs": [],
   "source": [
    "merged = pd.merge(merged2017, merged2013, on = \"personid\")\n",
    "merged = pd.merge(merged, merged2007, on = \"personid\")\n"
   ]
  },
  {
   "cell_type": "code",
   "execution_count": 45,
   "metadata": {},
   "outputs": [
    {
     "name": "stdout",
     "output_type": "stream",
     "text": [
      "(537, 426)\n"
     ]
    }
   ],
   "source": [
    "print(merged.shape)"
   ]
  },
  {
   "cell_type": "code",
   "execution_count": 46,
   "metadata": {},
   "outputs": [],
   "source": [
    "def selfAssedHealth(row):\n",
    "    healthValues = {\"Excellent\" : 1, \"Good\" : 1, \"Fair\" : 1, \"Not so good\" : 0, \"Poor\" : 0,\n",
    "                    \"excellent\" : 1, \"good\" : 1, \"fair\" : 1, \"not so good\" : 0, \"poor\" : 0} \n",
    "    \n",
    "    return healthValues[row[\"gez3\"]]\n"
   ]
  },
  {
   "cell_type": "markdown",
   "metadata": {},
   "source": [
    "http://www.statsmodels.org/stable/discretemod.html"
   ]
  },
  {
   "cell_type": "code",
   "execution_count": 47,
   "metadata": {},
   "outputs": [],
   "source": [
    "merged2017[\"health\"] = merged2017.apply(selfAssedHealth, axis = 1)\n",
    "merged2013[\"health\"] = merged2013.apply(selfAssedHealth, axis = 1)\n",
    "merged2007[\"health\"] = merged2007.apply(selfAssedHealth, axis = 1)"
   ]
  },
  {
   "cell_type": "code",
   "execution_count": 48,
   "metadata": {},
   "outputs": [],
   "source": [
    "def dummyGroup(row):\n",
    "    if row[\"b26oga\"] == 1:\n",
    "        return 1\n",
    "    else:\n",
    "        return 0\n",
    "        "
   ]
  },
  {
   "cell_type": "code",
   "execution_count": 49,
   "metadata": {},
   "outputs": [],
   "source": [
    "merged2017[\"treated\"] = merged2017.apply(dummyGroup, axis = 1)\n",
    "merged2013[\"treated\"] = merged2013.apply(dummyGroup, axis = 1)\n",
    "merged2007[\"treated\"] = merged2007.apply(dummyGroup, axis = 1)\n"
   ]
  },
  {
   "cell_type": "code",
   "execution_count": 50,
   "metadata": {},
   "outputs": [],
   "source": [
    "merged2017[\"time\"] = 1\n",
    "merged2013[\"time\"] = 1\n",
    "merged2007[\"time\"] = 0"
   ]
  },
  {
   "cell_type": "code",
   "execution_count": 53,
   "metadata": {},
   "outputs": [],
   "source": [
    "def interaction(row):\n",
    "    return (row[\"time\"] * row[\"treated\"])"
   ]
  },
  {
   "cell_type": "code",
   "execution_count": 54,
   "metadata": {},
   "outputs": [],
   "source": [
    "merged2017[\"DID\"] = merged2017.apply(interaction, axis = 1)\n",
    "merged2013[\"DID\"] = merged2013.apply(interaction, axis = 1)\n",
    "merged2007[\"DID\"] = merged2007.apply(interaction, axis = 1)"
   ]
  },
  {
   "cell_type": "code",
   "execution_count": 55,
   "metadata": {},
   "outputs": [],
   "source": [
    "merged2017[\"2013\"] = 0\n",
    "merged2017[\"2017\"] = 1\n",
    "merged2013[\"2013\"] = 1\n",
    "merged2013[\"2017\"] = 0\n",
    "merged2007[\"2013\"] = 0\n",
    "merged2007[\"2017\"] = 0"
   ]
  },
  {
   "cell_type": "code",
   "execution_count": 56,
   "metadata": {},
   "outputs": [],
   "source": [
    "frames0713 = [merged2007, merged2013]\n",
    "frames0717 = [merged2007, merged2017]\n",
    "frames071317 = [merged2007, merged2013, merged2017]\n",
    "list0713 = pd.concat(frames0713)\n",
    "list0717 = pd.concat(frames0717)\n",
    "list071317 = pd.concat(frames071317)"
   ]
  },
  {
   "cell_type": "code",
   "execution_count": 57,
   "metadata": {},
   "outputs": [
    {
     "name": "stderr",
     "output_type": "stream",
     "text": [
      "/home/niels/anaconda3/lib/python3.6/site-packages/pandas/io/stata.py:2086: InvalidColumnName: \n",
      "Not all pandas column names were valid Stata variable names.\n",
      "The following replacements have been made:\n",
      "\n",
      "    b'2013'   ->   _2013\n",
      "    b'2017'   ->   _2017\n",
      "\n",
      "If this is not what you expect, please make sure you have Stata-compliant\n",
      "column names in your DataFrame (strings only, max 32 characters, only\n",
      "alphanumerics and underscores, no Stata reserved words)\n",
      "\n",
      "  warnings.warn(ws, InvalidColumnName)\n"
     ]
    }
   ],
   "source": [
    "list0713.to_stata(\"list0713.dta\")\n",
    "list0717.to_stata(\"list0717.dta\")\n",
    "list071317.to_stata(\"list071317.dta\")"
   ]
  },
  {
   "cell_type": "code",
   "execution_count": 29,
   "metadata": {},
   "outputs": [],
   "source": [
    "def nHealthy(data):\n",
    "    healthy = 0\n",
    "    unhealthy = 0\n",
    "    for x in range(0, data.shape[0] - 1):\n",
    "        if data.loc[x, \"selfAssessedHealth\"] == 1:\n",
    "            healthy += 1\n",
    "        else:\n",
    "            unhealthy += 1\n",
    "    print(\"aantal healthy: \" + str(healthy) + \" en aantal unhealthy: \" + str(unhealthy))"
   ]
  },
  {
   "cell_type": "code",
   "execution_count": 66,
   "metadata": {},
   "outputs": [
    {
     "name": "stdout",
     "output_type": "stream",
     "text": [
      "aantal healthy: 1574 en aantal unhealthy: 74\n"
     ]
    }
   ],
   "source": [
    "nHealthy(merged2013)"
   ]
  },
  {
   "cell_type": "code",
   "execution_count": 67,
   "metadata": {},
   "outputs": [
    {
     "name": "stdout",
     "output_type": "stream",
     "text": [
      "aantal healthy: 1731 en aantal unhealthy: 77\n"
     ]
    }
   ],
   "source": [
    "nHealthy(merged2007)"
   ]
  },
  {
   "cell_type": "code",
   "execution_count": 69,
   "metadata": {},
   "outputs": [
    {
     "name": "stdout",
     "output_type": "stream",
     "text": [
      "aantal healthy: 2091 en aantal unhealthy: 123\n"
     ]
    }
   ],
   "source": [
    "nHealthy(merged2017)"
   ]
  },
  {
   "cell_type": "code",
   "execution_count": 72,
   "metadata": {},
   "outputs": [],
   "source": [
    "frames = [merged2007, merged2013, merged2017]\n",
    "langeLijst = pd.concat(frames)"
   ]
  },
  {
   "cell_type": "code",
   "execution_count": 73,
   "metadata": {},
   "outputs": [],
   "source": [
    "langeLijst.to_stata(\"langeLijst.dta\")"
   ]
  },
  {
   "cell_type": "code",
   "execution_count": null,
   "metadata": {},
   "outputs": [],
   "source": []
  },
  {
   "cell_type": "code",
   "execution_count": 18,
   "metadata": {},
   "outputs": [],
   "source": [
    "merged2017.to_stata(\"merged_data2017.dta\")\n",
    "merged2013.to_stata(\"merged_data2013.dta\")\n",
    "merged2007.to_stata(\"merged_data2007.dta\")"
   ]
  },
  {
   "cell_type": "code",
   "execution_count": null,
   "metadata": {},
   "outputs": [],
   "source": [
    "merged.to_stata(\"merged_data.dta\")"
   ]
  },
  {
   "cell_type": "code",
   "execution_count": null,
   "metadata": {},
   "outputs": [],
   "source": [
    "stats.chisqprob = lambda chisq, df: stats.chi2.sf(chisq, df)\n"
   ]
  },
  {
   "cell_type": "code",
   "execution_count": 20,
   "metadata": {
    "scrolled": false
   },
   "outputs": [
    {
     "name": "stdout",
     "output_type": "stream",
     "text": [
      "      index_x  nohhold_x  nomem_x    weeknr   gez1   gez2         gez3  \\\n",
      "0           0        6.0      1.0  201718.0  176.0   97.0         Good   \n",
      "1           1       21.0      1.0  201717.0  175.0   92.0         Good   \n",
      "2           2       38.0      1.0  201717.0  157.0   76.0         Good   \n",
      "3           3      106.0      1.0  201717.0  182.0   99.0         Good   \n",
      "4           4      173.0      1.0  201717.0  193.0   97.0    Excellent   \n",
      "5           5      175.0      1.0  201718.0  176.0   82.0         Fair   \n",
      "6           6      262.0      2.0  201717.0  182.0   84.0         Good   \n",
      "7           7      268.0      1.0  201717.0  168.0   80.0    Excellent   \n",
      "8           8      338.0      2.0  201717.0  172.0   84.0         Good   \n",
      "9           9      339.0      2.0  201717.0  167.0   75.0         Fair   \n",
      "10         10      371.0      1.0  201717.0  176.0   82.0         Good   \n",
      "11         11      423.0      1.0  201717.0  175.0   68.0         Good   \n",
      "12         12      461.0      1.0  201717.0  163.0   57.0         Good   \n",
      "13         13      523.0      1.0  201717.0  185.0   85.0         Good   \n",
      "14         14      562.0      1.0  201717.0  178.0   76.0         Fair   \n",
      "15         15      571.0      1.0  201717.0  187.0   83.0         Good   \n",
      "16         16      601.0      1.0  201717.0  183.0   74.0    Excellent   \n",
      "17         17      633.0      1.0  201717.0  187.0   78.0         Good   \n",
      "18         18      633.0      2.0  201717.0  176.0   82.0    Excellent   \n",
      "19         19      655.0      1.0  201717.0  171.0   81.0  Not so good   \n",
      "20         20      655.0      2.0  201717.0  163.0   90.0         Good   \n",
      "21         21      733.0      1.0  201717.0  149.0   59.0         Good   \n",
      "22         22      733.0      2.0  201717.0  175.0   74.0         Good   \n",
      "23         23      816.0      1.0  201717.0  182.0   79.0    Excellent   \n",
      "24         24      816.0      2.0  201717.0  168.0   59.0    Excellent   \n",
      "25         25      819.0      2.0  201717.0  151.0   52.0         Good   \n",
      "26         26      825.0      1.0  201717.0  185.0   98.0         Good   \n",
      "27         27      825.0      2.0  201717.0  170.0   75.0    Excellent   \n",
      "28         28      831.0      1.0  201735.0  162.0   59.0    Excellent   \n",
      "29         29      844.0      1.0  201717.0  187.0  100.0         Good   \n",
      "...       ...        ...      ...       ...    ...    ...          ...   \n",
      "2185     2394    88422.0      2.0  201717.0  163.0   52.0         Fair   \n",
      "2186     2396    88485.0      1.0  201717.0  178.0   68.0         Fair   \n",
      "2187     2397    88527.0      1.0  201717.0  184.0  105.0         Good   \n",
      "2188     2398    88535.0      1.0  201725.0  173.0   90.0         Good   \n",
      "2189     2399    88676.0      1.0  201717.0  187.0  100.0         Good   \n",
      "2190     2400    88676.0      2.0  201728.0  160.0   61.0         Good   \n",
      "2191     2401    88778.0      1.0  201717.0  182.0   98.0    Excellent   \n",
      "2192     2402    88778.0      2.0  201717.0  165.0   67.0    Excellent   \n",
      "2193     2404    88888.0      1.0  201718.0  163.0   87.0         Good   \n",
      "2194     2405    88888.0      2.0  201720.0  184.0   86.0         Good   \n",
      "2195     2407    88903.0      2.0  201717.0  200.0  110.0         Good   \n",
      "2196     2408    88942.0      1.0  201717.0  170.0   73.0         Good   \n",
      "2197     2410    89074.0      1.0  201719.0  176.0   66.0    Excellent   \n",
      "2198     2411    89083.0      1.0  201721.0  167.0   58.0         Fair   \n",
      "2199     2412    89083.0      2.0  201725.0  167.0   56.0         Fair   \n",
      "2200     2413    89160.0      1.0  201717.0  170.0   92.0    Excellent   \n",
      "2201     2414    89213.0      1.0  201727.0  167.0   65.0         Fair   \n",
      "2202     2416    89340.0      1.0  201720.0  176.0  116.0         Poor   \n",
      "2203     2418    89355.0      2.0  201717.0  182.0   72.0         Good   \n",
      "2204     2419    89447.0      1.0  201720.0  173.0  120.0         Poor   \n",
      "2205     2420    89450.0      1.0  201735.0  161.0   61.0         Fair   \n",
      "2206     2421    89536.0      1.0  201717.0  181.0   85.0         Fair   \n",
      "2207     2422    89536.0      2.0  201717.0  159.0   55.0         Fair   \n",
      "2208     2423    89582.0      1.0  201720.0  165.0   70.0         Fair   \n",
      "2209     2427    89713.0      1.0  201717.0  164.0   63.0         Fair   \n",
      "2210     2429    89722.0      1.0  201717.0  178.0   94.0    Excellent   \n",
      "2211     2430    89722.0      2.0  201717.0  176.0   80.0         Good   \n",
      "2212     2431    89727.0      2.0  201717.0  177.0   72.0    Excellent   \n",
      "2213     2434    89975.0      1.0  201719.0  164.0   71.0         Fair   \n",
      "2214     2435    89975.0      2.0  201723.0  188.0   85.0         Good   \n",
      "\n",
      "                 gez4 gez5                    gez7       ...       b27hya  \\\n",
      "0      About the same  Yes                      No       ...          0.0   \n",
      "1      About the same   No                      No       ...          0.0   \n",
      "2      About the same   No                      No       ...          0.0   \n",
      "3     Somewhat better  Yes                      No       ...          0.0   \n",
      "4      About the same   No                      No       ...          0.0   \n",
      "5      About the same  Yes                      No       ...          0.0   \n",
      "6      About the same   No                      No       ...          0.0   \n",
      "7      About the same   No                      No       ...          0.0   \n",
      "8      About the same   No                      No       ...          0.0   \n",
      "9      Somewhat worse  Yes                      No       ...          0.0   \n",
      "10     About the same   No                      No       ...          0.0   \n",
      "11     About the same   No                      No       ...          0.0   \n",
      "12     About the same   No                      No       ...          0.0   \n",
      "13     About the same   No                      No       ...          0.0   \n",
      "14     About the same  Yes                      No       ...          0.0   \n",
      "15    Somewhat better   No                      No       ...          0.0   \n",
      "16     About the same   No                      No       ...          0.0   \n",
      "17     About the same  Yes                      No       ...          0.0   \n",
      "18     About the same   No                      No       ...          NaN   \n",
      "19     About the same  Yes                      No       ...          NaN   \n",
      "20     About the same  Yes                      No       ...          0.0   \n",
      "21     Somewhat worse   No                      No       ...          NaN   \n",
      "22     Somewhat worse   No                      No       ...          0.0   \n",
      "23     About the same   No                      No       ...          0.0   \n",
      "24     About the same   No                      No       ...          NaN   \n",
      "25     About the same   No                      No       ...          0.0   \n",
      "26     Somewhat worse  Yes                      No       ...          0.0   \n",
      "27     About the same   No                      No       ...          NaN   \n",
      "28     About the same   No                      No       ...          0.0   \n",
      "29     About the same  Yes                      No       ...          0.0   \n",
      "...               ...  ...                     ...       ...          ...   \n",
      "2185   Somewhat worse  Yes                      No       ...          NaN   \n",
      "2186   About the same   No                      No       ...          0.0   \n",
      "2187   About the same   No                      No       ...          0.0   \n",
      "2188   About the same   No                      No       ...          0.0   \n",
      "2189   About the same   No                      No       ...          0.0   \n",
      "2190   About the same   No                      No       ...          NaN   \n",
      "2191   About the same  Yes                      No       ...          0.0   \n",
      "2192   About the same   No                      No       ...          NaN   \n",
      "2193   About the same  Yes                      No       ...          0.0   \n",
      "2194   About the same   No                      No       ...          NaN   \n",
      "2195  Somewhat better   No                      No       ...          NaN   \n",
      "2196   About the same   No  Yes, I smoke every day       ...          0.0   \n",
      "2197   About the same   No                      No       ...          0.0   \n",
      "2198   About the same  Yes                      No       ...          NaN   \n",
      "2199   About the same  Yes                      No       ...          0.0   \n",
      "2200   About the same   No                      No       ...          0.0   \n",
      "2201       Much worse  Yes                      No       ...          0.0   \n",
      "2202  Somewhat better  Yes                      No       ...          0.0   \n",
      "2203   About the same   No                      No       ...          0.0   \n",
      "2204   About the same  Yes                      No       ...          0.0   \n",
      "2205   About the same  Yes                      No       ...          0.0   \n",
      "2206   About the same  Yes                      No       ...          0.0   \n",
      "2207   About the same  Yes  Yes, I smoke every day       ...          NaN   \n",
      "2208   About the same  Yes                      No       ...          0.0   \n",
      "2209   About the same  Yes                      No       ...          NaN   \n",
      "2210   About the same   No                      No       ...          0.0   \n",
      "2211   About the same   No                      No       ...          NaN   \n",
      "2212   About the same   No                      No       ...          NaN   \n",
      "2213   About the same  Yes                      No       ...          NaN   \n",
      "2214   About the same   No                      No       ...          0.0   \n",
      "\n",
      "     b27hyb  b27hyc  b27vza  b27vzb b27vzc           debt        wealth  \\\n",
      "0       0.0     0.0     0.0     0.0    0.0  111000.000000  3.958975e+05   \n",
      "1       0.0     0.0     0.0     0.0    0.0  234000.000000  2.357750e+05   \n",
      "2       0.0     0.0     0.0     0.0    0.0       0.000000  2.307100e+04   \n",
      "3       0.0     0.0     0.0     0.0    0.0  180000.000000  6.755335e+05   \n",
      "4       0.0     0.0     0.0     0.0    0.0  170000.000000  3.511514e+05   \n",
      "5       0.0     0.0     0.0     0.0    0.0   54000.000000  2.548600e+05   \n",
      "6       0.0     0.0     0.0     0.0    0.0  135000.000000  7.269620e+05   \n",
      "7       0.0     0.0     0.0     0.0    0.0       0.000000  2.246190e+05   \n",
      "8       0.0     0.0     0.0     0.0    0.0       0.000000  6.313500e+03   \n",
      "9       0.0     0.0     0.0     0.0    0.0       0.000000  2.050000e+03   \n",
      "10      0.0     0.0     0.0     0.0    0.0  108000.000000  4.678470e+05   \n",
      "11      0.0     0.0     0.0     0.0    0.0   95000.000000  2.888750e+05   \n",
      "12      0.0     0.0     0.0     0.0    0.0   73000.000000  3.669083e+05   \n",
      "13      0.0     0.0     0.0     0.0    0.0   92000.000000  2.300260e+05   \n",
      "14      0.0     0.0     0.0     0.0    0.0   80000.000000  3.441697e+05   \n",
      "15      0.0     0.0     0.0     0.0    0.0  225000.000000  4.994260e+05   \n",
      "16      0.0     0.0     0.0     0.0    0.0   72045.000000  6.653026e+05   \n",
      "17      0.0     0.0     0.0     0.0    0.0   85000.000000  8.471290e+05   \n",
      "18      NaN     NaN     NaN     NaN    NaN       0.000000  2.132900e+04   \n",
      "19      NaN     NaN     NaN     NaN    NaN       0.000000  8.450000e+03   \n",
      "20      0.0     0.0     0.0     0.0    0.0       0.000000  2.950000e+03   \n",
      "21      NaN     NaN     NaN     NaN    NaN       0.000000  1.000000e+01   \n",
      "22      0.0     0.0     0.0     0.0    0.0       0.000000  4.973000e+03   \n",
      "23      0.0     0.0     0.0     0.0    0.0  150000.000000  1.202649e+06   \n",
      "24      NaN     NaN     NaN     NaN    NaN       0.000000  0.000000e+00   \n",
      "25      0.0     0.0     0.0     0.0    0.0       0.000000  3.068040e+05   \n",
      "26      0.0     0.0     0.0     0.0    0.0   45000.000000  3.180620e+05   \n",
      "27      NaN     NaN     NaN     NaN    NaN       0.000000  1.872950e+04   \n",
      "28      0.0     0.0     0.0     0.0    0.0       0.000000  2.938750e+05   \n",
      "29      0.0     0.0     0.0     0.0    0.0  136375.000000  2.870100e+05   \n",
      "...     ...     ...     ...     ...    ...            ...           ...   \n",
      "2185    NaN     NaN     NaN     NaN    NaN       0.000000  4.245000e+05   \n",
      "2186    0.0     0.0     0.0     0.0    0.0       0.000000  2.047400e+04   \n",
      "2187    0.0     0.0     0.0     0.0    0.0       0.000000  3.181700e+05   \n",
      "2188    0.0     0.0     0.0     0.0    0.0  156638.625000  2.398975e+05   \n",
      "2189    0.0     0.0     0.0     0.0    0.0       0.000000  2.600000e+05   \n",
      "2190    NaN     NaN     NaN     NaN    NaN       0.000000  1.500000e+04   \n",
      "2191    0.0     0.0     0.0     0.0    0.0       0.000000  3.585100e+04   \n",
      "2192    NaN     NaN     NaN     NaN    NaN       0.000000  0.000000e+00   \n",
      "2193    0.0     0.0     0.0     0.0    0.0   46000.000000  3.783548e+05   \n",
      "2194    NaN     NaN     NaN     NaN    NaN       0.000000  1.439579e+05   \n",
      "2195    NaN     NaN     NaN     NaN    NaN       0.000000  1.317066e+04   \n",
      "2196    0.0     0.0     0.0     0.0    0.0       0.000000  6.000000e+03   \n",
      "2197    0.0     0.0     0.0     0.0    0.0  350000.000000  3.923849e+05   \n",
      "2198    NaN     NaN     NaN     NaN    NaN       0.000000  6.250000e+03   \n",
      "2199    0.0     0.0     0.0     0.0    0.0  147673.562500  2.062585e+05   \n",
      "2200    0.0     0.0     0.0     0.0    0.0    1400.000000  2.475000e+05   \n",
      "2201    0.0     0.0     0.0     0.0    0.0       0.000000  2.326000e+05   \n",
      "2202    0.0     0.0     0.0     0.0    0.0       0.000000  2.397630e+05   \n",
      "2203    0.0     0.0     0.0     0.0    0.0  253999.984375  3.527889e+05   \n",
      "2204    0.0     0.0     0.0     0.0    0.0     966.000000  1.934000e+03   \n",
      "2205    0.0     0.0     0.0     0.0    0.0       0.000000  2.427089e+05   \n",
      "2206    0.0     0.0     0.0     0.0    0.0   75000.000000  5.135730e+05   \n",
      "2207    NaN     NaN     NaN     NaN    NaN       0.000000  0.000000e+00   \n",
      "2208    0.0     0.0     0.0     0.0    0.0   64900.001863  1.051250e+05   \n",
      "2209    NaN     NaN     NaN     NaN    NaN       0.000000  9.511275e+03   \n",
      "2210    0.0     0.0     0.0     0.0    0.0   80000.000000  5.394530e+05   \n",
      "2211    NaN     NaN     NaN     NaN    NaN       0.000000  0.000000e+00   \n",
      "2212    NaN     NaN     NaN     NaN    NaN       0.000000  7.427230e+03   \n",
      "2213    NaN     NaN     NaN     NaN    NaN   70000.000000  5.751000e+03   \n",
      "2214    0.0     0.0     0.0     0.0    0.0  380763.140625  2.187500e+05   \n",
      "\n",
      "          netWorth selfAssedHealth  \n",
      "0     2.848975e+05               1  \n",
      "1     1.775000e+03               1  \n",
      "2     2.307100e+04               1  \n",
      "3     4.955335e+05               1  \n",
      "4     1.811514e+05               1  \n",
      "5     2.008600e+05               1  \n",
      "6     5.919620e+05               1  \n",
      "7     2.246190e+05               1  \n",
      "8     6.313500e+03               1  \n",
      "9     2.050000e+03               1  \n",
      "10    3.598470e+05               1  \n",
      "11    1.938750e+05               1  \n",
      "12    2.939083e+05               1  \n",
      "13    1.380260e+05               1  \n",
      "14    2.641697e+05               1  \n",
      "15    2.744260e+05               1  \n",
      "16    5.932576e+05               1  \n",
      "17    7.621290e+05               1  \n",
      "18    2.132900e+04               1  \n",
      "19    8.450000e+03               0  \n",
      "20    2.950000e+03               1  \n",
      "21    1.000000e+01               1  \n",
      "22    4.973000e+03               1  \n",
      "23    1.052649e+06               1  \n",
      "24    0.000000e+00               1  \n",
      "25    3.068040e+05               1  \n",
      "26    2.730620e+05               1  \n",
      "27    1.872950e+04               1  \n",
      "28    2.938750e+05               1  \n",
      "29    1.506350e+05               1  \n",
      "...            ...             ...  \n",
      "2185  4.245000e+05               1  \n",
      "2186  2.047400e+04               1  \n",
      "2187  3.181700e+05               1  \n",
      "2188  8.325884e+04               1  \n",
      "2189  2.600000e+05               1  \n",
      "2190  1.500000e+04               1  \n",
      "2191  3.585100e+04               1  \n",
      "2192  0.000000e+00               1  \n",
      "2193  3.323548e+05               1  \n",
      "2194  1.439579e+05               1  \n",
      "2195  1.317066e+04               1  \n",
      "2196  6.000000e+03               1  \n",
      "2197  4.238489e+04               1  \n",
      "2198  6.250000e+03               1  \n",
      "2199  5.858498e+04               1  \n",
      "2200  2.461000e+05               1  \n",
      "2201  2.326000e+05               1  \n",
      "2202  2.397630e+05               0  \n",
      "2203  9.878892e+04               1  \n",
      "2204  9.680000e+02               0  \n",
      "2205  2.427089e+05               1  \n",
      "2206  4.385730e+05               1  \n",
      "2207  0.000000e+00               1  \n",
      "2208  4.022500e+04               1  \n",
      "2209  9.511275e+03               1  \n",
      "2210  4.594530e+05               1  \n",
      "2211  0.000000e+00               1  \n",
      "2212  7.427230e+03               1  \n",
      "2213 -6.424900e+04               1  \n",
      "2214 -1.620131e+05               1  \n",
      "\n",
      "[2215 rows x 158 columns]\n"
     ]
    }
   ],
   "source": [
    "print(merged)"
   ]
  },
  {
   "cell_type": "code",
   "execution_count": null,
   "metadata": {},
   "outputs": [],
   "source": []
  },
  {
   "cell_type": "code",
   "execution_count": null,
   "metadata": {},
   "outputs": [],
   "source": []
  }
 ],
 "metadata": {
  "kernelspec": {
   "display_name": "Python 3",
   "language": "python",
   "name": "python3"
  },
  "language_info": {
   "codemirror_mode": {
    "name": "ipython",
    "version": 3
   },
   "file_extension": ".py",
   "mimetype": "text/x-python",
   "name": "python",
   "nbconvert_exporter": "python",
   "pygments_lexer": "ipython3",
   "version": "3.6.4"
  }
 },
 "nbformat": 4,
 "nbformat_minor": 2
}
