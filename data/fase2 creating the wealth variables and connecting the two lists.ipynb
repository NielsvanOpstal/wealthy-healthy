{
 "cells": [
  {
   "cell_type": "code",
   "execution_count": 163,
   "metadata": {},
   "outputs": [],
   "source": [
    "import pandas as pd\n",
    "import numpy as np\n",
    "import matplotlib.pyplot as plt\n",
    "import statsmodels.formula.api as sm\n",
    "from scipy import stats\n",
    "agw2017 = pd.read_stata(\"agw2017\")\n",
    "agw2013 = pd.read_stata(\"agw2013\")\n",
    "agw2007 = pd.read_stata(\"agw2007\")\n",
    "\n",
    "gez2017 = pd.read_stata(\"gez2017\")\n",
    "gez2013 = pd.read_stata(\"gez2013\")\n",
    "gez2007 = pd.read_stata(\"gez2007\")\n",
    "\n",
    "\n"
   ]
  },
  {
   "cell_type": "code",
   "execution_count": null,
   "metadata": {},
   "outputs": [],
   "source": []
  },
  {
   "cell_type": "code",
   "execution_count": 164,
   "metadata": {
    "scrolled": true
   },
   "outputs": [
    {
     "name": "stdout",
     "output_type": "stream",
     "text": [
      "0       225000.000000\n",
      "1       220000.000000\n",
      "2                 NaN\n",
      "3            0.000000\n",
      "4                 NaN\n",
      "5       255000.000000\n",
      "6       150000.000000\n",
      "7                 NaN\n",
      "8       175000.000000\n",
      "9       200000.000000\n",
      "10      260000.015625\n",
      "11      200000.000000\n",
      "12                NaN\n",
      "13           0.000000\n",
      "14           0.000000\n",
      "15                NaN\n",
      "16           0.000000\n",
      "17      400000.000000\n",
      "18                NaN\n",
      "19      545000.000000\n",
      "20           0.000000\n",
      "21           0.000000\n",
      "22      245000.000000\n",
      "23           0.000000\n",
      "24           0.000000\n",
      "25      125000.000000\n",
      "26      175000.000000\n",
      "27      200000.000000\n",
      "28      479999.968750\n",
      "29      400000.000000\n",
      "            ...      \n",
      "2011              NaN\n",
      "2012              NaN\n",
      "2013         0.000000\n",
      "2014         0.000000\n",
      "2015    260000.015625\n",
      "2016              NaN\n",
      "2017              NaN\n",
      "2018    255000.000000\n",
      "2019              NaN\n",
      "2020         0.000000\n",
      "2021              NaN\n",
      "2022         0.000000\n",
      "2023    370000.000000\n",
      "2024              NaN\n",
      "2025         0.000000\n",
      "2026    220000.000000\n",
      "2027         0.000000\n",
      "2028              NaN\n",
      "2029              NaN\n",
      "2030    227350.156250\n",
      "2031    320000.000000\n",
      "2032              NaN\n",
      "2033    380000.000000\n",
      "2034              NaN\n",
      "2035    180000.000000\n",
      "2036              NaN\n",
      "2037         0.000000\n",
      "2038    350000.000000\n",
      "2039    110000.000000\n",
      "2040         0.000000\n",
      "Name: b26ogb, Length: 2041, dtype: float64\n"
     ]
    }
   ],
   "source": [
    "print(agw2013[\"b26ogb\"])"
   ]
  },
  {
   "cell_type": "markdown",
   "metadata": {},
   "source": [
    "Vragenlijst Wonen en Hypotheken\n",
    "B26Og eigenaar van woning (1=ja, 0=nee)\n",
    "B26Hy hypotheken op de woning\n",
    "B26Vz cash value levensverzekering hypotheek woning\n",
    "B27Og eigenaar van tweede woning (1=ja, 0=nee)\n",
    "B27Hy hypotheken op tweede woning\n",
    "B27Vz cash value levensverzekering hypotheek tweede woning"
   ]
  },
  {
   "cell_type": "markdown",
   "metadata": {},
   "source": [
    "### Eerst maak ik de Net-worth variabele\n",
    "\n",
    "Dit doe ik dmv een functie die alle bezittingen (b1b, b2b, ..., b30b) bij elkaar optelt en daar de schulden (s1b, s2b, ..., s8b, x1b) vanaf trekt."
   ]
  },
  {
   "cell_type": "code",
   "execution_count": 165,
   "metadata": {},
   "outputs": [],
   "source": [
    "def calcWealth(row):\n",
    "    wealth = (row[\"b1b\"] + row[\"b2b\"] + row[\"b3b\"] + row[\"b4b\"] + row[\"b6b\"] + row[\"b7b\"] + row[\"b8b\"] + row[\"b11b\"]\n",
    "              + row[\"b12b\"] + row[\"b13b\"] + row[\"b14b\"] + row[\"b15b\"] + row[\"b16b\"] + row[\"b17b\"] + row[\"b18b\"] + \n",
    "             row[\"b19ogb\"] + row[\"b19hyb\"] + row[\"b19vzb\"] + row[\"b20b\"] + row[\"b21b\"] + row[\"b22b\"] + row[\"b23b\"] +\n",
    "             row[\"b24b\"] + row[\"b25b\"] + row[\"b28b\"] + row[\"b29b\"] + row[\"b30b\"])\n",
    "    # Door te checken of b26ogb > -1 zorg ik dat enkel rows zonder NaN hier worden gebruikt. Ze zijn of volledig Nan of niet\n",
    "    if row[\"b26ogb\"] > -1:\n",
    "        wealth += row[\"b26ogb\"] + row[\"b26vzb\"] + row[\"b27ogb\"] + row[\"b27vzb\"]\n",
    "    return wealth"
   ]
  },
  {
   "cell_type": "code",
   "execution_count": 166,
   "metadata": {},
   "outputs": [],
   "source": [
    "def calcDebt(row):\n",
    "    debt = (row[\"s1b\"] + row[\"s2b\"] + row[\"s3b\"] + row[\"s4b\"] + row[\"s5b\"] + row[\"s6b\"] + row[\"s7b\"] + row[\"s8b\"] +\n",
    "           row[\"x1b\"]) \n",
    "    # Door te checken of b26ogb > -1 zorg ik dat enkel rows zonder NaN hier worden gebruikt. Ze zijn of volledig Nan of niet\n",
    "    if row[\"b26ogb\"] > -1:\n",
    "        debt += row[\"b26hyb\"] + row[\"b27hyb\"]\n",
    "    \n",
    "    return debt"
   ]
  },
  {
   "cell_type": "code",
   "execution_count": 167,
   "metadata": {},
   "outputs": [],
   "source": [
    "def calcNetWorth(row):\n",
    "    netWorth = row[\"wealth\"] - row[\"debt\"]\n",
    "    return netWorth"
   ]
  },
  {
   "cell_type": "code",
   "execution_count": 168,
   "metadata": {},
   "outputs": [],
   "source": [
    "agw2017[\"debt\"] = agw2017.apply(calcDebt, axis = 1)\n",
    "agw2013[\"debt\"] = agw2013.apply(calcDebt, axis = 1)\n",
    "agw2007[\"debt\"] = agw2007.apply(calcDebt, axis = 1)\n",
    "\n",
    "\n"
   ]
  },
  {
   "cell_type": "code",
   "execution_count": 169,
   "metadata": {},
   "outputs": [],
   "source": [
    "agw2017[\"wealth\"] = agw2017.apply(calcWealth, axis = 1)\n",
    "agw2013[\"wealth\"] = agw2013.apply(calcWealth, axis = 1)\n",
    "agw2007[\"wealth\"] = agw2007.apply(calcWealth, axis = 1)\n",
    "\n"
   ]
  },
  {
   "cell_type": "code",
   "execution_count": 170,
   "metadata": {},
   "outputs": [],
   "source": [
    "agw2017[\"netWorth\"] = agw2017.apply(calcNetWorth, axis = 1)\n",
    "agw2013[\"netWorth\"] = agw2013.apply(calcNetWorth, axis = 1)\n",
    "agw2007[\"netWorth\"] = agw2007.apply(calcNetWorth, axis = 1)"
   ]
  },
  {
   "cell_type": "code",
   "execution_count": 171,
   "metadata": {},
   "outputs": [
    {
     "name": "stdout",
     "output_type": "stream",
     "text": [
      "aantal positieve networth: 1722 aantal negatieve networth: 219\n",
      "aantal met net worth nul (waarschijnlijk lege entries): 99\n"
     ]
    }
   ],
   "source": [
    "# Counter om aantal positieve en negatieve networths te tellen\n",
    "pos = 0\n",
    "neg = 0\n",
    "zero = 0\n",
    "\n",
    "# Arrays om de negatieven en positieven networths bij te houden\n",
    "negatives = []\n",
    "positives = []\n",
    "\n",
    "# Bepaald voor iedere row of de networth positief of negatief is en zet deze waarde in een array\n",
    "for x in range(0, agw2013.shape[0] - 1):\n",
    "    if agw2013.loc[x,\"netWorth\"] > 0:\n",
    "        positives.append(agw2013.loc[x, \"netWorth\"])\n",
    "        pos += 1\n",
    "    elif agw2013.loc[x, \"netWorth\"] < 0:\n",
    "        negatives.append(agw2013.loc[x, \"netWorth\"])\n",
    "        neg += 1\n",
    "    else:\n",
    "        zero += 1\n",
    "        \n",
    "print(\"aantal positieve networth: \" + str(pos) +  \" aantal negatieve networth: \" + str(neg))\n",
    "print(\"aantal met net worth nul (waarschijnlijk lege entries): \" + str(zero))"
   ]
  },
  {
   "cell_type": "code",
   "execution_count": 172,
   "metadata": {},
   "outputs": [],
   "source": [
    "# negatives.sort()\n",
    "# positives.sort()\n",
    "\n",
    "# plt.hist(positives)\n",
    "# plt.title(\"positive net worths\")\n",
    "# plt.show()\n",
    "\n",
    "# plt.hist(positives, range = (0, 250000))\n",
    "# plt.title(\"positive net worths met max wealth 250k\")\n",
    "# plt.show()\n",
    "\n",
    "# plt.hist(negatives)\n",
    "# plt.title(\"negative net worths\")\n",
    "# plt.show()\n",
    "\n",
    "# plt.hist(negatives, range = (-25000, 0))\n",
    "# plt.title(\"negative net worths with -25k max debt\")\n",
    "# plt.show()"
   ]
  },
  {
   "cell_type": "markdown",
   "metadata": {},
   "source": [
    "# Hier boven:\n",
    "\n",
    "het feit dat bezit tot 10x zo veel gaat als schuld, kan leiden tot ene verschil in effect op  gezondheid (bijvoorbeeld 10x minder sterk oid) Misschien hier nog iets mee doen!"
   ]
  },
  {
   "cell_type": "code",
   "execution_count": 173,
   "metadata": {},
   "outputs": [],
   "source": [
    "merged2017 = pd.merge(gez2017, agw2017, on = \"personid\")\n",
    "merged2013 = pd.merge(gez2013, agw2013, on = \"personid\")\n",
    "merged2007 = pd.merge(gez2007, agw2007, on = \"personid\")\n"
   ]
  },
  {
   "cell_type": "code",
   "execution_count": 174,
   "metadata": {},
   "outputs": [],
   "source": [
    "merged = pd.merge(merged2017, merged2013, on = \"personid\")\n",
    "merged = pd.merge(merged, merged2007, on = \"personid\")\n"
   ]
  },
  {
   "cell_type": "code",
   "execution_count": 175,
   "metadata": {},
   "outputs": [],
   "source": [
    "def selfAssedHealth(row):\n",
    "    healthValues = {\"Excellent\" : 1, \"Good\" : 1, \"Fair\" : 1, \"Not so good\" : 0, \"Poor\" : 0,\n",
    "                    \"excellent\" : 1, \"good\" : 1, \"fair\" : 1, \"not so good\" : 0, \"poor\" : 0} \n",
    "    \n",
    "    return healthValues[row[\"gez3\"]]\n"
   ]
  },
  {
   "cell_type": "markdown",
   "metadata": {},
   "source": [
    "http://www.statsmodels.org/stable/discretemod.html"
   ]
  },
  {
   "cell_type": "code",
   "execution_count": 176,
   "metadata": {},
   "outputs": [],
   "source": [
    "merged2017[\"health\"] = merged2017.apply(selfAssedHealth, axis = 1)\n",
    "merged2013[\"health\"] = merged2013.apply(selfAssedHealth, axis = 1)\n",
    "merged2007[\"health\"] = merged2007.apply(selfAssedHealth, axis = 1)"
   ]
  },
  {
   "cell_type": "code",
   "execution_count": 177,
   "metadata": {},
   "outputs": [],
   "source": [
    "def dummyGroup(row):\n",
    "    if row[\"b26oga\"] == 1:\n",
    "        return 1\n",
    "    else:\n",
    "        return 0\n",
    "        "
   ]
  },
  {
   "cell_type": "code",
   "execution_count": 178,
   "metadata": {},
   "outputs": [],
   "source": [
    "merged2017[\"treated\"] = merged2017.apply(dummyGroup, axis = 1)\n",
    "merged2013[\"treated\"] = merged2013.apply(dummyGroup, axis = 1)\n",
    "merged2007[\"treated\"] = merged2007.apply(dummyGroup, axis = 1)\n"
   ]
  },
  {
   "cell_type": "code",
   "execution_count": 179,
   "metadata": {},
   "outputs": [],
   "source": [
    "merged2017[\"time\"] = 1\n",
    "merged2013[\"time\"] = 1\n",
    "merged2007[\"time\"] = 0"
   ]
  },
  {
   "cell_type": "code",
   "execution_count": 180,
   "metadata": {},
   "outputs": [],
   "source": [
    "def interaction(row):\n",
    "    return (row[\"time\"] * row[\"treated\"])"
   ]
  },
  {
   "cell_type": "code",
   "execution_count": 181,
   "metadata": {},
   "outputs": [],
   "source": [
    "merged2017[\"DID\"] = merged2017.apply(interaction, axis = 1)\n",
    "merged2013[\"DID\"] = merged2013.apply(interaction, axis = 1)\n",
    "merged2007[\"DID\"] = merged2007.apply(interaction, axis = 1)"
   ]
  },
  {
   "cell_type": "code",
   "execution_count": 182,
   "metadata": {},
   "outputs": [],
   "source": [
    "merged2017[\"2013\"] = 0\n",
    "merged2017[\"2017\"] = 1\n",
    "merged2013[\"2013\"] = 1\n",
    "merged2013[\"2017\"] = 0\n",
    "merged2007[\"2013\"] = 0\n",
    "merged2007[\"2017\"] = 0"
   ]
  },
  {
   "cell_type": "code",
   "execution_count": 21,
   "metadata": {},
   "outputs": [],
   "source": [
    "frames0713 = [merged2007, merged2013]\n",
    "frames0717 = [merged2007, merged2017]\n",
    "frames071317 = [merged2007, merged2013, merged2017]\n",
    "list0713 = pd.concat(frames0713)\n",
    "list0717 = pd.concat(frames0717)\n",
    "list071317 = pd.concat(frames071317)\n"
   ]
  },
  {
   "cell_type": "code",
   "execution_count": 22,
   "metadata": {},
   "outputs": [],
   "source": [
    "merged2013[\"time\"] = 0\n",
    "merged2013[\"DID\"] = merged2013.apply(interaction, axis = 1)\n",
    "frames1317 = [merged2013, merged2017]\n",
    "list1317 = pd.concat(frames1317)"
   ]
  },
  {
   "cell_type": "code",
   "execution_count": 23,
   "metadata": {},
   "outputs": [
    {
     "name": "stderr",
     "output_type": "stream",
     "text": [
      "/home/niels/anaconda3/lib/python3.6/site-packages/pandas/io/stata.py:2086: InvalidColumnName: \n",
      "Not all pandas column names were valid Stata variable names.\n",
      "The following replacements have been made:\n",
      "\n",
      "    b'2013'   ->   _2013\n",
      "    b'2017'   ->   _2017\n",
      "\n",
      "If this is not what you expect, please make sure you have Stata-compliant\n",
      "column names in your DataFrame (strings only, max 32 characters, only\n",
      "alphanumerics and underscores, no Stata reserved words)\n",
      "\n",
      "  warnings.warn(ws, InvalidColumnName)\n"
     ]
    }
   ],
   "source": [
    "list0713.to_stata(\"list0713.dta\")\n",
    "list0717.to_stata(\"list0717.dta\")\n",
    "list071317.to_stata(\"list071317.dta\")\n",
    "list1317.to_stata(\"list1317.dta\")"
   ]
  },
  {
   "cell_type": "code",
   "execution_count": 24,
   "metadata": {},
   "outputs": [],
   "source": [
    "def nHealthy(data):\n",
    "    healthy = 0\n",
    "    unhealthy = 0\n",
    "    for x in range(0, data.shape[0] - 1):\n",
    "        if data.loc[x, \"health\"] == 1:\n",
    "            healthy += 1\n",
    "        else:\n",
    "            unhealthy += 1\n",
    "    print(\"aantal healthy: \" + str(healthy) + \" en aantal unhealthy: \" + str(unhealthy))"
   ]
  },
  {
   "cell_type": "code",
   "execution_count": 25,
   "metadata": {},
   "outputs": [],
   "source": [
    "frames = [merged2007, merged2013, merged2017]\n",
    "langeLijst = pd.concat(frames)"
   ]
  },
  {
   "cell_type": "code",
   "execution_count": 26,
   "metadata": {},
   "outputs": [
    {
     "name": "stderr",
     "output_type": "stream",
     "text": [
      "/home/niels/anaconda3/lib/python3.6/site-packages/pandas/io/stata.py:2086: InvalidColumnName: \n",
      "Not all pandas column names were valid Stata variable names.\n",
      "The following replacements have been made:\n",
      "\n",
      "    b'2013'   ->   _2013\n",
      "    b'2017'   ->   _2017\n",
      "\n",
      "If this is not what you expect, please make sure you have Stata-compliant\n",
      "column names in your DataFrame (strings only, max 32 characters, only\n",
      "alphanumerics and underscores, no Stata reserved words)\n",
      "\n",
      "  warnings.warn(ws, InvalidColumnName)\n"
     ]
    }
   ],
   "source": [
    "langeLijst.to_stata(\"langeLijst.dta\")"
   ]
  },
  {
   "cell_type": "code",
   "execution_count": 27,
   "metadata": {
    "scrolled": true
   },
   "outputs": [
    {
     "name": "stderr",
     "output_type": "stream",
     "text": [
      "/home/niels/anaconda3/lib/python3.6/site-packages/pandas/io/stata.py:2086: InvalidColumnName: \n",
      "Not all pandas column names were valid Stata variable names.\n",
      "The following replacements have been made:\n",
      "\n",
      "    b'2013'   ->   _2013\n",
      "    b'2017'   ->   _2017\n",
      "\n",
      "If this is not what you expect, please make sure you have Stata-compliant\n",
      "column names in your DataFrame (strings only, max 32 characters, only\n",
      "alphanumerics and underscores, no Stata reserved words)\n",
      "\n",
      "  warnings.warn(ws, InvalidColumnName)\n"
     ]
    }
   ],
   "source": [
    "merged2017.to_stata(\"merged_data2017.dta\")\n",
    "merged2013.to_stata(\"merged_data2013.dta\")\n",
    "merged2007.to_stata(\"merged_data2007.dta\")"
   ]
  },
  {
   "cell_type": "code",
   "execution_count": 28,
   "metadata": {},
   "outputs": [],
   "source": [
    "merged.to_stata(\"merged_data.dta\")"
   ]
  },
  {
   "cell_type": "code",
   "execution_count": 29,
   "metadata": {},
   "outputs": [],
   "source": [
    "samelist0713 = list0713[list0713.duplicated([\"personid\"], keep = False)]\n",
    "samelist0717 = list0717[list0717.duplicated([\"personid\"], keep = False)]\n",
    "samelist1317 = list1317[list1317.duplicated([\"personid\"], keep = False)]"
   ]
  },
  {
   "cell_type": "code",
   "execution_count": 30,
   "metadata": {},
   "outputs": [
    {
     "name": "stderr",
     "output_type": "stream",
     "text": [
      "/home/niels/anaconda3/lib/python3.6/site-packages/pandas/io/stata.py:2086: InvalidColumnName: \n",
      "Not all pandas column names were valid Stata variable names.\n",
      "The following replacements have been made:\n",
      "\n",
      "    b'2013'   ->   _2013\n",
      "    b'2017'   ->   _2017\n",
      "\n",
      "If this is not what you expect, please make sure you have Stata-compliant\n",
      "column names in your DataFrame (strings only, max 32 characters, only\n",
      "alphanumerics and underscores, no Stata reserved words)\n",
      "\n",
      "  warnings.warn(ws, InvalidColumnName)\n"
     ]
    }
   ],
   "source": [
    "samelist0713.to_stata(\"samelist0713.dta\")\n",
    "samelist0717.to_stata(\"samelist0717.dta\")\n",
    "samelist1317.to_stata(\"samelist1317.dta\")"
   ]
  },
  {
   "cell_type": "code",
   "execution_count": 31,
   "metadata": {},
   "outputs": [],
   "source": [
    "hhi2007 = pd.read_stata(\"hhi2007en_2.0.dta\")\n",
    "hhi2013 = pd.read_stata(\"hhi2013en_2.0.dta\")\n",
    "hhi2017 = pd.read_stata(\"hhi2017en_1.0.dta\")\n",
    "\n"
   ]
  },
  {
   "cell_type": "code",
   "execution_count": 32,
   "metadata": {},
   "outputs": [],
   "source": [
    "def idCalc(row):\n",
    "    return row[\"nohhold\"] * 100 + row[\"nomem\"]"
   ]
  },
  {
   "cell_type": "code",
   "execution_count": 33,
   "metadata": {},
   "outputs": [],
   "source": [
    "hhi2007[\"personid\"] = hhi2007.apply(idCalc, axis = 1)\n",
    "hhi2013[\"personid\"] = hhi2013.apply(idCalc, axis = 1)\n",
    "hhi2017[\"personid\"] = hhi2017.apply(idCalc, axis = 1)"
   ]
  },
  {
   "cell_type": "code",
   "execution_count": 34,
   "metadata": {},
   "outputs": [],
   "source": [
    "hhi2007 = hhi2007[hhi2007.oplmet.notnull()]\n",
    "hhi2013 = hhi2013[hhi2013.oplmet.notnull()]\n",
    "hhi2017 = hhi2017[hhi2017.oplmet.notnull()]"
   ]
  },
  {
   "cell_type": "code",
   "execution_count": 35,
   "metadata": {},
   "outputs": [],
   "source": [
    "def gender(row):\n",
    "    genderValues = {\"male\" : 1, \"female\" : 0, \"Male\" : 1, \"Female\" : 0}\n",
    "    return genderValues[row[\"geslacht\"]]\n",
    "    "
   ]
  },
  {
   "cell_type": "code",
   "execution_count": 36,
   "metadata": {},
   "outputs": [],
   "source": [
    "hhi2007[\"gender\"] = hhi2007.apply(gender, axis = 1)\n",
    "hhi2013[\"gender\"] = hhi2013.apply(gender, axis = 1)\n",
    "hhi2017[\"gender\"] = hhi2017.apply(gender, axis = 1)"
   ]
  },
  {
   "cell_type": "code",
   "execution_count": 37,
   "metadata": {},
   "outputs": [],
   "source": [
    "def education(row):\n",
    "    highEducation = {\"HBO (eerste of tweede fase) / vocational colleges\" : 1, \"Wetenschappelijk onderwijs WO / university education\" : 1,\n",
    "                    \"HAVO/VWO / pre-university education\" : 0, \"MBO of het leerlingwezen / senior vocational training or training through appren\" : 0,\n",
    "                    \"Kleuter-, lager- of basisonderwijs / kindergarten/primary education\" : 0, \"Voorbereidend middelbaar beroepsonderwijs (VMBO) / pre-vocational education\" : 0,\n",
    "                    \"No education (yet)\" : 0, \"(Voortgezet) speciaal onderwijs / (continued) special education\" : 0,\n",
    "                    \"other sort of education/training\" : 0, \"Did not have education (yet)\" : 0}\n",
    "    return highEducation[row[\"oplmet\"]]"
   ]
  },
  {
   "cell_type": "code",
   "execution_count": 38,
   "metadata": {
    "scrolled": true
   },
   "outputs": [],
   "source": [
    "hhi2007[\"education\"] = hhi2007.apply(education, axis = 1)\n",
    "hhi2013[\"education\"] = hhi2013.apply(education, axis = 1)\n",
    "hhi2017[\"education\"] = hhi2017.apply(education, axis = 1)\n"
   ]
  },
  {
   "cell_type": "code",
   "execution_count": 39,
   "metadata": {},
   "outputs": [],
   "source": [
    "def werkloosDummy(row):\n",
    "    werk = [\"looking for work after having lost job\", \"Looking for work after having lost job\",  \n",
    "            \"looking for first-time work\", \"looking for first-time work\"]\n",
    "    if row[\"bezighei\"] in werk:\n",
    "        return 1\n",
    "    else:\n",
    "        return 0"
   ]
  },
  {
   "cell_type": "code",
   "execution_count": 40,
   "metadata": {},
   "outputs": [],
   "source": [
    "hhi2007[\"unemployed\"] = hhi2007.apply(werkloosDummy, axis =1)\n",
    "hhi2013[\"unemployed\"] = hhi2013.apply(werkloosDummy, axis =1)\n",
    "hhi2017[\"unemployed\"] = hhi2017.apply(werkloosDummy, axis =1)"
   ]
  },
  {
   "cell_type": "code",
   "execution_count": 41,
   "metadata": {},
   "outputs": [],
   "source": [
    "hhi2007 = hhi2007[[\"personid\", \"education\", \"gender\", \"unemployed\"]]\n",
    "hhi2013 = hhi2013[[\"personid\", \"education\", \"gender\", \"unemployed\"]]\n",
    "hhi2017 = hhi2017[[\"personid\", \"education\", \"gender\", \"unemployed\"]]"
   ]
  },
  {
   "cell_type": "code",
   "execution_count": 42,
   "metadata": {
    "scrolled": true
   },
   "outputs": [
    {
     "data": {
      "text/plain": [
       "['personid', 'education', 'gender', 'unemployed']"
      ]
     },
     "execution_count": 42,
     "metadata": {},
     "output_type": "execute_result"
    }
   ],
   "source": [
    "list(hhi2007)"
   ]
  },
  {
   "cell_type": "code",
   "execution_count": 197,
   "metadata": {},
   "outputs": [],
   "source": [
    "agi2007 = pd.read_stata(\"agi2007en_2.0.dta\")\n",
    "agi2013 = pd.read_stata(\"agi2013en_2.0.dta\")\n",
    "agi2017 = pd.read_stata(\"agi2017en_1.0.dta\")\n"
   ]
  },
  {
   "cell_type": "code",
   "execution_count": 198,
   "metadata": {},
   "outputs": [],
   "source": [
    "agi2007 = agi2007[agi2007.ntot.notnull()]\n",
    "agi2013 = agi2013[agi2013.ntot.notnull()]\n",
    "agi2017 = agi2017[agi2017.ntot.notnull()]"
   ]
  },
  {
   "cell_type": "code",
   "execution_count": 199,
   "metadata": {},
   "outputs": [],
   "source": [
    "agi2007[\"personid\"] = agi2007.apply(idCalc, axis = 1)\n",
    "agi2013[\"personid\"] = agi2013.apply(idCalc, axis = 1)\n",
    "agi2017[\"personid\"] = agi2017.apply(idCalc, axis = 1)\n"
   ]
  },
  {
   "cell_type": "code",
   "execution_count": 200,
   "metadata": {},
   "outputs": [],
   "source": [
    "agi2007 = agi2007[[\"personid\", \"ntot\"]]\n",
    "agi2013 = agi2013[[\"personid\", \"ntot\"]]\n",
    "agi2017 = agi2017[[\"personid\", \"ntot\"]]"
   ]
  },
  {
   "cell_type": "code",
   "execution_count": 162,
   "metadata": {},
   "outputs": [],
   "source": [
    "merged2017 = pd.merge(agw2017, gez2017, on = \"personid\")\n",
    "merged2013 = pd.merge(agw2013, gez2013, on = \"personid\")\n",
    "merged2007 = pd.merge(agw2007, gez2007, on = \"personid\")"
   ]
  },
  {
   "cell_type": "code",
   "execution_count": 203,
   "metadata": {},
   "outputs": [],
   "source": [
    "merged2017 = pd.merge(merged2017, agi2017, on = \"personid\")\n",
    "merged2013 = pd.merge(merged2013, agi2013, on = \"personid\")\n",
    "merged2007 = pd.merge(merged2007, agi2007, on = \"personid\")"
   ]
  },
  {
   "cell_type": "code",
   "execution_count": 205,
   "metadata": {
    "scrolled": false
   },
   "outputs": [
    {
     "data": {
      "text/plain": [
       "['index_x',\n",
       " 'nohhold_x',\n",
       " 'nomem_x',\n",
       " 'weeknr',\n",
       " 'gez1',\n",
       " 'gez2',\n",
       " 'gez3',\n",
       " 'gez4',\n",
       " 'gez5',\n",
       " 'personid',\n",
       " 'index_y',\n",
       " 'nohhold_y',\n",
       " 'nomem_y',\n",
       " 'b1a',\n",
       " 'b1b',\n",
       " 'b1c',\n",
       " 'b2a',\n",
       " 'b2b',\n",
       " 'b2c',\n",
       " 'b3a',\n",
       " 'b3b',\n",
       " 'b3c',\n",
       " 'b4a',\n",
       " 'b4b',\n",
       " 'b4c',\n",
       " 'b6a',\n",
       " 'b6b',\n",
       " 'b6c',\n",
       " 'b7a',\n",
       " 'b7b',\n",
       " 'b7c',\n",
       " 'b8a',\n",
       " 'b8b',\n",
       " 'b8c',\n",
       " 'b11a',\n",
       " 'b11b',\n",
       " 'b11c',\n",
       " 'b12a',\n",
       " 'b12b',\n",
       " 'b12c',\n",
       " 'b13a',\n",
       " 'b13b',\n",
       " 'b13c',\n",
       " 'b14a',\n",
       " 'b14b',\n",
       " 'b14c',\n",
       " 'b15a',\n",
       " 'b15b',\n",
       " 'b15c',\n",
       " 'b16a',\n",
       " 'b16b',\n",
       " 'b16c',\n",
       " 'b17a',\n",
       " 'b17b',\n",
       " 'b17c',\n",
       " 'b18a',\n",
       " 'b18b',\n",
       " 'b18c',\n",
       " 'b19oga',\n",
       " 'b19ogb',\n",
       " 'b19ogc',\n",
       " 'b19hya',\n",
       " 'b19hyb',\n",
       " 'b19hyc',\n",
       " 'b19vza',\n",
       " 'b19vzb',\n",
       " 'b19vzc',\n",
       " 'b20a',\n",
       " 'b20b',\n",
       " 'b20c',\n",
       " 'b21a',\n",
       " 'b21b',\n",
       " 'b21c',\n",
       " 'b22a',\n",
       " 'b22b',\n",
       " 'b22c',\n",
       " 'b23a',\n",
       " 'b23b',\n",
       " 'b23c',\n",
       " 'b24a',\n",
       " 'b24b',\n",
       " 'b24c',\n",
       " 'b25a',\n",
       " 'b25b',\n",
       " 'b25c',\n",
       " 'b28a',\n",
       " 'b28b',\n",
       " 'b28c',\n",
       " 'b29a',\n",
       " 'b29b',\n",
       " 'b29c',\n",
       " 'b30a',\n",
       " 'b30b',\n",
       " 'b30c',\n",
       " 's1a',\n",
       " 's1b',\n",
       " 's1c',\n",
       " 's2a',\n",
       " 's2b',\n",
       " 's2c',\n",
       " 's3a',\n",
       " 's3b',\n",
       " 's3c',\n",
       " 's4a',\n",
       " 's4b',\n",
       " 's4c',\n",
       " 's5a',\n",
       " 's5b',\n",
       " 's5c',\n",
       " 's6a',\n",
       " 's6b',\n",
       " 's6c',\n",
       " 's7a',\n",
       " 's7b',\n",
       " 's7c',\n",
       " 's8a',\n",
       " 's8b',\n",
       " 's8c',\n",
       " 'x1a',\n",
       " 'x1b',\n",
       " 'x1c',\n",
       " 'b26oga',\n",
       " 'b26ogb',\n",
       " 'b26ogc',\n",
       " 'b26hya',\n",
       " 'b26hyb',\n",
       " 'b26hyc',\n",
       " 'b26vza',\n",
       " 'b26vzb',\n",
       " 'b26vzc',\n",
       " 'b27oga',\n",
       " 'b27ogb',\n",
       " 'b27ogc',\n",
       " 'b27hya',\n",
       " 'b27hyb',\n",
       " 'b27hyc',\n",
       " 'b27vza',\n",
       " 'b27vzb',\n",
       " 'b27vzc',\n",
       " 'debt',\n",
       " 'wealth',\n",
       " 'netWorth',\n",
       " 'health',\n",
       " 'treated',\n",
       " 'time',\n",
       " 'DID',\n",
       " '2013',\n",
       " '2017',\n",
       " 'ntot_x',\n",
       " 'ntot_y',\n",
       " 'ntot']"
      ]
     },
     "execution_count": 205,
     "metadata": {},
     "output_type": "execute_result"
    }
   ],
   "source": [
    "list(merged2017)"
   ]
  },
  {
   "cell_type": "code",
   "execution_count": 49,
   "metadata": {},
   "outputs": [],
   "source": [
    "merged2017 = pd.merge(merged2017, hhi2017, on = \"personid\")\n",
    "merged2013 = pd.merge(merged2013, hhi2013, on = \"personid\")\n",
    "merged2007 = pd.merge(merged2007, hhi2007, on = \"personid\")"
   ]
  },
  {
   "cell_type": "code",
   "execution_count": 50,
   "metadata": {},
   "outputs": [],
   "source": [
    "merged2007[\"health\"] = merged2007.apply(selfAssedHealth, axis = 1)\n",
    "merged2013[\"health\"] = merged2013.apply(selfAssedHealth, axis = 1)\n",
    "merged2017[\"health\"] = merged2017.apply(selfAssedHealth, axis = 1)\n",
    "\n",
    "merged2007[\"treated\"] = merged2007.apply(dummyGroup, axis = 1)\n",
    "merged2013[\"treated\"] = merged2013.apply(dummyGroup, axis = 1)\n",
    "merged2017[\"treated\"] = merged2017.apply(dummyGroup, axis = 1)\n",
    "\n",
    "merged2007[\"time\"] = 0\n",
    "merged2013[\"time\"] = 0\n",
    "merged2017[\"time\"] = 1\n",
    "merged2007[\"DID\"] = merged2007.apply(interaction, axis = 1)\n",
    "merged2013[\"DID\"] = merged2013.apply(interaction, axis = 1)\n",
    "merged2017[\"DID\"] = merged2017.apply(interaction, axis = 1)"
   ]
  },
  {
   "cell_type": "code",
   "execution_count": 51,
   "metadata": {
    "scrolled": true
   },
   "outputs": [],
   "source": [
    "listall1317 = pd.concat([merged2013, merged2017])\n",
    "listall1317.to_stata(\"listall1317.dta\")\n",
    "\n"
   ]
  },
  {
   "cell_type": "code",
   "execution_count": 52,
   "metadata": {},
   "outputs": [],
   "source": [
    "merged2013[\"time\"] = 1\n",
    "merged2013[\"DID\"] = merged2013.apply(interaction , axis = 1)"
   ]
  },
  {
   "cell_type": "code",
   "execution_count": 53,
   "metadata": {},
   "outputs": [],
   "source": [
    "merged2013[\"time\"] = 1\n",
    "merged2013[\"DID\"] = merged2013.apply(interaction , axis = 1)"
   ]
  },
  {
   "cell_type": "code",
   "execution_count": 54,
   "metadata": {},
   "outputs": [],
   "source": [
    "\n",
    "listall0713 = pd.concat([merged2007, merged2013])\n",
    "listall0717 = pd.concat([merged2007, merged2017])"
   ]
  },
  {
   "cell_type": "code",
   "execution_count": 55,
   "metadata": {},
   "outputs": [],
   "source": [
    "listall0713.to_stata(\"listall0713.dta\")\n",
    "listall0717.to_stata(\"listall0717.dta\")"
   ]
  },
  {
   "cell_type": "markdown",
   "metadata": {},
   "source": [
    "# <><>HIER MAAK IK NIEUWE LIJST<><>"
   ]
  },
  {
   "cell_type": "code",
   "execution_count": 202,
   "metadata": {},
   "outputs": [
    {
     "ename": "AttributeError",
     "evalue": "'DataFrame' object has no attribute 'ntot'",
     "output_type": "error",
     "traceback": [
      "\u001b[0;31m---------------------------------------------------------------------------\u001b[0m",
      "\u001b[0;31mAttributeError\u001b[0m                            Traceback (most recent call last)",
      "\u001b[0;32m<ipython-input-202-173ac19c76ad>\u001b[0m in \u001b[0;36m<module>\u001b[0;34m()\u001b[0m\n\u001b[0;32m----> 1\u001b[0;31m \u001b[0mmerged2007\u001b[0m\u001b[0;34m.\u001b[0m\u001b[0mntot\u001b[0m\u001b[0;34m\u001b[0m\u001b[0m\n\u001b[0m",
      "\u001b[0;32m~/anaconda3/lib/python3.6/site-packages/pandas/core/generic.py\u001b[0m in \u001b[0;36m__getattr__\u001b[0;34m(self, name)\u001b[0m\n\u001b[1;32m   3612\u001b[0m             \u001b[0;32mif\u001b[0m \u001b[0mname\u001b[0m \u001b[0;32min\u001b[0m \u001b[0mself\u001b[0m\u001b[0;34m.\u001b[0m\u001b[0m_info_axis\u001b[0m\u001b[0;34m:\u001b[0m\u001b[0;34m\u001b[0m\u001b[0m\n\u001b[1;32m   3613\u001b[0m                 \u001b[0;32mreturn\u001b[0m \u001b[0mself\u001b[0m\u001b[0;34m[\u001b[0m\u001b[0mname\u001b[0m\u001b[0;34m]\u001b[0m\u001b[0;34m\u001b[0m\u001b[0m\n\u001b[0;32m-> 3614\u001b[0;31m             \u001b[0;32mreturn\u001b[0m \u001b[0mobject\u001b[0m\u001b[0;34m.\u001b[0m\u001b[0m__getattribute__\u001b[0m\u001b[0;34m(\u001b[0m\u001b[0mself\u001b[0m\u001b[0;34m,\u001b[0m \u001b[0mname\u001b[0m\u001b[0;34m)\u001b[0m\u001b[0;34m\u001b[0m\u001b[0m\n\u001b[0m\u001b[1;32m   3615\u001b[0m \u001b[0;34m\u001b[0m\u001b[0m\n\u001b[1;32m   3616\u001b[0m     \u001b[0;32mdef\u001b[0m \u001b[0m__setattr__\u001b[0m\u001b[0;34m(\u001b[0m\u001b[0mself\u001b[0m\u001b[0;34m,\u001b[0m \u001b[0mname\u001b[0m\u001b[0;34m,\u001b[0m \u001b[0mvalue\u001b[0m\u001b[0;34m)\u001b[0m\u001b[0;34m:\u001b[0m\u001b[0;34m\u001b[0m\u001b[0m\n",
      "\u001b[0;31mAttributeError\u001b[0m: 'DataFrame' object has no attribute 'ntot'"
     ]
    }
   ],
   "source": [
    "merged2007.ntot"
   ]
  },
  {
   "cell_type": "code",
   "execution_count": 188,
   "metadata": {},
   "outputs": [],
   "source": [
    "listextra0713 = pd.concat([merged2007, merged2013])\n"
   ]
  },
  {
   "cell_type": "code",
   "execution_count": 189,
   "metadata": {},
   "outputs": [],
   "source": [
    "merged2013[\"time\"] = 0"
   ]
  },
  {
   "cell_type": "code",
   "execution_count": 190,
   "metadata": {},
   "outputs": [
    {
     "data": {
      "text/plain": [
       "0       0\n",
       "1       0\n",
       "2       0\n",
       "3       0\n",
       "4       0\n",
       "5       0\n",
       "6       0\n",
       "7       0\n",
       "8       0\n",
       "9       0\n",
       "10      0\n",
       "11      0\n",
       "12      0\n",
       "13      0\n",
       "14      0\n",
       "15      0\n",
       "16      0\n",
       "17      0\n",
       "18      0\n",
       "19      0\n",
       "20      0\n",
       "21      0\n",
       "22      0\n",
       "23      0\n",
       "24      0\n",
       "25      0\n",
       "26      0\n",
       "27      0\n",
       "28      0\n",
       "29      0\n",
       "       ..\n",
       "1158    0\n",
       "1159    0\n",
       "1160    0\n",
       "1161    0\n",
       "1162    0\n",
       "1163    0\n",
       "1164    0\n",
       "1165    0\n",
       "1166    0\n",
       "1167    0\n",
       "1168    0\n",
       "1169    0\n",
       "1170    0\n",
       "1171    0\n",
       "1172    0\n",
       "1173    0\n",
       "1174    0\n",
       "1175    0\n",
       "1176    0\n",
       "1177    0\n",
       "1178    0\n",
       "1179    0\n",
       "1180    0\n",
       "1181    0\n",
       "1182    0\n",
       "1183    0\n",
       "1184    0\n",
       "1185    0\n",
       "1186    0\n",
       "1187    0\n",
       "Name: time, Length: 1188, dtype: int64"
      ]
     },
     "execution_count": 190,
     "metadata": {},
     "output_type": "execute_result"
    }
   ],
   "source": [
    "merged2013.time"
   ]
  },
  {
   "cell_type": "code",
   "execution_count": 191,
   "metadata": {},
   "outputs": [],
   "source": [
    "merged2013[\"DID\"] = merged2013.apply(interaction, axis = 1)"
   ]
  },
  {
   "cell_type": "code",
   "execution_count": 192,
   "metadata": {},
   "outputs": [],
   "source": [
    "listextra1317 = pd.concat([merged2013, merged2017])\n"
   ]
  },
  {
   "cell_type": "code",
   "execution_count": 193,
   "metadata": {},
   "outputs": [],
   "source": [
    "samelistExtra0713 = listextra0713[listextra0713.duplicated([\"personid\"], keep = False)]\n",
    "samelistExtra1317 = listextra1317[listextra1317.duplicated([\"personid\"], keep = False)]\n",
    "\n"
   ]
  },
  {
   "cell_type": "code",
   "execution_count": 194,
   "metadata": {},
   "outputs": [
    {
     "data": {
      "text/plain": [
       "(1030, 152)"
      ]
     },
     "execution_count": 194,
     "metadata": {},
     "output_type": "execute_result"
    }
   ],
   "source": [
    "samelistExtra0713.shape"
   ]
  },
  {
   "cell_type": "code",
   "execution_count": 196,
   "metadata": {},
   "outputs": [
    {
     "data": {
      "text/plain": [
       "['index_x',\n",
       " 'nohhold_x',\n",
       " 'nomem_x',\n",
       " 'weeknr',\n",
       " 'gez1',\n",
       " 'gez2',\n",
       " 'gez3',\n",
       " 'gez4',\n",
       " 'gez5',\n",
       " 'personid',\n",
       " 'index_y',\n",
       " 'nohhold_y',\n",
       " 'nomem_y',\n",
       " 'b1a',\n",
       " 'b1b',\n",
       " 'b1c',\n",
       " 'b2a',\n",
       " 'b2b',\n",
       " 'b2c',\n",
       " 'b3a',\n",
       " 'b3b',\n",
       " 'b3c',\n",
       " 'b4a',\n",
       " 'b4b',\n",
       " 'b4c',\n",
       " 'b6a',\n",
       " 'b6b',\n",
       " 'b6c',\n",
       " 'b7a',\n",
       " 'b7b',\n",
       " 'b7c',\n",
       " 'b8a',\n",
       " 'b8b',\n",
       " 'b8c',\n",
       " 'b11a',\n",
       " 'b11b',\n",
       " 'b11c',\n",
       " 'b12a',\n",
       " 'b12b',\n",
       " 'b12c',\n",
       " 'b13a',\n",
       " 'b13b',\n",
       " 'b13c',\n",
       " 'b14a',\n",
       " 'b14b',\n",
       " 'b14c',\n",
       " 'b15a',\n",
       " 'b15b',\n",
       " 'b15c',\n",
       " 'b16a',\n",
       " 'b16b',\n",
       " 'b16c',\n",
       " 'b17a',\n",
       " 'b17b',\n",
       " 'b17c',\n",
       " 'b18a',\n",
       " 'b18b',\n",
       " 'b18c',\n",
       " 'b19oga',\n",
       " 'b19ogb',\n",
       " 'b19ogc',\n",
       " 'b19hya',\n",
       " 'b19hyb',\n",
       " 'b19hyc',\n",
       " 'b19vza',\n",
       " 'b19vzb',\n",
       " 'b19vzc',\n",
       " 'b20a',\n",
       " 'b20b',\n",
       " 'b20c',\n",
       " 'b21a',\n",
       " 'b21b',\n",
       " 'b21c',\n",
       " 'b22a',\n",
       " 'b22b',\n",
       " 'b22c',\n",
       " 'b23a',\n",
       " 'b23b',\n",
       " 'b23c',\n",
       " 'b24a',\n",
       " 'b24b',\n",
       " 'b24c',\n",
       " 'b25a',\n",
       " 'b25b',\n",
       " 'b25c',\n",
       " 'b28a',\n",
       " 'b28b',\n",
       " 'b28c',\n",
       " 'b29a',\n",
       " 'b29b',\n",
       " 'b29c',\n",
       " 'b30a',\n",
       " 'b30b',\n",
       " 'b30c',\n",
       " 's1a',\n",
       " 's1b',\n",
       " 's1c',\n",
       " 's2a',\n",
       " 's2b',\n",
       " 's2c',\n",
       " 's3a',\n",
       " 's3b',\n",
       " 's3c',\n",
       " 's4a',\n",
       " 's4b',\n",
       " 's4c',\n",
       " 's5a',\n",
       " 's5b',\n",
       " 's5c',\n",
       " 's6a',\n",
       " 's6b',\n",
       " 's6c',\n",
       " 's7a',\n",
       " 's7b',\n",
       " 's7c',\n",
       " 's8a',\n",
       " 's8b',\n",
       " 's8c',\n",
       " 'x1a',\n",
       " 'x1b',\n",
       " 'x1c',\n",
       " 'b26oga',\n",
       " 'b26ogb',\n",
       " 'b26ogc',\n",
       " 'b26hya',\n",
       " 'b26hyb',\n",
       " 'b26hyc',\n",
       " 'b26vza',\n",
       " 'b26vzb',\n",
       " 'b26vzc',\n",
       " 'b27oga',\n",
       " 'b27ogb',\n",
       " 'b27ogc',\n",
       " 'b27hya',\n",
       " 'b27hyb',\n",
       " 'b27hyc',\n",
       " 'b27vza',\n",
       " 'b27vzb',\n",
       " 'b27vzc',\n",
       " 'debt',\n",
       " 'wealth',\n",
       " 'netWorth',\n",
       " 'health',\n",
       " 'treated',\n",
       " 'time',\n",
       " 'DID',\n",
       " '2013',\n",
       " '2017',\n",
       " 'ntot']"
      ]
     },
     "execution_count": 196,
     "metadata": {},
     "output_type": "execute_result"
    }
   ],
   "source": [
    "list(merged2013)"
   ]
  },
  {
   "cell_type": "code",
   "execution_count": 195,
   "metadata": {
    "scrolled": true
   },
   "outputs": [
    {
     "name": "stderr",
     "output_type": "stream",
     "text": [
      "/home/niels/anaconda3/lib/python3.6/site-packages/pandas/io/stata.py:2086: InvalidColumnName: \n",
      "Not all pandas column names were valid Stata variable names.\n",
      "The following replacements have been made:\n",
      "\n",
      "    b'2013'   ->   _2013\n",
      "    b'2017'   ->   _2017\n",
      "\n",
      "If this is not what you expect, please make sure you have Stata-compliant\n",
      "column names in your DataFrame (strings only, max 32 characters, only\n",
      "alphanumerics and underscores, no Stata reserved words)\n",
      "\n",
      "  warnings.warn(ws, InvalidColumnName)\n"
     ]
    }
   ],
   "source": [
    "samelistExtra0713.to_stata(\"samelistExtra0713.dta\")\n",
    "samelistExtra1317.to_stata(\"samelistExtra1317.dta\")"
   ]
  },
  {
   "cell_type": "code",
   "execution_count": null,
   "metadata": {},
   "outputs": [],
   "source": []
  }
 ],
 "metadata": {
  "kernelspec": {
   "display_name": "Python 3",
   "language": "python",
   "name": "python3"
  },
  "language_info": {
   "codemirror_mode": {
    "name": "ipython",
    "version": 3
   },
   "file_extension": ".py",
   "mimetype": "text/x-python",
   "name": "python",
   "nbconvert_exporter": "python",
   "pygments_lexer": "ipython3",
   "version": "3.6.4"
  }
 },
 "nbformat": 4,
 "nbformat_minor": 2
}
