{
 "cells": [
  {
   "cell_type": "code",
   "execution_count": 1,
   "metadata": {},
   "outputs": [],
   "source": [
    "import pandas as pd\n",
    "import numpy as np\n",
    "import matplotlib.pyplot as plt\n",
    "import statsmodels.formula.api as sm\n",
    "from scipy import stats\n",
    "agw = pd.read_stata(\"agwfile1\")\n",
    "gez = pd.read_stata(\"gezfile1\")"
   ]
  },
  {
   "cell_type": "code",
   "execution_count": null,
   "metadata": {},
   "outputs": [],
   "source": []
  },
  {
   "cell_type": "markdown",
   "metadata": {},
   "source": [
    "Vragenlijst Wonen en Hypotheken\n",
    "B26Og eigenaar van woning (1=ja, 0=nee)\n",
    "B26Hy hypotheken op de woning\n",
    "B26Vz cash value levensverzekering hypotheek woning\n",
    "B27Og eigenaar van tweede woning (1=ja, 0=nee)\n",
    "B27Hy hypotheken op tweede woning\n",
    "B27Vz cash value levensverzekering hypotheek tweede woning"
   ]
  },
  {
   "cell_type": "markdown",
   "metadata": {},
   "source": [
    "### Eerst maak ik de Net-worth variabele\n",
    "\n",
    "Dit doe ik dmv een functie die alle bezittingen (b1b, b2b, ..., b30b) bij elkaar optelt en daar de schulden (s1b, s2b, ..., s8b, x1b) vanaf trekt."
   ]
  },
  {
   "cell_type": "code",
   "execution_count": 2,
   "metadata": {},
   "outputs": [],
   "source": [
    "def calcWealth(row):\n",
    "    wealth = (row[\"b1b\"] + row[\"b2b\"] + row[\"b3b\"] + row[\"b4b\"] + row[\"b6b\"] + row[\"b7b\"] + row[\"b8b\"] + row[\"b11b\"]\n",
    "              + row[\"b12b\"] + row[\"b13b\"] + row[\"b14b\"] + row[\"b15b\"] + row[\"b16b\"] + row[\"b17b\"] + row[\"b18b\"] + \n",
    "             row[\"b19ogb\"] + row[\"b19hyb\"] + row[\"b19vzb\"] + row[\"b20b\"] + row[\"b21b\"] + row[\"b22b\"] + row[\"b23b\"] +\n",
    "             row[\"b24b\"] + row[\"b25b\"] + row[\"b28b\"] + row[\"b29b\"] + row[\"b30b\"])\n",
    "    # Door te checken of b26ogb > -1 zorg ik dat enkel rows zonder NaN hier worden gebruikt. Ze zijn of volledig Nan of niet\n",
    "    if row[\"b26ogb\"] > -1:\n",
    "        wealth += row[\"b26ogb\"] + row[\"b26vzb\"] + row[\"b27ogb\"] + row[\"b27vzb\"]\n",
    "    return wealth"
   ]
  },
  {
   "cell_type": "code",
   "execution_count": 3,
   "metadata": {},
   "outputs": [],
   "source": [
    "def calcDebt(row):\n",
    "    debt = (row[\"s1b\"] + row[\"s2b\"] + row[\"s3b\"] + row[\"s4b\"] + row[\"s5b\"] + row[\"s6b\"] + row[\"s7b\"] + row[\"s8b\"] + \n",
    "           row[\"x1b\"])\n",
    "    # Door te checken of b26ogb > -1 zorg ik dat enkel rows zonder NaN hier worden gebruikt. Ze zijn of volledig Nan of niet\n",
    "    if row[\"b26ogb\"] > -1:\n",
    "        debt += row[\"b26hyb\"] + row[\"b27hyb\"]\n",
    "    \n",
    "    return debt"
   ]
  },
  {
   "cell_type": "code",
   "execution_count": 4,
   "metadata": {},
   "outputs": [],
   "source": [
    "def calcNetWorth(row):\n",
    "    netWorth = row[\"wealth\"] - row[\"debt\"]\n",
    "    return netWorth"
   ]
  },
  {
   "cell_type": "code",
   "execution_count": 5,
   "metadata": {},
   "outputs": [],
   "source": [
    "agw[\"debt\"] = agw.apply(calcDebt, axis = 1)\n"
   ]
  },
  {
   "cell_type": "code",
   "execution_count": 6,
   "metadata": {},
   "outputs": [],
   "source": [
    "agw[\"wealth\"] = agw.apply(calcWealth, axis = 1)\n"
   ]
  },
  {
   "cell_type": "code",
   "execution_count": 7,
   "metadata": {},
   "outputs": [],
   "source": [
    "agw[\"netWorth\"] = agw.apply(calcNetWorth, axis = 1)"
   ]
  },
  {
   "cell_type": "code",
   "execution_count": 8,
   "metadata": {},
   "outputs": [
    {
     "name": "stdout",
     "output_type": "stream",
     "text": [
      "aantal positieve networth: 2054 aantal negatieve networth: 223\n",
      "aantal met net worth nul (waarschijnlijk lege entries): 81\n"
     ]
    }
   ],
   "source": [
    "# Counter om aantal positieve en negatieve networths te tellen\n",
    "pos = 0\n",
    "neg = 0\n",
    "zero = 0\n",
    "\n",
    "# Arrays om de negatieven en positieven networths bij te houden\n",
    "negatives = []\n",
    "positives = []\n",
    "\n",
    "# Bepaald voor iedere row of de networth positief of negatief is en zet deze waarde in een array\n",
    "for x in range(0, agw.shape[0] - 1):\n",
    "    if agw.loc[x,\"netWorth\"] > 0:\n",
    "        positives.append(agw.loc[x, \"netWorth\"])\n",
    "        pos += 1\n",
    "    elif agw.loc[x, \"netWorth\"] < 0:\n",
    "        negatives.append(agw.loc[x, \"netWorth\"])\n",
    "        neg += 1\n",
    "    else:\n",
    "        zero += 1\n",
    "        \n",
    "print(\"aantal positieve networth: \" + str(pos) +  \" aantal negatieve networth: \" + str(neg))\n",
    "print(\"aantal met net worth nul (waarschijnlijk lege entries): \" + str(zero))"
   ]
  },
  {
   "cell_type": "code",
   "execution_count": 9,
   "metadata": {},
   "outputs": [
    {
     "name": "stdout",
     "output_type": "stream",
     "text": [
      "      index  nohhold  nomem  b1a          b1b    b1c  b2a      b2b  b2c  b3a  \\\n",
      "0         0      6.0    1.0  1.0  1682.000000    0.0  0.0      0.0  0.0  2.0   \n",
      "1         1     21.0    1.0  1.0   750.000000    0.0  0.0      0.0  0.0  1.0   \n",
      "2         2     21.0    2.0  1.0   450.000000    0.0  0.0      0.0  0.0  1.0   \n",
      "3         3     38.0    1.0  1.0  1830.000000    0.0  0.0      0.0  0.0  2.0   \n",
      "4         4    106.0    1.0  1.0  1261.000000   51.0  0.0      0.0  0.0  2.0   \n",
      "5         5    173.0    1.0  1.0   500.000000    0.0  0.0      0.0  0.0  1.0   \n",
      "6         6    175.0    1.0  2.0  3859.999756    0.0  0.0      0.0  0.0  1.0   \n",
      "7         7    262.0    2.0  2.0  2224.000000    0.0  0.0      0.0  0.0  4.0   \n",
      "8         8    268.0    1.0  2.0   319.000000    0.0  0.0      0.0  0.0  1.0   \n",
      "9         9    338.0    2.0  2.0   451.000000   52.0  0.0      0.0  0.0  0.0   \n",
      "10       10    339.0    2.0  1.0   312.500000   51.0  0.0      0.0  0.0  1.0   \n",
      "11       11    371.0    1.0  3.0  2552.000000    0.0  0.0      0.0  0.0  3.0   \n",
      "12       12    423.0    1.0  2.0  1874.999878    0.0  0.0      0.0  0.0  1.0   \n",
      "13       13    461.0    1.0  1.0  1148.000000    0.0  0.0      0.0  0.0  4.0   \n",
      "14       14    523.0    1.0  1.0  2000.999878    0.0  0.0      0.0  0.0  4.0   \n",
      "15       15    562.0    1.0  2.0  8150.999512    0.0  0.0      0.0  0.0  1.0   \n",
      "16       16    571.0    1.0  2.0   826.000000    0.0  0.0      0.0  0.0  1.0   \n",
      "17       17    601.0    1.0  2.0  3387.000000    0.0  2.0  83863.0  0.0  2.0   \n",
      "18       18    633.0    1.0  2.0  7370.000000    0.0  0.0      0.0  0.0  5.0   \n",
      "19       19    633.0    2.0  1.0   500.000000    0.0  0.0      0.0  0.0  0.0   \n",
      "20       20    633.0    3.0  1.0   193.000000    0.0  0.0      0.0  0.0  2.0   \n",
      "21       21    655.0    1.0  1.0   200.000000    0.0  0.0      0.0  0.0  1.0   \n",
      "22       22    655.0    2.0  1.0   700.000000    0.0  0.0      0.0  0.0  1.0   \n",
      "23       23    733.0    1.0  1.0    10.000000    0.0  0.0      0.0  0.0  0.0   \n",
      "24       24    733.0    2.0  1.0   923.000000    0.0  0.0      0.0  0.0  2.0   \n",
      "25       25    816.0    1.0  2.0  1230.000000    0.0  0.0      0.0  0.0  0.0   \n",
      "26       26    816.0    2.0  0.0     0.000000    0.0  0.0      0.0  0.0  0.0   \n",
      "27       27    819.0    2.0  2.0  6815.000000    0.0  0.0      0.0  0.0  2.0   \n",
      "28       28    825.0    1.0  1.0  1849.000000    0.0  0.0      0.0  0.0  1.0   \n",
      "29       29    825.0    2.0  1.0   687.000000   51.0  1.0  18042.5  0.0  0.0   \n",
      "...     ...      ...    ...  ...          ...    ...  ...      ...  ...  ...   \n",
      "2329   2472  88676.0    2.0  1.0  1000.000000    0.0  0.0      0.0  0.0  1.0   \n",
      "2330   2473  88778.0    1.0  1.0  3998.000000    0.0  0.0      0.0  0.0  1.0   \n",
      "2331   2474  88778.0    2.0  0.0     0.000000    0.0  0.0      0.0  0.0  0.0   \n",
      "2332   2476  88868.0    1.0  1.0   150.000000   53.0  0.0      0.0  0.0  0.0   \n",
      "2333   2477  88888.0    1.0  2.0  2620.000000    0.0  0.0      0.0  0.0  3.0   \n",
      "2334   2478  88888.0    2.0  2.0  2375.000000    0.0  0.0      0.0  0.0  3.0   \n",
      "2335   2480  88903.0    2.0  0.0     0.000000    0.0  0.0      0.0  0.0  0.0   \n",
      "2336   2481  88907.0    1.0  1.0  3435.297852    1.0  0.0      0.0  0.0  1.0   \n",
      "2337   2482  88942.0    1.0  1.0  1000.000000    0.0  0.0      0.0  0.0  1.0   \n",
      "2338   2484  89074.0    1.0  2.0  2000.000000    0.0  0.0      0.0  0.0  2.0   \n",
      "2339   2485  89083.0    1.0  0.0     0.000000    0.0  0.0      0.0  0.0  1.0   \n",
      "2340   2486  89083.0    2.0  1.0  1750.000000    0.0  0.0      0.0  0.0  1.0   \n",
      "2341   2487  89088.0    2.0  3.0  2138.000000    0.0  0.0      0.0  0.0  1.0   \n",
      "2342   2488  89160.0    1.0  2.0  1500.000000    0.0  0.0      0.0  0.0  1.0   \n",
      "2343   2489  89162.0    1.0  1.0  1750.000000    0.0  0.0      0.0  0.0  1.0   \n",
      "2344   2490  89213.0    1.0  1.0   875.000000   51.0  0.0      0.0  0.0  0.0   \n",
      "2345   2492  89340.0    1.0  1.0   239.593124    1.0  0.0      0.0  0.0  1.0   \n",
      "2346   2493  89355.0    2.0  1.0   788.907104  101.0  0.0      0.0  0.0  0.0   \n",
      "2347   2494  89447.0    1.0  1.0   -66.000000    0.0  0.0      0.0  0.0  0.0   \n",
      "2348   2495  89450.0    1.0  0.0     0.000000    0.0  0.0      0.0  0.0  0.0   \n",
      "2349   2496  89536.0    1.0  3.0  8577.000000    0.0  0.0      0.0  0.0  4.0   \n",
      "2350   2497  89536.0    2.0  0.0     0.000000    0.0  0.0      0.0  0.0  0.0   \n",
      "2351   2498  89582.0    1.0  1.0   435.000000    0.0  0.0      0.0  0.0  0.0   \n",
      "2352   2500  89647.0    1.0  2.0  1051.337280  102.0  0.0      0.0  0.0  4.0   \n",
      "2353   2502  89713.0    1.0  1.0   555.617676    1.0  0.0      0.0  0.0  3.0   \n",
      "2354   2503  89722.0    1.0  2.0  4078.000000    0.0  0.0      0.0  0.0  3.0   \n",
      "2355   2504  89722.0    2.0  0.0     0.000000    0.0  0.0      0.0  0.0  0.0   \n",
      "2356   2505  89727.0    2.0  1.0   400.000000    0.0  0.0      0.0  0.0  1.0   \n",
      "2357   2507  89975.0    1.0  1.0     1.000000    0.0  0.0      0.0  0.0  1.0   \n",
      "2358   2508  89975.0    2.0  2.0  2500.000000    0.0  0.0      0.0  0.0  1.0   \n",
      "\n",
      "          ...       b27hya  b27hyb  b27hyc  b27vza  b27vzb  b27vzc   personid  \\\n",
      "0         ...          0.0     0.0     0.0     0.0     0.0     0.0      601.0   \n",
      "1         ...          0.0     0.0     0.0     0.0     0.0     0.0     2101.0   \n",
      "2         ...          NaN     NaN     NaN     NaN     NaN     NaN     2102.0   \n",
      "3         ...          0.0     0.0     0.0     0.0     0.0     0.0     3801.0   \n",
      "4         ...          0.0     0.0     0.0     0.0     0.0     0.0    10601.0   \n",
      "5         ...          0.0     0.0     0.0     0.0     0.0     0.0    17301.0   \n",
      "6         ...          0.0     0.0     0.0     0.0     0.0     0.0    17501.0   \n",
      "7         ...          0.0     0.0     0.0     0.0     0.0     0.0    26202.0   \n",
      "8         ...          0.0     0.0     0.0     0.0     0.0     0.0    26801.0   \n",
      "9         ...          0.0     0.0     0.0     0.0     0.0     0.0    33802.0   \n",
      "10        ...          0.0     0.0     0.0     0.0     0.0     0.0    33902.0   \n",
      "11        ...          0.0     0.0     0.0     0.0     0.0     0.0    37101.0   \n",
      "12        ...          0.0     0.0     0.0     0.0     0.0     0.0    42301.0   \n",
      "13        ...          0.0     0.0     0.0     0.0     0.0     0.0    46101.0   \n",
      "14        ...          0.0     0.0     0.0     0.0     0.0     0.0    52301.0   \n",
      "15        ...          0.0     0.0     0.0     0.0     0.0     0.0    56201.0   \n",
      "16        ...          0.0     0.0     0.0     0.0     0.0     0.0    57101.0   \n",
      "17        ...          0.0     0.0     0.0     0.0     0.0     0.0    60101.0   \n",
      "18        ...          0.0     0.0     0.0     0.0     0.0     0.0    63301.0   \n",
      "19        ...          NaN     NaN     NaN     NaN     NaN     NaN    63302.0   \n",
      "20        ...          NaN     NaN     NaN     NaN     NaN     NaN    63303.0   \n",
      "21        ...          NaN     NaN     NaN     NaN     NaN     NaN    65501.0   \n",
      "22        ...          0.0     0.0     0.0     0.0     0.0     0.0    65502.0   \n",
      "23        ...          NaN     NaN     NaN     NaN     NaN     NaN    73301.0   \n",
      "24        ...          0.0     0.0     0.0     0.0     0.0     0.0    73302.0   \n",
      "25        ...          0.0     0.0     0.0     0.0     0.0     0.0    81601.0   \n",
      "26        ...          NaN     NaN     NaN     NaN     NaN     NaN    81602.0   \n",
      "27        ...          0.0     0.0     0.0     0.0     0.0     0.0    81902.0   \n",
      "28        ...          0.0     0.0     0.0     0.0     0.0     0.0    82501.0   \n",
      "29        ...          NaN     NaN     NaN     NaN     NaN     NaN    82502.0   \n",
      "...       ...          ...     ...     ...     ...     ...     ...        ...   \n",
      "2329      ...          NaN     NaN     NaN     NaN     NaN     NaN  8867602.0   \n",
      "2330      ...          0.0     0.0     0.0     0.0     0.0     0.0  8877801.0   \n",
      "2331      ...          NaN     NaN     NaN     NaN     NaN     NaN  8877802.0   \n",
      "2332      ...          0.0     0.0     0.0     0.0     0.0     0.0  8886801.0   \n",
      "2333      ...          0.0     0.0     0.0     0.0     0.0     0.0  8888801.0   \n",
      "2334      ...          NaN     NaN     NaN     NaN     NaN     NaN  8888802.0   \n",
      "2335      ...          NaN     NaN     NaN     NaN     NaN     NaN  8890302.0   \n",
      "2336      ...          0.0     0.0     0.0     0.0     0.0     0.0  8890701.0   \n",
      "2337      ...          0.0     0.0     0.0     0.0     0.0     0.0  8894201.0   \n",
      "2338      ...          0.0     0.0     0.0     0.0     0.0     0.0  8907401.0   \n",
      "2339      ...          NaN     NaN     NaN     NaN     NaN     NaN  8908301.0   \n",
      "2340      ...          0.0     0.0     0.0     0.0     0.0     0.0  8908302.0   \n",
      "2341      ...          0.0     0.0     0.0     0.0     0.0     0.0  8908802.0   \n",
      "2342      ...          0.0     0.0     0.0     0.0     0.0     0.0  8916001.0   \n",
      "2343      ...          NaN     NaN     NaN     NaN     NaN     NaN  8916201.0   \n",
      "2344      ...          0.0     0.0     0.0     0.0     0.0     0.0  8921301.0   \n",
      "2345      ...          0.0     0.0     0.0     0.0     0.0     0.0  8934001.0   \n",
      "2346      ...          0.0     0.0     0.0     0.0     0.0     0.0  8935502.0   \n",
      "2347      ...          0.0     0.0     0.0     0.0     0.0     0.0  8944701.0   \n",
      "2348      ...          0.0     0.0     0.0     0.0     0.0     0.0  8945001.0   \n",
      "2349      ...          0.0     0.0     0.0     0.0     0.0     0.0  8953601.0   \n",
      "2350      ...          NaN     NaN     NaN     NaN     NaN     NaN  8953602.0   \n",
      "2351      ...          0.0     0.0     0.0     0.0     0.0     0.0  8958201.0   \n",
      "2352      ...          NaN     NaN     NaN     NaN     NaN     NaN  8964701.0   \n",
      "2353      ...          NaN     NaN     NaN     NaN     NaN     NaN  8971301.0   \n",
      "2354      ...          0.0     0.0     0.0     0.0     0.0     0.0  8972201.0   \n",
      "2355      ...          NaN     NaN     NaN     NaN     NaN     NaN  8972202.0   \n",
      "2356      ...          NaN     NaN     NaN     NaN     NaN     NaN  8972702.0   \n",
      "2357      ...          NaN     NaN     NaN     NaN     NaN     NaN  8997501.0   \n",
      "2358      ...          0.0     0.0     0.0     0.0     0.0     0.0  8997502.0   \n",
      "\n",
      "               debt        wealth      netWorth  \n",
      "0     111000.000000  3.958975e+05  2.848975e+05  \n",
      "1     234000.000000  2.357750e+05  1.775000e+03  \n",
      "2          0.000000  1.350000e+03  1.350000e+03  \n",
      "3          0.000000  2.307100e+04  2.307100e+04  \n",
      "4     180000.000000  6.755335e+05  4.955335e+05  \n",
      "5     170000.000000  3.511514e+05  1.811514e+05  \n",
      "6      54000.000000  2.548600e+05  2.008600e+05  \n",
      "7     135000.000000  7.269620e+05  5.919620e+05  \n",
      "8          0.000000  2.246190e+05  2.246190e+05  \n",
      "9          0.000000  6.313500e+03  6.313500e+03  \n",
      "10         0.000000  2.050000e+03  2.050000e+03  \n",
      "11    108000.000000  4.678470e+05  3.598470e+05  \n",
      "12     95000.000000  2.888750e+05  1.938750e+05  \n",
      "13     73000.000000  3.669083e+05  2.939083e+05  \n",
      "14     92000.000000  2.300260e+05  1.380260e+05  \n",
      "15     80000.000000  3.441697e+05  2.641697e+05  \n",
      "16    225000.000000  4.994260e+05  2.744260e+05  \n",
      "17     72045.000000  6.653026e+05  5.932576e+05  \n",
      "18     85000.000000  8.471290e+05  7.621290e+05  \n",
      "19         0.000000  2.132900e+04  2.132900e+04  \n",
      "20         0.000000  3.218200e+04  3.218200e+04  \n",
      "21         0.000000  8.450000e+03  8.450000e+03  \n",
      "22         0.000000  2.950000e+03  2.950000e+03  \n",
      "23         0.000000  1.000000e+01  1.000000e+01  \n",
      "24         0.000000  4.973000e+03  4.973000e+03  \n",
      "25    150000.000000  1.202649e+06  1.052649e+06  \n",
      "26         0.000000  0.000000e+00  0.000000e+00  \n",
      "27         0.000000  3.068040e+05  3.068040e+05  \n",
      "28     45000.000000  3.180620e+05  2.730620e+05  \n",
      "29         0.000000  1.872950e+04  1.872950e+04  \n",
      "...             ...           ...           ...  \n",
      "2329       0.000000  1.500000e+04  1.500000e+04  \n",
      "2330       0.000000  3.585100e+04  3.585100e+04  \n",
      "2331       0.000000  0.000000e+00  0.000000e+00  \n",
      "2332       0.000000  3.564256e+05  3.564256e+05  \n",
      "2333   46000.000000  3.783548e+05  3.323548e+05  \n",
      "2334       0.000000  1.439579e+05  1.439579e+05  \n",
      "2335       0.000000  1.317066e+04  1.317066e+04  \n",
      "2336    3475.570281  3.585350e+03  1.097800e+02  \n",
      "2337       0.000000  6.000000e+03  6.000000e+03  \n",
      "2338  350000.000000  3.923849e+05  4.238489e+04  \n",
      "2339       0.000000  6.250000e+03  6.250000e+03  \n",
      "2340  147673.562500  2.062585e+05  5.858498e+04  \n",
      "2341  269800.000000  2.910957e+05  2.129570e+04  \n",
      "2342    1400.000000  2.475000e+05  2.461000e+05  \n",
      "2343   20000.000000  8.850000e+03 -1.115000e+04  \n",
      "2344       0.000000  2.326000e+05  2.326000e+05  \n",
      "2345       0.000000  2.397630e+05  2.397630e+05  \n",
      "2346  253999.984375  3.527889e+05  9.878892e+04  \n",
      "2347     966.000000  1.934000e+03  9.680000e+02  \n",
      "2348       0.000000  2.427089e+05  2.427089e+05  \n",
      "2349   75000.000000  5.135730e+05  4.385730e+05  \n",
      "2350       0.000000  0.000000e+00  0.000000e+00  \n",
      "2351   64900.001863  1.051250e+05  4.022500e+04  \n",
      "2352       0.000000  1.903420e+04  1.903420e+04  \n",
      "2353       0.000000  9.511275e+03  9.511275e+03  \n",
      "2354   80000.000000  5.394530e+05  4.594530e+05  \n",
      "2355       0.000000  0.000000e+00  0.000000e+00  \n",
      "2356       0.000000  7.427230e+03  7.427230e+03  \n",
      "2357   70000.000000  5.751000e+03 -6.424900e+04  \n",
      "2358  380763.140625  2.187500e+05 -1.620131e+05  \n",
      "\n",
      "[2359 rows x 133 columns]\n"
     ]
    }
   ],
   "source": [
    "print(agw)"
   ]
  },
  {
   "cell_type": "code",
   "execution_count": null,
   "metadata": {},
   "outputs": [],
   "source": []
  },
  {
   "cell_type": "code",
   "execution_count": 10,
   "metadata": {},
   "outputs": [
    {
     "data": {
      "image/png": "[encoded data removed]",
      "text/plain": [
       "<matplotlib.figure.Figure at 0x7fe26e4b38d0>"
      ]
     },
     "metadata": {},
     "output_type": "display_data"
    },
    {
     "data": {
      "image/png": "[encoded data removed]",
      "text/plain": [
       "<matplotlib.figure.Figure at 0x7fe265e6fc50>"
      ]
     },
     "metadata": {},
     "output_type": "display_data"
    },
    {
     "data": {
      "image/png": "[encoded data removed]",
      "text/plain": [
       "<matplotlib.figure.Figure at 0x7fe265e6f9b0>"
      ]
     },
     "metadata": {},
     "output_type": "display_data"
    },
    {
     "data": {
      "image/png": "[encoded data removed]",
      "text/plain": [
       "<matplotlib.figure.Figure at 0x7fe265d7e828>"
      ]
     },
     "metadata": {},
     "output_type": "display_data"
    }
   ],
   "source": [
    "\n",
    "\n",
    "negatives.sort()\n",
    "positives.sort()\n",
    "\n",
    "plt.hist(positives)\n",
    "plt.title(\"positive net worths\")\n",
    "plt.show()\n",
    "\n",
    "plt.hist(positives, range = (0, 250000))\n",
    "plt.title(\"positive net worths met max wealth 250k\")\n",
    "plt.show()\n",
    "\n",
    "plt.hist(negatives)\n",
    "plt.title(\"negative net worths\")\n",
    "plt.show()\n",
    "\n",
    "plt.hist(negatives, range = (-25000, 0))\n",
    "plt.title(\"negative net worths with -25k max debt\")\n",
    "plt.show()\n",
    "\n",
    "\n",
    "\n"
   ]
  },
  {
   "cell_type": "markdown",
   "metadata": {},
   "source": [
    "# Hier boven:\n",
    "\n",
    "het feit dat bezit tot 10x zo veel gaat als schuld, kan leiden tot ene verschil in effect op  gezondheid (bijvoorbeeld 10x minder sterk oid) Misschien hier nog iets mee doen!"
   ]
  },
  {
   "cell_type": "code",
   "execution_count": 11,
   "metadata": {},
   "outputs": [],
   "source": [
    "agwtest = agw\n",
    "geztest = gez\n",
    "\n",
    "merged = pd.merge(gez, agw, on=\"personid\")\n"
   ]
  },
  {
   "cell_type": "code",
   "execution_count": 12,
   "metadata": {},
   "outputs": [],
   "source": [
    "def selfAssedHealth(row):\n",
    "    healthValues = {\"Excellent\" : 5, \"Good\" : 4, \"Fair\" : 3,\n",
    "                 \"Not so good\" : 2, \"Poor\": 1}    \n",
    "    \n",
    "    return healthValues[row[\"gez3\"]]\n"
   ]
  },
  {
   "cell_type": "markdown",
   "metadata": {},
   "source": [
    "http://www.statsmodels.org/stable/discretemod.html"
   ]
  },
  {
   "cell_type": "code",
   "execution_count": 13,
   "metadata": {},
   "outputs": [
    {
     "data": {
      "text/plain": [
       "<matplotlib.collections.PathCollection at 0x7fe264ded0b8>"
      ]
     },
     "execution_count": 13,
     "metadata": {},
     "output_type": "execute_result"
    },
    {
     "data": {
      "image/png": "[encoded data removed]",
      "text/plain": [
       "<matplotlib.figure.Figure at 0x7fe265d876a0>"
      ]
     },
     "metadata": {},
     "output_type": "display_data"
    }
   ],
   "source": [
    "merged[\"selfAssedHealth\"] = merged.apply(selfAssedHealth, axis = 1)\n",
    "plt.scatter(merged.selfAssedHealth, merged.netWorth)\n",
    "\n"
   ]
  },
  {
   "cell_type": "code",
   "execution_count": 14,
   "metadata": {},
   "outputs": [
    {
     "ename": "SyntaxError",
     "evalue": "unexpected EOF while parsing (<ipython-input-14-5fec12aeec40>, line 4)",
     "output_type": "error",
     "traceback": [
      "\u001b[0;36m  File \u001b[0;32m\"<ipython-input-14-5fec12aeec40>\"\u001b[0;36m, line \u001b[0;32m4\u001b[0m\n\u001b[0;31m    \u001b[0m\n\u001b[0m    ^\u001b[0m\n\u001b[0;31mSyntaxError\u001b[0m\u001b[0;31m:\u001b[0m unexpected EOF while parsing\n"
     ]
    }
   ],
   "source": [
    "for i in range(0, merged.shape[0] -1):\n",
    "    if merged.loc[x, \"selfAssedHealth\"] == 1:\n",
    "        \n",
    "        "
   ]
  },
  {
   "cell_type": "code",
   "execution_count": 15,
   "metadata": {},
   "outputs": [],
   "source": [
    "merged.to_stata(\"merged_data.dta\")"
   ]
  },
  {
   "cell_type": "code",
   "execution_count": 17,
   "metadata": {},
   "outputs": [],
   "source": [
    "stats.chisqprob = lambda chisq, df: stats.chi2.sf(chisq, df)\n"
   ]
  },
  {
   "cell_type": "code",
   "execution_count": null,
   "metadata": {},
   "outputs": [],
   "source": []
  },
  {
   "cell_type": "code",
   "execution_count": 18,
   "metadata": {},
   "outputs": [],
   "source": [
    "MNLogitModel = sm.MNLogit(merged.selfAssedHealth,merged.netWorth)\n"
   ]
  },
  {
   "cell_type": "code",
   "execution_count": 19,
   "metadata": {},
   "outputs": [
    {
     "name": "stdout",
     "output_type": "stream",
     "text": [
      "Optimization terminated successfully.\n",
      "         Current function value: 1.359328\n",
      "         Iterations 7\n"
     ]
    }
   ],
   "source": [
    "result = MNLogitModel.fit()"
   ]
  },
  {
   "cell_type": "code",
   "execution_count": 20,
   "metadata": {
    "scrolled": true
   },
   "outputs": [
    {
     "name": "stdout",
     "output_type": "stream",
     "text": [
      "                          MNLogit Regression Results                          \n",
      "==============================================================================\n",
      "Dep. Variable:        selfAssedHealth   No. Observations:                 2215\n",
      "Model:                        MNLogit   Df Residuals:                     2211\n",
      "Method:                           MLE   Df Model:                            0\n",
      "Date:                Mon, 17 Dec 2018   Pseudo R-squ.:                 -0.2859\n",
      "Time:                        10:45:47   Log-Likelihood:                -3010.9\n",
      "converged:                       True   LL-Null:                       -2341.5\n",
      "                                        LLR p-value:                       nan\n",
      "=====================================================================================\n",
      "selfAssedHealth=2       coef    std err          z      P>|z|      [0.025      0.975]\n",
      "-------------------------------------------------------------------------------------\n",
      "netWorth           9.623e-06    1.9e-06      5.075      0.000    5.91e-06    1.33e-05\n",
      "-------------------------------------------------------------------------------------\n",
      "selfAssedHealth=3       coef    std err          z      P>|z|      [0.025      0.975]\n",
      "-------------------------------------------------------------------------------------\n",
      "netWorth           1.807e-05   1.78e-06     10.165      0.000    1.46e-05    2.16e-05\n",
      "-------------------------------------------------------------------------------------\n",
      "selfAssedHealth=4       coef    std err          z      P>|z|      [0.025      0.975]\n",
      "-------------------------------------------------------------------------------------\n",
      "netWorth           2.104e-05   1.77e-06     11.871      0.000    1.76e-05    2.45e-05\n",
      "-------------------------------------------------------------------------------------\n",
      "selfAssedHealth=5       coef    std err          z      P>|z|      [0.025      0.975]\n",
      "-------------------------------------------------------------------------------------\n",
      "netWorth           1.749e-05   1.78e-06      9.824      0.000     1.4e-05     2.1e-05\n",
      "=====================================================================================\n"
     ]
    }
   ],
   "source": [
    "print(result.summary())"
   ]
  },
  {
   "cell_type": "markdown",
   "metadata": {},
   "source": [
    "                          MNLogit Regression Results                          \n",
    "==============================================================================\n",
    "Dep. Variable:        selfAssedHealth   No. Observations:                 2215\n",
    "Model:                        MNLogit   Df Residuals:                     2211\n",
    "Method:                           MLE   Df Model:                            0\n",
    "Date:                Mon, 17 Dec 2018   Pseudo R-squ.:                 -0.2859\n",
    "Time:                        10:45:47   Log-Likelihood:                -3010.9\n",
    "converged:                       True   LL-Null:                       -2341.5\n",
    "                                        LLR p-value:                       nan\n",
    "=====================================================================================\n",
    "selfAssedHealth=2       coef    std err          z      P>|z|      [0.025      0.975]\n",
    "-------------------------------------------------------------------------------------\n",
    "netWorth           9.623e-06    1.9e-06      5.075      0.000    5.91e-06    1.33e-05\n",
    "-------------------------------------------------------------------------------------\n",
    "selfAssedHealth=3       coef    std err          z      P>|z|      [0.025      0.975]\n",
    "-------------------------------------------------------------------------------------\n",
    "netWorth           1.807e-05   1.78e-06     10.165      0.000    1.46e-05    2.16e-05\n",
    "-------------------------------------------------------------------------------------\n",
    "selfAssedHealth=4       coef    std err          z      P>|z|      [0.025      0.975]\n",
    "-------------------------------------------------------------------------------------\n",
    "netWorth           2.104e-05   1.77e-06     11.871      0.000    1.76e-05    2.45e-05\n",
    "-------------------------------------------------------------------------------------\n",
    "selfAssedHealth=5       coef    std err          z      P>|z|      [0.025      0.975]\n",
    "-------------------------------------------------------------------------------------\n",
    "netWorth           1.749e-05   1.78e-06      9.824      0.000     1.4e-05     2.1e-05\n",
    "====================================================================================="
   ]
  }
 ],
 "metadata": {
  "kernelspec": {
   "display_name": "Python 3",
   "language": "python",
   "name": "python3"
  },
  "language_info": {
   "codemirror_mode": {
    "name": "ipython",
    "version": 3
   },
   "file_extension": ".py",
   "mimetype": "text/x-python",
   "name": "python",
   "nbconvert_exporter": "python",
   "pygments_lexer": "ipython3",
   "version": "3.6.4"
  }
 },
 "nbformat": 4,
 "nbformat_minor": 2
}
