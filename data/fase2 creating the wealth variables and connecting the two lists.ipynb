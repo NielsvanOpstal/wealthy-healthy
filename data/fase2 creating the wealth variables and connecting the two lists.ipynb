{
 "cells": [
  {
   "cell_type": "code",
   "execution_count": 1,
   "metadata": {},
   "outputs": [],
   "source": [
    "import pandas as pd\n",
    "import numpy as np\n",
    "import matplotlib.pyplot as plt\n",
    "import statsmodels.formula.api as sm\n",
    "from scipy import stats\n",
    "agw2017 = pd.read_stata(\"agw2017\")\n",
    "agw2013 = pd.read_stata(\"agw2013\")\n",
    "agw2007 = pd.read_stata(\"agw2007\")\n",
    "\n",
    "gez2017 = pd.read_stata(\"gez2017\")\n",
    "gez2013 = pd.read_stata(\"gez2013\")\n",
    "gez2007 = pd.read_stata(\"gez2007\")\n",
    "\n",
    "\n"
   ]
  },
  {
   "cell_type": "code",
   "execution_count": null,
   "metadata": {},
   "outputs": [],
   "source": []
  },
  {
   "cell_type": "code",
   "execution_count": 2,
   "metadata": {
    "scrolled": true
   },
   "outputs": [
    {
     "name": "stdout",
     "output_type": "stream",
     "text": [
      "0       225000.000000\n",
      "1       220000.000000\n",
      "2                 NaN\n",
      "3            0.000000\n",
      "4                 NaN\n",
      "5       255000.000000\n",
      "6       150000.000000\n",
      "7                 NaN\n",
      "8       175000.000000\n",
      "9       200000.000000\n",
      "10      260000.015625\n",
      "11      200000.000000\n",
      "12                NaN\n",
      "13           0.000000\n",
      "14           0.000000\n",
      "15                NaN\n",
      "16           0.000000\n",
      "17      400000.000000\n",
      "18                NaN\n",
      "19      545000.000000\n",
      "20           0.000000\n",
      "21           0.000000\n",
      "22      245000.000000\n",
      "23           0.000000\n",
      "24           0.000000\n",
      "25      125000.000000\n",
      "26      175000.000000\n",
      "27      200000.000000\n",
      "28      479999.968750\n",
      "29      400000.000000\n",
      "            ...      \n",
      "2011              NaN\n",
      "2012              NaN\n",
      "2013         0.000000\n",
      "2014         0.000000\n",
      "2015    260000.015625\n",
      "2016              NaN\n",
      "2017              NaN\n",
      "2018    255000.000000\n",
      "2019              NaN\n",
      "2020         0.000000\n",
      "2021              NaN\n",
      "2022         0.000000\n",
      "2023    370000.000000\n",
      "2024              NaN\n",
      "2025         0.000000\n",
      "2026    220000.000000\n",
      "2027         0.000000\n",
      "2028              NaN\n",
      "2029              NaN\n",
      "2030    227350.156250\n",
      "2031    320000.000000\n",
      "2032              NaN\n",
      "2033    380000.000000\n",
      "2034              NaN\n",
      "2035    180000.000000\n",
      "2036              NaN\n",
      "2037         0.000000\n",
      "2038    350000.000000\n",
      "2039    110000.000000\n",
      "2040         0.000000\n",
      "Name: b26ogb, Length: 2041, dtype: float64\n"
     ]
    }
   ],
   "source": [
    "print(agw2013[\"b26ogb\"])"
   ]
  },
  {
   "cell_type": "markdown",
   "metadata": {},
   "source": [
    "Vragenlijst Wonen en Hypotheken\n",
    "B26Og eigenaar van woning (1=ja, 0=nee)\n",
    "B26Hy hypotheken op de woning\n",
    "B26Vz cash value levensverzekering hypotheek woning\n",
    "B27Og eigenaar van tweede woning (1=ja, 0=nee)\n",
    "B27Hy hypotheken op tweede woning\n",
    "B27Vz cash value levensverzekering hypotheek tweede woning"
   ]
  },
  {
   "cell_type": "markdown",
   "metadata": {},
   "source": [
    "### Eerst maak ik de Net-worth variabele\n",
    "\n",
    "Dit doe ik dmv een functie die alle bezittingen (b1b, b2b, ..., b30b) bij elkaar optelt en daar de schulden (s1b, s2b, ..., s8b, x1b) vanaf trekt."
   ]
  },
  {
   "cell_type": "code",
   "execution_count": 3,
   "metadata": {},
   "outputs": [],
   "source": [
    "def calcWealth(row):\n",
    "    wealth = (row[\"b1b\"] + row[\"b2b\"] + row[\"b3b\"] + row[\"b4b\"] + row[\"b6b\"] + row[\"b7b\"] + row[\"b8b\"] + row[\"b11b\"]\n",
    "              + row[\"b12b\"] + row[\"b13b\"] + row[\"b14b\"] + row[\"b15b\"] + row[\"b16b\"] + row[\"b17b\"] + row[\"b18b\"] + \n",
    "             row[\"b19ogb\"] + row[\"b19hyb\"] + row[\"b19vzb\"] + row[\"b20b\"] + row[\"b21b\"] + row[\"b22b\"] + row[\"b23b\"] +\n",
    "             row[\"b24b\"] + row[\"b25b\"] + row[\"b28b\"] + row[\"b29b\"] + row[\"b30b\"])\n",
    "    # Door te checken of b26ogb > -1 zorg ik dat enkel rows zonder NaN hier worden gebruikt. Ze zijn of volledig Nan of niet\n",
    "    if row[\"b26ogb\"] > -1:\n",
    "        wealth += row[\"b26ogb\"] + row[\"b26vzb\"] + row[\"b27ogb\"] + row[\"b27vzb\"]\n",
    "    return wealth"
   ]
  },
  {
   "cell_type": "code",
   "execution_count": 4,
   "metadata": {},
   "outputs": [],
   "source": [
    "def calcDebt(row):\n",
    "    debt = (row[\"s1b\"] + row[\"s2b\"] + row[\"s3b\"] + row[\"s4b\"] + row[\"s5b\"] + row[\"s6b\"] + row[\"s7b\"] + row[\"s8b\"] +\n",
    "           row[\"x1b\"]) \n",
    "    # Door te checken of b26ogb > -1 zorg ik dat enkel rows zonder NaN hier worden gebruikt. Ze zijn of volledig Nan of niet\n",
    "    if row[\"b26ogb\"] > -1:\n",
    "        debt += row[\"b26hyb\"] + row[\"b27hyb\"]\n",
    "    \n",
    "    return debt"
   ]
  },
  {
   "cell_type": "code",
   "execution_count": 5,
   "metadata": {},
   "outputs": [],
   "source": [
    "def calcNetWorth(row):\n",
    "    netWorth = row[\"wealth\"] - row[\"debt\"]\n",
    "    return netWorth"
   ]
  },
  {
   "cell_type": "code",
   "execution_count": 6,
   "metadata": {},
   "outputs": [],
   "source": [
    "agw2017[\"debt\"] = agw2017.apply(calcDebt, axis = 1)\n",
    "agw2013[\"debt\"] = agw2013.apply(calcDebt, axis = 1)\n",
    "agw2007[\"debt\"] = agw2007.apply(calcDebt, axis = 1)\n",
    "\n",
    "\n"
   ]
  },
  {
   "cell_type": "code",
   "execution_count": 37,
   "metadata": {},
   "outputs": [],
   "source": [
    "agw2017[\"wealth\"] = agw2017.apply(calcWealth, axis = 1)\n",
    "agw2013[\"wealth\"] = agw2013.apply(calcWealth, axis = 1)\n",
    "agw2007[\"wealth\"] = agw2007.apply(calcWealth, axis = 1)\n",
    "\n"
   ]
  },
  {
   "cell_type": "code",
   "execution_count": 39,
   "metadata": {},
   "outputs": [],
   "source": [
    "agw2017[\"netWorth\"] = agw2017.apply(calcNetWorth, axis = 1)\n",
    "agw2013[\"netWorth\"] = agw2013.apply(calcNetWorth, axis = 1)\n",
    "agw2007[\"netWorth\"] = agw2007.apply(calcNetWorth, axis = 1)"
   ]
  },
  {
   "cell_type": "code",
   "execution_count": 41,
   "metadata": {},
   "outputs": [
    {
     "name": "stdout",
     "output_type": "stream",
     "text": [
      "aantal positieve networth: 1722 aantal negatieve networth: 219\n",
      "aantal met net worth nul (waarschijnlijk lege entries): 99\n"
     ]
    }
   ],
   "source": [
    "# Counter om aantal positieve en negatieve networths te tellen\n",
    "pos = 0\n",
    "neg = 0\n",
    "zero = 0\n",
    "\n",
    "# Arrays om de negatieven en positieven networths bij te houden\n",
    "negatives = []\n",
    "positives = []\n",
    "\n",
    "# Bepaald voor iedere row of de networth positief of negatief is en zet deze waarde in een array\n",
    "for x in range(0, agw2013.shape[0] - 1):\n",
    "    if agw2013.loc[x,\"netWorth\"] > 0:\n",
    "        positives.append(agw2013.loc[x, \"netWorth\"])\n",
    "        pos += 1\n",
    "    elif agw2013.loc[x, \"netWorth\"] < 0:\n",
    "        negatives.append(agw2013.loc[x, \"netWorth\"])\n",
    "        neg += 1\n",
    "    else:\n",
    "        zero += 1\n",
    "        \n",
    "print(\"aantal positieve networth: \" + str(pos) +  \" aantal negatieve networth: \" + str(neg))\n",
    "print(\"aantal met net worth nul (waarschijnlijk lege entries): \" + str(zero))"
   ]
  },
  {
   "cell_type": "code",
   "execution_count": 8,
   "metadata": {},
   "outputs": [],
   "source": [
    "# negatives.sort()\n",
    "# positives.sort()\n",
    "\n",
    "# plt.hist(positives)\n",
    "# plt.title(\"positive net worths\")\n",
    "# plt.show()\n",
    "\n",
    "# plt.hist(positives, range = (0, 250000))\n",
    "# plt.title(\"positive net worths met max wealth 250k\")\n",
    "# plt.show()\n",
    "\n",
    "# plt.hist(negatives)\n",
    "# plt.title(\"negative net worths\")\n",
    "# plt.show()\n",
    "\n",
    "# plt.hist(negatives, range = (-25000, 0))\n",
    "# plt.title(\"negative net worths with -25k max debt\")\n",
    "# plt.show()"
   ]
  },
  {
   "cell_type": "markdown",
   "metadata": {},
   "source": [
    "# Hier boven:\n",
    "\n",
    "het feit dat bezit tot 10x zo veel gaat als schuld, kan leiden tot ene verschil in effect op  gezondheid (bijvoorbeeld 10x minder sterk oid) Misschien hier nog iets mee doen!"
   ]
  },
  {
   "cell_type": "code",
   "execution_count": 9,
   "metadata": {},
   "outputs": [],
   "source": [
    "merged2017 = pd.merge(gez2017, agw2017, on = \"personid\")\n",
    "merged2013 = pd.merge(gez2013, agw2013, on = \"personid\")\n",
    "merged2007 = pd.merge(gez2007, agw2007, on = \"personid\")\n"
   ]
  },
  {
   "cell_type": "code",
   "execution_count": 10,
   "metadata": {},
   "outputs": [],
   "source": [
    "merged = pd.merge(merged2017, merged2013, on = \"personid\")\n",
    "merged = pd.merge(merged, merged2007, on = \"personid\")\n"
   ]
  },
  {
   "cell_type": "code",
   "execution_count": 11,
   "metadata": {},
   "outputs": [],
   "source": [
    "def selfAssedHealth(row):\n",
    "    healthValues = {\"Excellent\" : 1, \"Good\" : 1, \"Fair\" : 1, \"Not so good\" : 0, \"Poor\" : 0,\n",
    "                    \"excellent\" : 1, \"good\" : 1, \"fair\" : 1, \"not so good\" : 0, \"poor\" : 0} \n",
    "    \n",
    "    return healthValues[row[\"gez3\"]]\n"
   ]
  },
  {
   "cell_type": "markdown",
   "metadata": {},
   "source": [
    "http://www.statsmodels.org/stable/discretemod.html"
   ]
  },
  {
   "cell_type": "code",
   "execution_count": 12,
   "metadata": {},
   "outputs": [],
   "source": [
    "merged2017[\"health\"] = merged2017.apply(selfAssedHealth, axis = 1)\n",
    "merged2013[\"health\"] = merged2013.apply(selfAssedHealth, axis = 1)\n",
    "merged2007[\"health\"] = merged2007.apply(selfAssedHealth, axis = 1)"
   ]
  },
  {
   "cell_type": "code",
   "execution_count": 13,
   "metadata": {},
   "outputs": [],
   "source": [
    "def dummyGroup(row):\n",
    "    if row[\"b26oga\"] == 1:\n",
    "        return 1\n",
    "    else:\n",
    "        return 0\n",
    "        "
   ]
  },
  {
   "cell_type": "code",
   "execution_count": 14,
   "metadata": {},
   "outputs": [],
   "source": [
    "merged2017[\"treated\"] = merged2017.apply(dummyGroup, axis = 1)\n",
    "merged2013[\"treated\"] = merged2013.apply(dummyGroup, axis = 1)\n",
    "merged2007[\"treated\"] = merged2007.apply(dummyGroup, axis = 1)\n"
   ]
  },
  {
   "cell_type": "code",
   "execution_count": 15,
   "metadata": {},
   "outputs": [],
   "source": [
    "merged2017[\"time\"] = 1\n",
    "merged2013[\"time\"] = 1\n",
    "merged2007[\"time\"] = 0"
   ]
  },
  {
   "cell_type": "code",
   "execution_count": 16,
   "metadata": {},
   "outputs": [],
   "source": [
    "def interaction(row):\n",
    "    return (row[\"time\"] * row[\"treated\"])"
   ]
  },
  {
   "cell_type": "code",
   "execution_count": 17,
   "metadata": {},
   "outputs": [],
   "source": [
    "merged2017[\"DID\"] = merged2017.apply(interaction, axis = 1)\n",
    "merged2013[\"DID\"] = merged2013.apply(interaction, axis = 1)\n",
    "merged2007[\"DID\"] = merged2007.apply(interaction, axis = 1)"
   ]
  },
  {
   "cell_type": "code",
   "execution_count": 18,
   "metadata": {},
   "outputs": [],
   "source": [
    "merged2017[\"2013\"] = 0\n",
    "merged2017[\"2017\"] = 1\n",
    "merged2013[\"2013\"] = 1\n",
    "merged2013[\"2017\"] = 0\n",
    "merged2007[\"2013\"] = 0\n",
    "merged2007[\"2017\"] = 0"
   ]
  },
  {
   "cell_type": "code",
   "execution_count": 19,
   "metadata": {},
   "outputs": [],
   "source": [
    "frames0713 = [merged2007, merged2013]\n",
    "frames0717 = [merged2007, merged2017]\n",
    "frames071317 = [merged2007, merged2013, merged2017]\n",
    "frames1317 = [merged2013, merged2017]\n",
    "list0713 = pd.concat(frames0713)\n",
    "list0717 = pd.concat(frames0717)\n",
    "list071317 = pd.concat(frames071317)\n",
    "list1317 = pd.concat(frames1317)"
   ]
  },
  {
   "cell_type": "code",
   "execution_count": 20,
   "metadata": {},
   "outputs": [
    {
     "name": "stderr",
     "output_type": "stream",
     "text": [
      "/home/niels/anaconda3/lib/python3.6/site-packages/pandas/io/stata.py:2086: InvalidColumnName: \n",
      "Not all pandas column names were valid Stata variable names.\n",
      "The following replacements have been made:\n",
      "\n",
      "    b'2013'   ->   _2013\n",
      "    b'2017'   ->   _2017\n",
      "\n",
      "If this is not what you expect, please make sure you have Stata-compliant\n",
      "column names in your DataFrame (strings only, max 32 characters, only\n",
      "alphanumerics and underscores, no Stata reserved words)\n",
      "\n",
      "  warnings.warn(ws, InvalidColumnName)\n"
     ]
    }
   ],
   "source": [
    "list0713.to_stata(\"list0713.dta\")\n",
    "list0717.to_stata(\"list0717.dta\")\n",
    "list071317.to_stata(\"list071317.dta\")\n",
    "list1317.to_stata(\"list1317.dta\")"
   ]
  },
  {
   "cell_type": "code",
   "execution_count": 29,
   "metadata": {},
   "outputs": [],
   "source": [
    "def nHealthy(data):\n",
    "    healthy = 0\n",
    "    unhealthy = 0\n",
    "    for x in range(0, data.shape[0] - 1):\n",
    "        if data.loc[x, \"selfAssessedHealth\"] == 1:\n",
    "            healthy += 1\n",
    "        else:\n",
    "            unhealthy += 1\n",
    "    print(\"aantal healthy: \" + str(healthy) + \" en aantal unhealthy: \" + str(unhealthy))"
   ]
  },
  {
   "cell_type": "code",
   "execution_count": 66,
   "metadata": {},
   "outputs": [
    {
     "name": "stdout",
     "output_type": "stream",
     "text": [
      "aantal healthy: 1574 en aantal unhealthy: 74\n"
     ]
    }
   ],
   "source": [
    "nHealthy(merged2013)"
   ]
  },
  {
   "cell_type": "code",
   "execution_count": 67,
   "metadata": {},
   "outputs": [
    {
     "name": "stdout",
     "output_type": "stream",
     "text": [
      "aantal healthy: 1731 en aantal unhealthy: 77\n"
     ]
    }
   ],
   "source": [
    "nHealthy(merged2007)"
   ]
  },
  {
   "cell_type": "code",
   "execution_count": 69,
   "metadata": {},
   "outputs": [
    {
     "name": "stdout",
     "output_type": "stream",
     "text": [
      "aantal healthy: 2091 en aantal unhealthy: 123\n"
     ]
    }
   ],
   "source": [
    "nHealthy(merged2017)"
   ]
  },
  {
   "cell_type": "code",
   "execution_count": 72,
   "metadata": {},
   "outputs": [],
   "source": [
    "frames = [merged2007, merged2013, merged2017]\n",
    "langeLijst = pd.concat(frames)"
   ]
  },
  {
   "cell_type": "code",
   "execution_count": 73,
   "metadata": {},
   "outputs": [],
   "source": [
    "langeLijst.to_stata(\"langeLijst.dta\")"
   ]
  },
  {
   "cell_type": "code",
   "execution_count": 26,
   "metadata": {},
   "outputs": [],
   "source": [
    "result = sm.ols(formula=\"health ~ time + treated + DID\", data=list1317).fit()\n"
   ]
  },
  {
   "cell_type": "code",
   "execution_count": 27,
   "metadata": {},
   "outputs": [
    {
     "name": "stdout",
     "output_type": "stream",
     "text": [
      "                            OLS Regression Results                            \n",
      "==============================================================================\n",
      "Dep. Variable:                 health   R-squared:                       0.004\n",
      "Model:                            OLS   Adj. R-squared:                  0.004\n",
      "Method:                 Least Squares   F-statistic:                     14.89\n",
      "Date:                Wed, 09 Jan 2019   Prob (F-statistic):           0.000116\n",
      "Time:                        12:43:17   Log-Likelihood:                 375.88\n",
      "No. Observations:                3864   AIC:                            -747.8\n",
      "Df Residuals:                    3862   BIC:                            -735.2\n",
      "Df Model:                           1                                         \n",
      "Covariance Type:            nonrobust                                         \n",
      "==============================================================================\n",
      "                 coef    std err          t      P>|t|      [0.025      0.975]\n",
      "------------------------------------------------------------------------------\n",
      "Intercept      0.4676      0.003    185.422      0.000       0.463       0.473\n",
      "time           0.4676      0.003    185.422      0.000       0.463       0.473\n",
      "treated        0.0136      0.004      3.859      0.000       0.007       0.021\n",
      "DID            0.0136      0.004      3.859      0.000       0.007       0.021\n",
      "==============================================================================\n",
      "Omnibus:                     3131.039   Durbin-Watson:                   2.001\n",
      "Prob(Omnibus):                  0.000   Jarque-Bera (JB):            44714.214\n",
      "Skew:                          -4.059   Prob(JB):                         0.00\n",
      "Kurtosis:                      17.554   Cond. No.                     3.54e+16\n",
      "==============================================================================\n",
      "\n",
      "Warnings:\n",
      "[1] Standard Errors assume that the covariance matrix of the errors is correctly specified.\n",
      "[2] The smallest eigenvalue is 8.14e-30. This might indicate that there are\n",
      "strong multicollinearity problems or that the design matrix is singular.\n"
     ]
    }
   ],
   "source": [
    "print(result.summary())"
   ]
  },
  {
   "cell_type": "code",
   "execution_count": 24,
   "metadata": {},
   "outputs": [],
   "source": [
    "result = sm.ols(formula=\"health ~ time + treated + DID\", data=list0717).fit()\n"
   ]
  },
  {
   "cell_type": "code",
   "execution_count": 25,
   "metadata": {},
   "outputs": [
    {
     "name": "stdout",
     "output_type": "stream",
     "text": [
      "                            OLS Regression Results                            \n",
      "==============================================================================\n",
      "Dep. Variable:                 health   R-squared:                       0.007\n",
      "Model:                            OLS   Adj. R-squared:                  0.006\n",
      "Method:                 Least Squares   F-statistic:                     9.420\n",
      "Date:                Wed, 09 Jan 2019   Prob (F-statistic):           3.35e-06\n",
      "Time:                        12:39:10   Log-Likelihood:                 446.31\n",
      "No. Observations:                4024   AIC:                            -884.6\n",
      "Df Residuals:                    4020   BIC:                            -859.4\n",
      "Df Model:                           3                                         \n",
      "Covariance Type:            nonrobust                                         \n",
      "==============================================================================\n",
      "                 coef    std err          t      P>|t|      [0.025      0.975]\n",
      "------------------------------------------------------------------------------\n",
      "Intercept      0.9487      0.007    136.641      0.000       0.935       0.962\n",
      "time          -0.0265      0.010     -2.748      0.006      -0.045      -0.008\n",
      "treated        0.0190      0.010      1.859      0.063      -0.001       0.039\n",
      "DID            0.0235      0.014      1.706      0.088      -0.003       0.050\n",
      "==============================================================================\n",
      "Omnibus:                     3291.756   Durbin-Watson:                   2.002\n",
      "Prob(Omnibus):                  0.000   Jarque-Bera (JB):            48831.381\n",
      "Skew:                          -4.101   Prob(JB):                         0.00\n",
      "Kurtosis:                      17.966   Cond. No.                         7.18\n",
      "==============================================================================\n",
      "\n",
      "Warnings:\n",
      "[1] Standard Errors assume that the covariance matrix of the errors is correctly specified.\n"
     ]
    }
   ],
   "source": [
    "print(result.summary())"
   ]
  },
  {
   "cell_type": "code",
   "execution_count": 18,
   "metadata": {},
   "outputs": [],
   "source": [
    "merged2017.to_stata(\"merged_data2017.dta\")\n",
    "merged2013.to_stata(\"merged_data2013.dta\")\n",
    "merged2007.to_stata(\"merged_data2007.dta\")"
   ]
  },
  {
   "cell_type": "code",
   "execution_count": null,
   "metadata": {},
   "outputs": [],
   "source": [
    "merged.to_stata(\"merged_data.dta\")"
   ]
  },
  {
   "cell_type": "code",
   "execution_count": null,
   "metadata": {},
   "outputs": [],
   "source": [
    "stats.chisqprob = lambda chisq, df: stats.chi2.sf(chisq, df)\n"
   ]
  },
  {
   "cell_type": "code",
   "execution_count": null,
   "metadata": {},
   "outputs": [],
   "source": []
  },
  {
   "cell_type": "code",
   "execution_count": null,
   "metadata": {},
   "outputs": [],
   "source": []
  }
 ],
 "metadata": {
  "kernelspec": {
   "display_name": "Python 3",
   "language": "python",
   "name": "python3"
  },
  "language_info": {
   "codemirror_mode": {
    "name": "ipython",
    "version": 3
   },
   "file_extension": ".py",
   "mimetype": "text/x-python",
   "name": "python",
   "nbconvert_exporter": "python",
   "pygments_lexer": "ipython3",
   "version": "3.6.4"
  }
 },
 "nbformat": 4,
 "nbformat_minor": 2
}
