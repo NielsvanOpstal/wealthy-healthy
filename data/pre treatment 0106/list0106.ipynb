{
 "cells": [
  {
   "cell_type": "code",
   "execution_count": 1,
   "metadata": {},
   "outputs": [],
   "source": [
    "import pandas as pd"
   ]
  },
  {
   "cell_type": "code",
   "execution_count": 14,
   "metadata": {},
   "outputs": [],
   "source": [
    "inc1 = pd.read_stata(\"inc2001en_2.0.dta\")\n",
    "inc6 = pd.read_stata(\"inc2006en_2.0.dta\")\n",
    "inc = [inc1, inc6]\n",
    "agw1 = pd.read_stata(\"agw2001.dta\")\n",
    "agw6 = pd.read_stata(\"agw2006.dta\")\n",
    "agw = [agw1, agw6]"
   ]
  },
  {
   "cell_type": "code",
   "execution_count": 15,
   "metadata": {},
   "outputs": [],
   "source": [
    "inc1 = inc1.loc[:,:\"gez9\"]\n",
    "inc6 = inc6.loc[:,:\"gez9\"]"
   ]
  },
  {
   "cell_type": "code",
   "execution_count": 16,
   "metadata": {},
   "outputs": [],
   "source": [
    "def idCalc(row):\n",
    "    return row[\"nohhold\"] * 100 + row[\"nomem\"]"
   ]
  },
  {
   "cell_type": "code",
   "execution_count": 25,
   "metadata": {},
   "outputs": [],
   "source": [
    "inc1[\"personid\"] = inc1.apply(idCalc, axis = 1)\n",
    "inc6[\"personid\"] = inc6.apply(idCalc, axis = 1)\n",
    "agw1[\"personid\"] = agw1.apply(idCalc, axis = 1)\n",
    "agw6[\"personid\"] = agw6.apply(idCalc, axis = 1)"
   ]
  },
  {
   "cell_type": "code",
   "execution_count": 18,
   "metadata": {},
   "outputs": [],
   "source": [
    "def selfAssedHealth(row):\n",
    "    healthValues = {\"Excellent\" : 1, \"Good\" : 1, \"Fair\" : 1, \"Not so good\" : 0, \"Poor\" : 0,\n",
    "                    \"excellent\" : 1, \"good\" : 1, \"fair\" : 1, \"not so good\" : 0, \"poor\" : 0} \n",
    "    \n",
    "    return healthValues[row[\"gez3\"]]"
   ]
  },
  {
   "cell_type": "code",
   "execution_count": 30,
   "metadata": {},
   "outputs": [],
   "source": [
    "inc1[\"selfAssessedHealth\"] = inc1.apply(selfAssedHealth, axis =1)\n",
    "inc6[\"selfAssessedHealth\"] = inc6.apply(selfAssedHealth, axis =1)"
   ]
  },
  {
   "cell_type": "code",
   "execution_count": 35,
   "metadata": {},
   "outputs": [],
   "source": [
    "merged2001 = pd.merge(inc1, agw1, on = \"personid\")\n",
    "merged2006 = pd.merge(inc6, agw6, on = \"personid\")"
   ]
  },
  {
   "cell_type": "code",
   "execution_count": 37,
   "metadata": {},
   "outputs": [],
   "source": [
    "merged2001[\"time\"] = 0\n",
    "merged2006[\"time\"] = 1"
   ]
  },
  {
   "cell_type": "code",
   "execution_count": 38,
   "metadata": {},
   "outputs": [],
   "source": [
    "frames = [merged2001, merged2006]\n",
    "list0106 = pd.concat(frames)"
   ]
  },
  {
   "cell_type": "code",
   "execution_count": 39,
   "metadata": {},
   "outputs": [],
   "source": [
    "list0106.to_stata(\"list0106.dta\")"
   ]
  },
  {
   "cell_type": "code",
   "execution_count": null,
   "metadata": {},
   "outputs": [],
   "source": []
  }
 ],
 "metadata": {
  "kernelspec": {
   "display_name": "Python 3",
   "language": "python",
   "name": "python3"
  },
  "language_info": {
   "codemirror_mode": {
    "name": "ipython",
    "version": 3
   },
   "file_extension": ".py",
   "mimetype": "text/x-python",
   "name": "python",
   "nbconvert_exporter": "python",
   "pygments_lexer": "ipython3",
   "version": "3.6.4"
  }
 },
 "nbformat": 4,
 "nbformat_minor": 2
}
